{
 "cells": [
  {
   "cell_type": "code",
   "execution_count": 1,
   "metadata": {},
   "outputs": [],
   "source": [
    "import numpy as np"
   ]
  },
  {
   "cell_type": "markdown",
   "metadata": {},
   "source": [
    "## Datos"
   ]
  },
  {
   "cell_type": "code",
   "execution_count": 12,
   "metadata": {},
   "outputs": [],
   "source": [
    "# Electronegatividad\n",
    "X = {\"CO\": {\"Xa\": 2.55, \"Xb\": 3.44}, \"NO\": {\"Xa\": 3.04, \"Xb\": 3.44},\n",
    "     \"SrO\": {\"Xa\": 0.95, \"Xb\": 3.44}, \"MgO\": {\"Xa\": 1.31, \"Xb\": 3.44}}\n",
    "\n",
    "# Distancia interatomica en angstroms\n",
    "d = {\"CO\": 1.1283, \"NO\": 1.15077, \"SrO\": 1.91983, \"MgO\": 1.749}\n",
    "\n",
    "# Momento dipolar en D\n",
    "mu_exp = {\"CO\": 0.122, \"NO\": 0.0, \"SrO\": 8.9, \"MgO\": 6.2}"
   ]
  },
  {
   "cell_type": "code",
   "execution_count": 10,
   "metadata": {},
   "outputs": [],
   "source": [
    "# Carga del electron\n",
    "e = 4.8e-10"
   ]
  },
  {
   "cell_type": "markdown",
   "metadata": {},
   "source": [
    "## Caracter iónico"
   ]
  },
  {
   "cell_type": "markdown",
   "metadata": {},
   "source": [
    "### Hann"
   ]
  },
  {
   "cell_type": "code",
   "execution_count": 11,
   "metadata": {},
   "outputs": [],
   "source": [
    "def pCI_h(Xa, Xb):\n",
    "    diff = np.abs(Xa-Xb)\n",
    "    return 16*diff + 3.5*diff**2"
   ]
  },
  {
   "cell_type": "code",
   "execution_count": 34,
   "metadata": {},
   "outputs": [
    {
     "data": {
      "text/plain": [
       "{'CO': 17.01235,\n",
       " 'NO': 6.959999999999998,\n",
       " 'SrO': 61.540350000000004,\n",
       " 'MgO': 49.959149999999994}"
      ]
     },
     "execution_count": 34,
     "metadata": {},
     "output_type": "execute_result"
    }
   ],
   "source": [
    "pCI_h_ = {molec:pCI_h(**X[molec]) for molec in X}\n",
    "pCI_h_"
   ]
  },
  {
   "cell_type": "markdown",
   "metadata": {},
   "source": [
    "### Lweis"
   ]
  },
  {
   "cell_type": "code",
   "execution_count": 8,
   "metadata": {},
   "outputs": [],
   "source": [
    "def pCI_l(Xa, Xb):\n",
    "    diff = np.abs(Xa-Xb)\n",
    "    return 100*(1-np.exp(-0.25*diff**2))"
   ]
  },
  {
   "cell_type": "code",
   "execution_count": 36,
   "metadata": {},
   "outputs": [
    {
     "data": {
      "text/plain": [
       "{'CO': 17.965065585213402,\n",
       " 'NO': 3.9210560847676823,\n",
       " 'SrO': 78.77573323062757,\n",
       " 'MgO': 67.83286799695526}"
      ]
     },
     "execution_count": 36,
     "metadata": {},
     "output_type": "execute_result"
    }
   ],
   "source": [
    "pCI_l_ = {molec:pCI_l(**X[molec]) for molec in X}\n",
    "pCI_l_"
   ]
  },
  {
   "cell_type": "markdown",
   "metadata": {},
   "source": [
    "## Momento dipolar (utilizando el %CI de Hanney)"
   ]
  },
  {
   "cell_type": "code",
   "execution_count": 51,
   "metadata": {},
   "outputs": [],
   "source": [
    "# Momento dipolar en D\n",
    "def mu(pCI, d):\n",
    "    # delta_AB * d_AB\n",
    "    delta = (pCI/100.0) * e\n",
    "    return delta * (d * 1e-8) / (1e-18)"
   ]
  },
  {
   "cell_type": "code",
   "execution_count": 52,
   "metadata": {},
   "outputs": [
    {
     "data": {
      "text/plain": [
       "{'CO': 0.92136165624,\n",
       " 'NO': 0.38444924159999994,\n",
       " 'SrO': 5.671056486744,\n",
       " 'MgO': 4.194170560800001}"
      ]
     },
     "execution_count": 52,
     "metadata": {},
     "output_type": "execute_result"
    }
   ],
   "source": [
    "{molec:mu(pCI_h_[molec], d[molec]) for molec in d}"
   ]
  },
  {
   "cell_type": "code",
   "execution_count": 53,
   "metadata": {},
   "outputs": [
    {
     "data": {
      "text/plain": [
       "{'CO': 0.122, 'NO': 0.0, 'SrO': 8.9, 'MgO': 6.2}"
      ]
     },
     "execution_count": 53,
     "metadata": {},
     "output_type": "execute_result"
    }
   ],
   "source": [
    "mu_exp"
   ]
  },
  {
   "cell_type": "markdown",
   "metadata": {},
   "source": [
    "----"
   ]
  },
  {
   "cell_type": "markdown",
   "metadata": {},
   "source": [
    "### Generar tablas LaTeX de resultados"
   ]
  },
  {
   "cell_type": "code",
   "execution_count": null,
   "metadata": {},
   "outputs": [],
   "source": []
  }
 ],
 "metadata": {
  "kernelspec": {
   "display_name": "Python 3",
   "language": "python",
   "name": "python3"
  },
  "language_info": {
   "codemirror_mode": {
    "name": "ipython",
    "version": 3
   },
   "file_extension": ".py",
   "mimetype": "text/x-python",
   "name": "python",
   "nbconvert_exporter": "python",
   "pygments_lexer": "ipython3",
   "version": "3.6.8"
  }
 },
 "nbformat": 4,
 "nbformat_minor": 2
}
