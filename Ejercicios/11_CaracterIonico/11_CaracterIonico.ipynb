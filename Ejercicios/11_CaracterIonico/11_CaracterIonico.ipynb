{
 "cells": [
  {
   "cell_type": "markdown",
   "metadata": {},
   "source": [
    "# Carácter iónico y momento dipolar"
   ]
  },
  {
   "cell_type": "markdown",
   "metadata": {},
   "source": [
    "Calcular, para CO, NO, SrO y MgO, el %CI por el método de Hanny y por el méodo de Pauling. El momento dipolar utilizando la estimación de %CI de Hanny y comparar con los valores experimentales reportados."
   ]
  },
  {
   "cell_type": "markdown",
   "metadata": {},
   "source": [
    "## a) Datos\n",
    "\n",
    "#### 1. Electronegatividad\n",
    "\n",
    "| Elemento | $\\chi$ |\n",
    "|---|---|\n",
    "| O | 3.44 |\n",
    "| C | 2.55 |\n",
    "| N | 3.04 |\n",
    "| Sr | 0.95 |\n",
    "| Mg | 1.31 |\n",
    "\n",
    "#### 2. Distancia interatómica en Angstroms\n",
    "\n",
    "| Molécula | $d$ (Å) | Fuente |\n",
    "|---|---|---|\n",
    "| CO | 1.1283 | [Carbon monoxide - Webbook](https://webbook.nist.gov/cgi/cbook.cgi?ID=C630080&Units=SI&Mask=1000#Diatomic) |\n",
    "| NO | 1.15077 | [Nitric oxide - Webbook](https://webbook.nist.gov/cgi/cbook.cgi?ID=C10102439&Mask=1000) |\n",
    "| SrO | 1.91983 | [Strontium monoxide - Webbook](https://webbook.nist.gov/cgi/cbook.cgi?ID=C1314110&Units=SI&Mask=1000#Dia9) |\n",
    "| MgO | 1.749 | [Magnesium oxide - Webbook](https://webbook.nist.gov/cgi/cbook.cgi?ID=C1309484&Units=SI&Mask=1000#ref-2) |\n",
    "\n",
    "\n",
    "#### 3. Momentos dipolares (en Debye) reportados\n",
    "\n",
    "| Molécula | $\\mu$ (D) | Fuente |\n",
    "|---|---|---|\n",
    "| CO | 0.122 | [Carbon monoxide - Webbook](https://webbook.nist.gov/cgi/cbook.cgi?ID=C630080&Mask=1000#Diatomic), [Carbon monoxide - Wikipedia](https://en.wikipedia.org/wiki/Carbon_monoxide) |\n",
    "| NO | 0.0 | [The Dipole Moment of Nitric Oxide, Smyth and McAlpine, 2004](https://aip.scitation.org/doi/10.1063/1.1749220) |\n",
    "| SrO | 8.9 | [Electronic Structure of SrO, Kaufman, Wharton, and Klemperer, 2004](https://aip.scitation.org/doi/10.1063/1.1696875) |\n",
    "| MgO | 6.2 | [Electric dipole moments of the MgO B1Σ+ and X1Σ+ states, Büsener, Heinrich and Hese, 1987](https://www.sciencedirect.com/science/article/abs/pii/0301010487850292) |"
   ]
  },
  {
   "cell_type": "code",
   "execution_count": 1,
   "metadata": {
    "hidePrompt": true
   },
   "outputs": [],
   "source": [
    "import numpy as np\n",
    "from tabulate import tabulate"
   ]
  },
  {
   "cell_type": "code",
   "execution_count": 2,
   "metadata": {
    "hidePrompt": true
   },
   "outputs": [],
   "source": [
    "# Electronegatividad\n",
    "X = {\"CO\": {\"Xa\": 2.55, \"Xb\": 3.44}, \"NO\": {\"Xa\": 3.04, \"Xb\": 3.44},\n",
    "     \"SrO\": {\"Xa\": 0.95, \"Xb\": 3.44}, \"MgO\": {\"Xa\": 1.31, \"Xb\": 3.44}}\n",
    "\n",
    "# Distancia interatomica en angstroms\n",
    "d = {\"CO\": 1.1283, \"NO\": 1.15077, \"SrO\": 1.91983, \"MgO\": 1.749}\n",
    "\n",
    "# Momento dipolar en D\n",
    "mu_exp = {\"CO\": 0.122, \"NO\": 0.0, \"SrO\": 8.9, \"MgO\": 6.2}"
   ]
  },
  {
   "cell_type": "code",
   "execution_count": 3,
   "metadata": {
    "hidePrompt": true
   },
   "outputs": [],
   "source": [
    "# Carga del electron\n",
    "e = 4.8e-10"
   ]
  },
  {
   "cell_type": "markdown",
   "metadata": {},
   "source": [
    "## b) Caracter iónico\n",
    "\n",
    "El %CI puede ser estimado por medio de la ecuación propuesta por Hanny:\n",
    "\n",
    "$$\\text{%CI}_{h} = 16 \\left| \\chi_a - \\chi_b \\right| + 3.5 \\left| \\chi_a - \\chi_b \\right|^2$$\n",
    "\n",
    "O por medio de la ecuación propuesta por Pauling:\n",
    "\n",
    "$$\\displaystyle \\text{%CI}_{p} = 100 \\left[ 1 - e^{-\\frac{1}{4} \\left( \\chi_a - \\chi_b \\right)^2} \\right]$$"
   ]
  },
  {
   "cell_type": "code",
   "execution_count": 4,
   "metadata": {
    "hidePrompt": true
   },
   "outputs": [],
   "source": [
    "# %CI de Hanny\n",
    "def pCI_h(Xa, Xb):\n",
    "    diff = np.abs(Xa-Xb)\n",
    "    return 16*diff + 3.5*diff**2"
   ]
  },
  {
   "cell_type": "code",
   "execution_count": 5,
   "metadata": {
    "hidePrompt": true
   },
   "outputs": [
    {
     "data": {
      "text/plain": [
       "{'CO': 17.01235,\n",
       " 'NO': 6.959999999999998,\n",
       " 'SrO': 61.540350000000004,\n",
       " 'MgO': 49.959149999999994}"
      ]
     },
     "execution_count": 5,
     "metadata": {},
     "output_type": "execute_result"
    }
   ],
   "source": [
    "pCI_h_ = {molec:pCI_h(**X[molec]) for molec in X}\n",
    "pCI_h_"
   ]
  },
  {
   "cell_type": "code",
   "execution_count": 6,
   "metadata": {
    "hidePrompt": true
   },
   "outputs": [],
   "source": [
    "# %CI de Pauling\n",
    "def pCI_l(Xa, Xb):\n",
    "    diff = np.abs(Xa-Xb)\n",
    "    return 100*(1-np.exp(-0.25*diff**2))"
   ]
  },
  {
   "cell_type": "code",
   "execution_count": 7,
   "metadata": {
    "hidePrompt": true
   },
   "outputs": [
    {
     "data": {
      "text/plain": [
       "{'CO': 17.965065585213402,\n",
       " 'NO': 3.9210560847676823,\n",
       " 'SrO': 78.77573323062757,\n",
       " 'MgO': 67.83286799695526}"
      ]
     },
     "execution_count": 7,
     "metadata": {},
     "output_type": "execute_result"
    }
   ],
   "source": [
    "pCI_l_ = {molec:pCI_l(**X[molec]) for molec in X}\n",
    "pCI_l_"
   ]
  },
  {
   "cell_type": "markdown",
   "metadata": {},
   "source": [
    "Así, para cda compuesto tenemos:\n",
    "\n",
    "| Molécula | %CI de Hanny | %CI de Pauling |\n",
    "|---|---|---|\n",
    "| CO | 17.0% | 18.0% |\n",
    "| NO | 7.0% | 3.9% |\n",
    "| SrO | 61.5% | 78.8% |\n",
    "| MgO | 50.0% | 67.8% |"
   ]
  },
  {
   "cell_type": "markdown",
   "metadata": {},
   "source": [
    "## c) Momento dipolar.\n",
    "\n",
    "A continuación se presenta el cálculo del momento dipolar utilizando la estimación de %CI de Hanney, y finalmente se compara con los valores experimentales reportados.\n"
   ]
  },
  {
   "cell_type": "code",
   "execution_count": 11,
   "metadata": {
    "hidePrompt": true
   },
   "outputs": [],
   "source": [
    "# Momento dipolar en D\n",
    "def mu(pCI, d):\n",
    "    # delta_AB * d_AB\n",
    "    delta = (pCI/100.0) * e\n",
    "    return delta * (d * 1e-8) / (1e-18)"
   ]
  },
  {
   "cell_type": "code",
   "execution_count": 12,
   "metadata": {
    "hidePrompt": true
   },
   "outputs": [
    {
     "data": {
      "text/plain": [
       "{'CO': 0.92136165624,\n",
       " 'NO': 0.38444924159999994,\n",
       " 'SrO': 5.671056486744,\n",
       " 'MgO': 4.194170560800001}"
      ]
     },
     "execution_count": 12,
     "metadata": {},
     "output_type": "execute_result"
    }
   ],
   "source": [
    "mu_ = {molec:mu(pCI_h_[molec], d[molec]) for molec in d}\n",
    "mu_ "
   ]
  },
  {
   "cell_type": "markdown",
   "metadata": {},
   "source": [
    "#### Diferencia porcentual $\\mu$ vs $\\mu_{exp}$"
   ]
  },
  {
   "cell_type": "code",
   "execution_count": 13,
   "metadata": {
    "hidePrompt": true
   },
   "outputs": [],
   "source": [
    "def p_diff(mu, mu_exp):\n",
    "    if mu_exp == 0:\n",
    "        return 'NA'\n",
    "    return \"{:0.0f}%\".format(100*(mu-mu_exp)/mu_exp)"
   ]
  },
  {
   "cell_type": "code",
   "execution_count": 14,
   "metadata": {
    "hidePrompt": true
   },
   "outputs": [
    {
     "data": {
      "text/plain": [
       "{'CO': '655%', 'NO': 'NA', 'SrO': '-36%', 'MgO': '-32%'}"
      ]
     },
     "execution_count": 14,
     "metadata": {},
     "output_type": "execute_result"
    }
   ],
   "source": [
    "p_diff_ = {molec:p_diff(mu_[molec], mu_exp[molec]) for molec in mu_}\n",
    "p_diff_"
   ]
  },
  {
   "cell_type": "markdown",
   "metadata": {},
   "source": [
    "| Molécula | $d$ (Å) | $\\mu$ | $\\mu_{exp}$ | $\\% \\Delta$ |\n",
    "|---|---|---|---|---|\n",
    "| CO | 1.1283 | 0.92 | 0.122 | 655% |\n",
    "| NO | 1.15077 | 0.38 | 0.0 | NA |\n",
    "| SrO | 1.91983 | 5.67 | 8.9 | -36% |\n",
    "| MgO | 1.749 | 4.19 | 6.2 | -32% |"
   ]
  }
 ],
 "metadata": {
  "kernelspec": {
   "display_name": "Python 3",
   "language": "python",
   "name": "python3"
  },
  "language_info": {
   "codemirror_mode": {
    "name": "ipython",
    "version": 3
   },
   "file_extension": ".py",
   "mimetype": "text/x-python",
   "name": "python",
   "nbconvert_exporter": "python",
   "pygments_lexer": "ipython3",
   "version": "3.6.8"
  }
 },
 "nbformat": 4,
 "nbformat_minor": 2
}
