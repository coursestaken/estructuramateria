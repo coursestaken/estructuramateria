{
 "cells": [
  {
   "cell_type": "code",
   "execution_count": 1,
   "metadata": {},
   "outputs": [],
   "source": [
    "import numpy as np\n",
    "from tabulate import tabulate"
   ]
  },
  {
   "cell_type": "markdown",
   "metadata": {},
   "source": [
    "## Datos"
   ]
  },
  {
   "cell_type": "code",
   "execution_count": 2,
   "metadata": {},
   "outputs": [],
   "source": [
    "# Electronegatividad\n",
    "X = {\"CO\": {\"Xa\": 2.55, \"Xb\": 3.44}, \"NO\": {\"Xa\": 3.04, \"Xb\": 3.44},\n",
    "     \"SrO\": {\"Xa\": 0.95, \"Xb\": 3.44}, \"MgO\": {\"Xa\": 1.31, \"Xb\": 3.44}}\n",
    "\n",
    "# Distancia interatomica en angstroms\n",
    "d = {\"CO\": 1.1283, \"NO\": 1.15077, \"SrO\": 1.91983, \"MgO\": 1.749}\n",
    "\n",
    "# Momento dipolar en D\n",
    "mu_exp = {\"CO\": 0.122, \"NO\": 0.0, \"SrO\": 8.9, \"MgO\": 6.2}"
   ]
  },
  {
   "cell_type": "code",
   "execution_count": 3,
   "metadata": {},
   "outputs": [],
   "source": [
    "# Carga del electron\n",
    "e = 4.8e-10"
   ]
  },
  {
   "cell_type": "markdown",
   "metadata": {},
   "source": [
    "## Caracter iónico"
   ]
  },
  {
   "cell_type": "markdown",
   "metadata": {},
   "source": [
    "### Hann"
   ]
  },
  {
   "cell_type": "code",
   "execution_count": 4,
   "metadata": {},
   "outputs": [],
   "source": [
    "def pCI_h(Xa, Xb):\n",
    "    diff = np.abs(Xa-Xb)\n",
    "    return 16*diff + 3.5*diff**2"
   ]
  },
  {
   "cell_type": "code",
   "execution_count": 5,
   "metadata": {},
   "outputs": [
    {
     "data": {
      "text/plain": [
       "{'CO': 17.01235,\n",
       " 'NO': 6.959999999999998,\n",
       " 'SrO': 61.540350000000004,\n",
       " 'MgO': 49.959149999999994}"
      ]
     },
     "execution_count": 5,
     "metadata": {},
     "output_type": "execute_result"
    }
   ],
   "source": [
    "pCI_h_ = {molec:pCI_h(**X[molec]) for molec in X}\n",
    "pCI_h_"
   ]
  },
  {
   "cell_type": "markdown",
   "metadata": {},
   "source": [
    "### Lweis"
   ]
  },
  {
   "cell_type": "code",
   "execution_count": 6,
   "metadata": {},
   "outputs": [],
   "source": [
    "def pCI_l(Xa, Xb):\n",
    "    diff = np.abs(Xa-Xb)\n",
    "    return 100*(1-np.exp(-0.25*diff**2))"
   ]
  },
  {
   "cell_type": "code",
   "execution_count": 7,
   "metadata": {},
   "outputs": [
    {
     "data": {
      "text/plain": [
       "{'CO': 17.965065585213402,\n",
       " 'NO': 3.9210560847676823,\n",
       " 'SrO': 78.77573323062757,\n",
       " 'MgO': 67.83286799695526}"
      ]
     },
     "execution_count": 7,
     "metadata": {},
     "output_type": "execute_result"
    }
   ],
   "source": [
    "pCI_l_ = {molec:pCI_l(**X[molec]) for molec in X}\n",
    "pCI_l_"
   ]
  },
  {
   "cell_type": "markdown",
   "metadata": {},
   "source": [
    "## Momento dipolar (utilizando el %CI de Hanney)"
   ]
  },
  {
   "cell_type": "code",
   "execution_count": 8,
   "metadata": {},
   "outputs": [],
   "source": [
    "# Momento dipolar en D\n",
    "def mu(pCI, d):\n",
    "    # delta_AB * d_AB\n",
    "    delta = (pCI/100.0) * e\n",
    "    return delta * (d * 1e-8) / (1e-18)"
   ]
  },
  {
   "cell_type": "code",
   "execution_count": 9,
   "metadata": {},
   "outputs": [
    {
     "data": {
      "text/plain": [
       "{'CO': 0.92136165624,\n",
       " 'NO': 0.38444924159999994,\n",
       " 'SrO': 5.671056486744,\n",
       " 'MgO': 4.194170560800001}"
      ]
     },
     "execution_count": 9,
     "metadata": {},
     "output_type": "execute_result"
    }
   ],
   "source": [
    "mu_ = {molec:mu(pCI_h_[molec], d[molec]) for molec in d}\n",
    "mu_ "
   ]
  },
  {
   "cell_type": "code",
   "execution_count": 10,
   "metadata": {},
   "outputs": [
    {
     "data": {
      "text/plain": [
       "{'CO': 0.122, 'NO': 0.0, 'SrO': 8.9, 'MgO': 6.2}"
      ]
     },
     "execution_count": 10,
     "metadata": {},
     "output_type": "execute_result"
    }
   ],
   "source": [
    "mu_exp"
   ]
  },
  {
   "cell_type": "markdown",
   "metadata": {},
   "source": [
    "### Diferencia porcentual $\\mu$ vs $\\mu_{exp}$"
   ]
  },
  {
   "cell_type": "code",
   "execution_count": 11,
   "metadata": {},
   "outputs": [],
   "source": [
    "def p_diff(mu, mu_exp):\n",
    "    if mu_exp == 0:\n",
    "        return 'NA'\n",
    "    return \"{:0.0f}%\".format(100*(mu-mu_exp)/mu_exp)"
   ]
  },
  {
   "cell_type": "code",
   "execution_count": 12,
   "metadata": {},
   "outputs": [
    {
     "data": {
      "text/plain": [
       "{'CO': '655%', 'NO': 'NA', 'SrO': '-36%', 'MgO': '-32%'}"
      ]
     },
     "execution_count": 12,
     "metadata": {},
     "output_type": "execute_result"
    }
   ],
   "source": [
    "p_diff_ = {molec:p_diff(mu_[molec], mu_exp[molec]) for molec in mu_}\n",
    "p_diff_"
   ]
  },
  {
   "cell_type": "markdown",
   "metadata": {},
   "source": [
    "----"
   ]
  },
  {
   "cell_type": "markdown",
   "metadata": {},
   "source": [
    "### Generar tablas LaTeX de resultados"
   ]
  },
  {
   "cell_type": "markdown",
   "metadata": {},
   "source": [
    "### %CI"
   ]
  },
  {
   "cell_type": "code",
   "execution_count": 21,
   "metadata": {},
   "outputs": [],
   "source": [
    "table_pCI = []\n",
    "header_pCI = [\"Molécula\", \"$\\%\\text{CI}_{H}$\", \"\\%\\text{CI}_{L}\"]\n",
    "for molec in X:\n",
    "    table_pCI.append([molec, \"{:0.1f}%\".format(pCI_h_[molec]), \"{:0.1f}%\".format(pCI_l_[molec])])"
   ]
  },
  {
   "cell_type": "code",
   "execution_count": 22,
   "metadata": {},
   "outputs": [
    {
     "data": {
      "text/plain": [
       "[['CO', '17.0%', '18.0%'],\n",
       " ['NO', '7.0%', '3.9%'],\n",
       " ['SrO', '61.5%', '78.8%'],\n",
       " ['MgO', '50.0%', '67.8%']]"
      ]
     },
     "execution_count": 22,
     "metadata": {},
     "output_type": "execute_result"
    }
   ],
   "source": [
    "table_pCI"
   ]
  },
  {
   "cell_type": "code",
   "execution_count": 23,
   "metadata": {},
   "outputs": [
    {
     "name": "stdout",
     "output_type": "stream",
     "text": [
      "\\begin{tabular}{lll}\n",
      "\\hline\n",
      " Molécula   & \\$\\textbackslash{}\\%\text\\{CI\\}\\_\\{H\\}\\$       & \\textbackslash{}\\%\text\\{CI\\}\\_\\{L\\}       \\\\\n",
      "\\hline\n",
      " CO         & 17.0\\% & 18.0\\% \\\\\n",
      " NO         & 7.0\\%  & 3.9\\%  \\\\\n",
      " SrO        & 61.5\\% & 78.8\\% \\\\\n",
      " MgO        & 50.0\\% & 67.8\\% \\\\\n",
      "\\hline\n",
      "\\end{tabular}\n"
     ]
    }
   ],
   "source": [
    "print(tabulate(table_pCI, headers=header_pCI, tablefmt=\"latex\"))"
   ]
  },
  {
   "cell_type": "markdown",
   "metadata": {},
   "source": [
    "### Momento dipolar"
   ]
  },
  {
   "cell_type": "code",
   "execution_count": 15,
   "metadata": {},
   "outputs": [],
   "source": [
    "table_mu = []\n",
    "header_mu = [\"Molécula\", \"d\", \"\\mu\", \"\\mu_{exp}\", \"a\"]\n",
    "for molec in mu_exp:\n",
    "    table_mu.append([molec, \"{}\".format(d[molec]),\n",
    "                     \"{:0.2f}\".format(mu_[molec]),\n",
    "                     \"{}\".format(mu_exp[molec]),\n",
    "                     p_diff_[molec]\n",
    "                    ])"
   ]
  },
  {
   "cell_type": "code",
   "execution_count": 16,
   "metadata": {},
   "outputs": [
    {
     "data": {
      "text/plain": [
       "[['CO', '1.1283', '0.92', '0.122', '655%'],\n",
       " ['NO', '1.15077', '0.38', '0.0', 'NA'],\n",
       " ['SrO', '1.91983', '5.67', '8.9', '-36%'],\n",
       " ['MgO', '1.749', '4.19', '6.2', '-32%']]"
      ]
     },
     "execution_count": 16,
     "metadata": {},
     "output_type": "execute_result"
    }
   ],
   "source": [
    "table_mu"
   ]
  },
  {
   "cell_type": "code",
   "execution_count": null,
   "metadata": {},
   "outputs": [],
   "source": []
  }
 ],
 "metadata": {
  "kernelspec": {
   "display_name": "Python 3",
   "language": "python",
   "name": "python3"
  },
  "language_info": {
   "codemirror_mode": {
    "name": "ipython",
    "version": 3
   },
   "file_extension": ".py",
   "mimetype": "text/x-python",
   "name": "python",
   "nbconvert_exporter": "python",
   "pygments_lexer": "ipython3",
   "version": "3.6.8"
  }
 },
 "nbformat": 4,
 "nbformat_minor": 2
}
