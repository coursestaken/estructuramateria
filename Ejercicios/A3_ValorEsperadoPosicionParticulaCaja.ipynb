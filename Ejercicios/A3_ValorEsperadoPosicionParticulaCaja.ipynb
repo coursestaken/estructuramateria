{
 "cells": [
  {
   "cell_type": "code",
   "execution_count": 1,
   "metadata": {},
   "outputs": [],
   "source": [
    "from sympy import *"
   ]
  },
  {
   "cell_type": "code",
   "execution_count": 13,
   "metadata": {},
   "outputs": [],
   "source": [
    "x = symbols('x')\n",
    "A = symbols('A') # n*pi/l\n",
    "B = symbols('B') # (2/l)^(1/2)\n",
    "n = symbols('n')\n",
    "l = symbols('l')"
   ]
  },
  {
   "cell_type": "code",
   "execution_count": 21,
   "metadata": {},
   "outputs": [
    {
     "data": {
      "text/latex": [
       "$\\displaystyle \\sqrt{2} \\sqrt{\\frac{1}{l}} \\sin{\\left(\\frac{\\pi n x}{l} \\right)}$"
      ],
      "text/plain": [
       "sqrt(2)*sqrt(1/l)*sin(pi*n*x/l)"
      ]
     },
     "execution_count": 21,
     "metadata": {},
     "output_type": "execute_result"
    }
   ],
   "source": [
    "psi_n = sqrt(2/l) * sin(n*pi*x/l)\n",
    "psi_n"
   ]
  },
  {
   "cell_type": "code",
   "execution_count": 41,
   "metadata": {},
   "outputs": [
    {
     "data": {
      "text/latex": [
       "$\\displaystyle \\begin{cases} \\frac{l \\left(\\pi^{2} n^{2} - \\pi n \\sin{\\left(2 \\pi n \\right)} - \\cos^{2}{\\left(\\pi n \\right)} + 1\\right)}{2 \\pi^{2} n^{2}} & \\text{for}\\: n > -\\infty \\wedge n < \\infty \\wedge n \\neq 0 \\\\0 & \\text{otherwise} \\end{cases}$"
      ],
      "text/plain": [
       "Piecewise((l*(pi**2*n**2 - pi*n*sin(2*pi*n) - cos(pi*n)**2 + 1)/(2*pi**2*n**2), (n > -oo) & (n < oo) & Ne(n, 0)), (0, True))"
      ]
     },
     "execution_count": 41,
     "metadata": {},
     "output_type": "execute_result"
    }
   ],
   "source": [
    "E_x = simplify(integrate(x*psi_n*psi_n, (x, 0, l)))\n",
    "E_x"
   ]
  },
  {
   "cell_type": "code",
   "execution_count": 45,
   "metadata": {},
   "outputs": [
    {
     "data": {
      "text/latex": [
       "$\\displaystyle 1.25 \\cdot 10^{-10}$"
      ],
      "text/plain": [
       "1.25000000000000e-10"
      ]
     },
     "execution_count": 45,
     "metadata": {},
     "output_type": "execute_result"
    }
   ],
   "source": [
    "E_x.subs({n: 5, l: 2.5e-10})"
   ]
  },
  {
   "cell_type": "code",
   "execution_count": 46,
   "metadata": {},
   "outputs": [
    {
     "data": {
      "text/latex": [
       "$\\displaystyle \\begin{cases} \\frac{l^{2} \\left(\\frac{\\pi^{3} n^{3}}{3} - \\frac{\\pi^{2} n^{2} \\sin{\\left(2 \\pi n \\right)}}{2} - \\frac{\\pi n \\cos{\\left(2 \\pi n \\right)}}{2} + \\frac{\\sin{\\left(2 \\pi n \\right)}}{4}\\right)}{\\pi^{3} n^{3}} & \\text{for}\\: n > -\\infty \\wedge n < \\infty \\wedge n \\neq 0 \\\\0 & \\text{otherwise} \\end{cases}$"
      ],
      "text/plain": [
       "Piecewise((l**2*(pi**3*n**3/3 - pi**2*n**2*sin(2*pi*n)/2 - pi*n*cos(2*pi*n)/2 + sin(2*pi*n)/4)/(pi**3*n**3), (n > -oo) & (n < oo) & Ne(n, 0)), (0, True))"
      ]
     },
     "execution_count": 46,
     "metadata": {},
     "output_type": "execute_result"
    }
   ],
   "source": [
    "E_xx = simplify(integrate(x*x*psi_n*psi_n, (x, 0, l)))\n",
    "E_xx"
   ]
  },
  {
   "cell_type": "code",
   "execution_count": 51,
   "metadata": {},
   "outputs": [
    {
     "data": {
      "text/latex": [
       "$\\displaystyle 2.07066947774943 \\cdot 10^{-20}$"
      ],
      "text/plain": [
       "2.07066947774943e-20"
      ]
     },
     "execution_count": 51,
     "metadata": {},
     "output_type": "execute_result"
    }
   ],
   "source": [
    "simplify(E_xx.subs({n: 5, l: 2.5e-10, pi: 3.141592}))"
   ]
  }
 ],
 "metadata": {
  "kernelspec": {
   "display_name": "Python 3",
   "language": "python",
   "name": "python3"
  },
  "language_info": {
   "codemirror_mode": {
    "name": "ipython",
    "version": 3
   },
   "file_extension": ".py",
   "mimetype": "text/x-python",
   "name": "python",
   "nbconvert_exporter": "python",
   "pygments_lexer": "ipython3",
   "version": "3.6.8"
  }
 },
 "nbformat": 4,
 "nbformat_minor": 2
}
