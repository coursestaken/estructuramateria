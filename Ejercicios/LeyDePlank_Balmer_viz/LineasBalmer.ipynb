{
 "cells": [
  {
   "cell_type": "markdown",
   "metadata": {},
   "source": [
    "# Líneas de Balmer"
   ]
  },
  {
   "cell_type": "markdown",
   "metadata": {},
   "source": [
    "En física atómica, la serie de Balmer1​ es el conjunto de líneas que resultan de la emisión del átomo de hidrógeno cuando un electrón transita desde un nivel n ≥ 3 a n = 2 (donde n representa el número cuántico principal referente al nivel de energía del electrón). Las transiciones son denominadas secuencialmente por letras griegas: desde n = 3 a n = 2 es llamada H-alpha, 4 a 2 es H-beta, 5 a 2 es H-gamma, etc.\n",
    "\n",
    "La longitud de onda, para cada línea de Balmer, se puede calcular mediante:\n",
    "\n",
    "$$\\frac{1}{\\lambda} = R_H \\left( \\frac{1}{2^2} - \\frac{1}{n_{2}^2} \\right)$$\n",
    "\n",
    "donde $R_{H}$ es la constante de Rydberg para el hidrógeno (aproximadamente $109,677 \\mathrm{cm}^{-1}$, o $1.097 x 10^7 \\mathrm{m}^{-1}$), y $n_2$ un entero mayor que 2.\n",
    "\n",
    "### Referencia:\n",
    "\n",
    "+ [Líneas de Balmer](https://es.wikipedia.org/wiki/L%C3%ADneas_de_Balmer)"
   ]
  },
  {
   "cell_type": "code",
   "execution_count": 1,
   "metadata": {},
   "outputs": [
    {
     "name": "stdout",
     "output_type": "stream",
     "text": [
      "Populating the interactive namespace from numpy and matplotlib\n"
     ]
    }
   ],
   "source": [
    "import numpy as np\n",
    "import matplotlib.pyplot as plt\n",
    "%pylab inline"
   ]
  },
  {
   "cell_type": "code",
   "execution_count": 2,
   "metadata": {},
   "outputs": [],
   "source": [
    "pylab.rcParams['figure.figsize'] = (10.0, 3.0)"
   ]
  },
  {
   "cell_type": "markdown",
   "metadata": {},
   "source": [
    "## Ecuación de Balmer"
   ]
  },
  {
   "cell_type": "code",
   "execution_count": 3,
   "metadata": {},
   "outputs": [],
   "source": [
    "# Constante de Rydberg para el hidrógeno 109,677.581 cm^-1\n",
    "Rh = 10967758.1 # m^-1\n",
    "\n",
    "def LB(n2):\n",
    "    return Rh * (0.25 - 1.0/(n2**2))"
   ]
  },
  {
   "cell_type": "markdown",
   "metadata": {},
   "source": [
    "## Visualización de las líneas e Balmer"
   ]
  },
  {
   "cell_type": "code",
   "execution_count": 6,
   "metadata": {},
   "outputs": [],
   "source": [
    "n2 = np.arange(3, 18)\n",
    "lines_x = LB(n2)"
   ]
  },
  {
   "cell_type": "markdown",
   "metadata": {},
   "source": [
    "### $\\cdot 1/\\lambda$"
   ]
  },
  {
   "cell_type": "code",
   "execution_count": 9,
   "metadata": {},
   "outputs": [
    {
     "data": {
      "image/png": "[encoded data removed]",
      "text/plain": [
       "<Figure size 720x216 with 1 Axes>"
      ]
     },
     "metadata": {
      "needs_background": "light"
     },
     "output_type": "display_data"
    }
   ],
   "source": [
    "for x in lines_x:\n",
    "    plt.axvline(x=x)\n",
    "\n",
    "\n",
    "base_fsize = 14\n",
    "plt.rc('axes', labelsize=base_fsize+4)\n",
    "plt.xlabel('$1/\\lambda$')\n",
    "plt.yticks([])\n",
    "#plt.xlim(right=xlim_right)\n",
    "plt.show()"
   ]
  },
  {
   "cell_type": "markdown",
   "metadata": {},
   "source": [
    "### $\\cdot \\lambda$"
   ]
  },
  {
   "cell_type": "code",
   "execution_count": 10,
   "metadata": {},
   "outputs": [
    {
     "data": {
      "image/png": "[encoded data removed]",
      "text/plain": [
       "<Figure size 720x216 with 1 Axes>"
      ]
     },
     "metadata": {
      "needs_background": "light"
     },
     "output_type": "display_data"
    }
   ],
   "source": [
    "for x in lines_x:\n",
    "    plt.axvline(x=(1/x))\n",
    "\n",
    "base_fsize = 14\n",
    "plt.rc('axes', labelsize=base_fsize+4)\n",
    "plt.xlabel('$\\lambda$')\n",
    "plt.yticks([])\n",
    "plt.xlim(left=3.6e-07, right=7e-07)\n",
    "plt.show()"
   ]
  },
  {
   "cell_type": "code",
   "execution_count": 22,
   "metadata": {},
   "outputs": [
    {
     "name": "stdout",
     "output_type": "stream",
     "text": [
      "6.564696207149207e-07\n",
      "4.862737931221636e-07\n",
      "4.341730295733603e-07\n",
      "4.1029351294682554e-07\n",
      "3.9712359771643357e-07\n",
      "3.890190344977308e-07\n",
      "3.836510770411875e-07\n",
      "3.7990140087669033e-07\n",
      "3.771739036396268e-07\n",
      "3.7512549755138327e-07\n",
      "3.735466865347529e-07\n",
      "3.723033728591565e-07\n",
      "3.7130634655821307e-07\n",
      "3.7049431856926747e-07\n",
      "3.6982401634817175e-07\n"
     ]
    }
   ],
   "source": [
    "for x in lines_x:\n",
    "    print(1/x)"
   ]
  }
 ],
 "metadata": {
  "kernelspec": {
   "display_name": "Python 3",
   "language": "python",
   "name": "python3"
  },
  "language_info": {
   "codemirror_mode": {
    "name": "ipython",
    "version": 3
   },
   "file_extension": ".py",
   "mimetype": "text/x-python",
   "name": "python",
   "nbconvert_exporter": "python",
   "pygments_lexer": "ipython3",
   "version": "3.6.8"
  }
 },
 "nbformat": 4,
 "nbformat_minor": 2
}
