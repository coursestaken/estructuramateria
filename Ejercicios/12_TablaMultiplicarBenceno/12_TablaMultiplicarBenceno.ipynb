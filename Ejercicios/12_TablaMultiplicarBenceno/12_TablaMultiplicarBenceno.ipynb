{
 "cells": [
  {
   "cell_type": "markdown",
   "metadata": {},
   "source": [
    "# Tabla de multiplicar del benceno. Simetría."
   ]
  },
  {
   "cell_type": "markdown",
   "metadata": {},
   "source": [
    "<img src=\"media/benceno.png\" style=\"height: 6cm;\">"
   ]
  },
  {
   "cell_type": "markdown",
   "metadata": {},
   "source": [
    "Las 24 operaciones de simetría identificadas en el benceno, y con las que se construirá su tabla de multiplicar son:\n",
    "\n",
    "+ 1 identidad: $\\left\\{ E \\right\\}$\n",
    "+ 5 rotaciones $C_6$ alrededor del eje **Z**: $\\left\\{ C_6, C^2_6, C^3_6, C^4_6, C^5_6 \\right\\}$\n",
    "+ 3 rotaciones $C_2$ alrededor de los ejes colineales con los enlaces **C-H**: $\\left\\{ C^{(1)}_2, C^{(2)}_2, C^{(3)}_2 \\right\\}$\n",
    "+ 3 rotaciones $C_2$ alrededor de los ejes que atraviesan los enlaces **C-C**: $\\left\\{ C^{(12)}_2, C^{(23)}_2, C^{(34)}_2 \\right\\}$\n",
    "+ 1 reflexión horizontal: $\\left\\{ \\sigma_h \\right\\}$\n",
    "+ 3 reflexiones en los planos verticales que contienen a los enlaces **C-H**: $\\left\\{ \\sigma^1_v, \\sigma^2_v, \\sigma^3_v \\right\\}$\n",
    "+ 3 reflexiones en los planos verticales que contienen a los enlaces **C-C** (diedrales): $\\left\\{ \\sigma^{12}_d, \\sigma^{23}_d, \\sigma^{34}_d \\right\\}$\n",
    "+ 4 rotaciones impropias $S_6$: $\\left\\{ S_6, S^2_6, S^4_6, S^5_6 \\right\\}$\n",
    "+ 1 inversión: $\\left\\{ i \\right\\}$\n",
    "\n",
    "Si bien es posible encontrar algunas otras operaciones aplicables al benceno, estas tienen equivalencias en las ya consideradas, tal es el caso de:\n",
    "\n",
    "+ 2 rotaciones $C_3$ alrededor del eje **Z**: $\\left\\{ C_3, C^2_3 \\right\\}$. Donde $C_3 = C^2_6$ y $C^2_3 = C^4_6$\n",
    "+ 1 rotación $C_2$ alrededor del eje **Z**: $\\left\\{ C^Z_2 \\right\\}$. Donde $C^Z_2 = C^6_3$\n",
    "+ 2 rotaciones impropias $S_3$: $\\left\\{ S_3, S^2_3 \\right\\}$. Donde $S_3 = S^2_6$ y $S^2_3 = S^4_6$"
   ]
  },
  {
   "cell_type": "markdown",
   "metadata": {},
   "source": [
    "##### Ejes y planos identificados en el benceno\n",
    "\n",
    "<img src=\"media/ejesyplanos.png\">\n",
    "\n",
    "[Ampliar imagen](media/ejesyplanos.png)"
   ]
  },
  {
   "cell_type": "markdown",
   "metadata": {},
   "source": [
    "## 1. Tabla de multiplicar"
   ]
  },
  {
   "cell_type": "markdown",
   "metadata": {},
   "source": [
    "<img src=\"media/tabla_mult.png\">\n",
    "\n",
    "[Ampliar tabla de multiplicar](media/tabla_mult.png)"
   ]
  },
  {
   "cell_type": "markdown",
   "metadata": {},
   "source": [
    "## 2. Herramientas para la determinación de los elementos de la tabla"
   ]
  },
  {
   "cell_type": "markdown",
   "metadata": {},
   "source": [
    "Para la determinación de los elementos de la tabla se utilizará (en los casos pertinentes) la representación matricial de cada una de las operaciones de simetría involucradas.\n",
    "\n",
    "Una vez efectuada la secuencia de operaciones indicada en la tabla, el resultado (matricial) sera comparado con la lista de matrices que representa las operaciones para así encontrar a que operación corresponde la operación efectuada.\n",
    "\n",
    "A continuación se codifica la serie de matrices involucradas y se crean las rutivas de búsqueda de coincidencias involucradas en la determinación de los elementos de la tabla.\n",
    "\n",
    "----\n",
    "\n",
    "Las expresiones matriciales para las operaciones de rotación y reflexión pueden consultarse en [Transformation matrix - Wikipedia](https://en.wikipedia.org/wiki/Transformation_matrix#Reflection_2)."
   ]
  },
  {
   "cell_type": "code",
   "execution_count": 5,
   "metadata": {},
   "outputs": [],
   "source": [
    "import numpy as np\n",
    "from numpy import pi as pi"
   ]
  },
  {
   "cell_type": "code",
   "execution_count": 6,
   "metadata": {},
   "outputs": [],
   "source": [
    "# remplaza los numeros reales cercanos a cero por cero entero\n",
    "def chop(A, eps = 1e-10, ncs = 4):\n",
    "    B = np.copy(A)\n",
    "    B[np.abs(A) < eps] = 0\n",
    "    return np.round(B, ncs)\n",
    "\n",
    "# producto matricial\n",
    "def dot(A, B):\n",
    "    return chop(A.dot(B))\n",
    "\n",
    "# producto de tres matricial\n",
    "def dot3(A, B, C):\n",
    "    BC = chop(B.dot(C))\n",
    "    return chop(A.dot(BC))\n",
    "\n",
    "# determina si la matriz elem es igual a alguna de las matrices en op_dict\n",
    "def array_match(elem, op_dict):\n",
    "    for key in op_dict:\n",
    "        if np.array_equal(elem, op_dict[key]):\n",
    "            return key\n",
    "            break\n",
    "    return \"NoOp\"\n",
    "\n",
    "def array_multimatch(elem, op_dict):\n",
    "    match_keys = []\n",
    "    for key in op_dict:\n",
    "        if np.array_equal(elem, op_dict[key]):\n",
    "            match_keys.append(key)\n",
    "    return match_keys\n",
    "\n",
    "# imprime el resultado del match con formato\n",
    "def match(elem, op_dict, v=False):\n",
    "    res = array_multimatch(elem, op_dict)\n",
    "    if res:\n",
    "        if len(res) == 1:\n",
    "            print(\"El nuevo elemento es equivalente a: {}\\n\".format(res[0]))\n",
    "        else:\n",
    "            multi = \", \".join(res)\n",
    "            print(\"El nuevo elemento es equivalente a: {}\\n\".format(multi))\n",
    "    else:\n",
    "        print(\"El diccionario de operaciones NO contiene ninguna operación equivalente al nuevo elemento\\n\")\n",
    "    \n",
    "        \n",
    "def match_fmr(elem, op_dict, v=False):\n",
    "    res = array_match(elem, op_dict)\n",
    "    if res in op_dict:\n",
    "        print(\"El nuevo elemento es equivalente a: {}\\n\".format(res))\n",
    "    else:\n",
    "        print(\"El diccionario de operaciones NO contiene ninguna operación equivalente al nuevo elemento\\n\")\n",
    "    \n",
    "    if v:\n",
    "        print(\"Nuevo elemento:\\n\")\n",
    "        print(elem)\n",
    "        if res in op_dict:\n",
    "            print(\"\\nOperacion equivalente {}:\\n\".format(res))\n",
    "            print(op_dict[res])"
   ]
  },
  {
   "cell_type": "code",
   "execution_count": 7,
   "metadata": {},
   "outputs": [],
   "source": [
    "# OPERACIONES BÁSICAS\n",
    "\n",
    "# identidad\n",
    "E = np.array([[1,0,0],[0,1,0],[0,0,1]])\n",
    "\n",
    "# inversion\n",
    "i = np.array([[-1,0,0],[0,-1,0],[0,0,-1]])\n",
    "\n",
    "# reflexión en plano horixontal\n",
    "sig_h = np.array([[1,0,0],[0,1,0],[0,0,-1]])\n",
    "\n",
    "# reflexión en plano vertical xz\n",
    "sig_v_xz = np.array([[1,0,0],[0,-1,0],[0,0,1]])\n",
    "\n",
    "# matriz de reflexion a travpes de un plano definido por su normal u = (ux, uy, uz)\n",
    "def sig(u):\n",
    "    ux, uy, uz = u\n",
    "    return chop(np.array([\n",
    "        [1-2*ux*ux, -2*ux*uy, -2*ux*uz],\n",
    "        [-2*ux*uy, 1-2*uy*uy, -2*uy*uz],\n",
    "        [-2*ux*uz, -2*uy*uz, 1-2*uz*uz]\n",
    "    ]))\n",
    "\n",
    "# matriz de rotación al rededor del eje Z\n",
    "def Rz(theta):\n",
    "    return chop(np.array([[np.cos(theta), -np.sin(theta), 0],[np.sin(theta), np.cos(theta), 0],[0,0,1]]))\n",
    "\n",
    "# matriz de rotación al rededor del eje X\n",
    "def Rx(theta):\n",
    "    return chop(np.array([[1,0,0],[0, np.cos(theta), -np.sin(theta)],[0, np.sin(theta), np.cos(theta)]]))\n",
    "\n",
    "# matriz de rotacion alrededor de un eje arbitrario definido por el vector unitario u = (ux, uy, uz)\n",
    "def Ra(u, theta):\n",
    "    l, m, n = u\n",
    "    cos = np.cos(theta)\n",
    "    um_cos = 1.0 - np.cos(theta)\n",
    "    sin = np.sin(theta)\n",
    "    return chop(np.array([\n",
    "        [l*l*um_cos + cos, m*l*um_cos - n*sin, n*l*um_cos + m*sin],\n",
    "        [l*m*um_cos + n*sin, m*m*um_cos + cos, n*m*um_cos - l*sin],\n",
    "        [l*n*um_cos - m*sin, m*n*um_cos + l*sin, n*n*um_cos + cos]\n",
    "    ]))"
   ]
  },
  {
   "cell_type": "code",
   "execution_count": 8,
   "metadata": {},
   "outputs": [],
   "source": [
    "# OPERACIONES COMPUESTAS\n",
    "\n",
    "# C6\n",
    "C6 = Rz((1/6)*2*pi)\n",
    "C6_2 = Rz((2/6)*2*pi)\n",
    "C6_3 = Rz((3/6)*2*pi)\n",
    "C6_4 = Rz((4/6)*2*pi)\n",
    "C6_5 = Rz((5/6)*2*pi)\n",
    "\n",
    "# Ejes de rotacion colineales con los enlaces C-H\n",
    "E_CH1 = np.array([0,1,0])\n",
    "E_CH2 = np.array([np.cos(pi/6),np.sin(pi/6),0])\n",
    "E_CH3 = np.array([np.cos(-pi/6),np.sin(-pi/6),0])\n",
    "# Rotaciones C2 en ejes perpendiculares al principal, sobre los enlaces C-H\n",
    "C2_1 = Ra(E_CH1, pi)\n",
    "C2_2 = Ra(E_CH2, pi)\n",
    "C2_3 = Ra(E_CH3, pi)\n",
    "\n",
    "# Ejes de rotacion que atraviesan los enlaces C-C\n",
    "E_d12 = np.array([np.cos(pi/3),np.sin(pi/3),0])\n",
    "E_d23 = np.array([1,0,0])\n",
    "E_d34 = np.array([np.cos(-pi/3),np.sin(-pi/3),0])\n",
    "# Rotaciones C2 en ejes perpendiculares al principal, sobre los enlaces C-C\n",
    "C2_12 = Ra(E_d12, pi)\n",
    "C2_23 = Ra(E_d23, pi)\n",
    "C2_34 = Ra(E_d34, pi)\n",
    "\n",
    "# Reflexiones en los planos verticales que contienen a los enlaces C-H\n",
    "sig_v_1 = sig(E_d23)\n",
    "sig_v_2 = sig(E_d34)\n",
    "sig_v_3 = sig(E_d12)\n",
    "\n",
    "# Reflexiones en los planos verticales que contienen a los enlaces C-C (diedrales)\n",
    "sig_d_12 = sig(E_CH3)\n",
    "sig_d_23 = sig(E_CH1)\n",
    "sig_d_34 = sig(E_CH2)\n",
    "\n",
    "# Rotaciones impropias\n",
    "S6 = dot(sig_h, C6)\n",
    "S6_2 = dot(sig_h, C6_2)\n",
    "S6_3 = dot(sig_h, C6_3)\n",
    "S6_4 = dot(sig_h, C6_4)\n",
    "S6_5 = dot(sig_h, C6_5)"
   ]
  },
  {
   "cell_type": "code",
   "execution_count": 9,
   "metadata": {},
   "outputs": [
    {
     "name": "stdout",
     "output_type": "stream",
     "text": [
      "[[ 0.         0.8660254  0.8660254  0.        -0.8660254 -0.8660254]\n",
      " [ 1.         0.5       -0.5       -1.        -0.5        0.5      ]\n",
      " [ 0.         0.         0.         0.         0.         0.       ]]\n"
     ]
    }
   ],
   "source": [
    "# MATRIZ DE POSICIONES DE ATOMOS EN LA MOLECULA\n",
    "a1 = np.array([0,1,0])\n",
    "a2 = np.array([np.cos(pi/6), np.sin(pi/6), 0])\n",
    "a3 = np.array([np.cos(-pi/6), np.sin(-pi/6), 0])\n",
    "a4 = np.array([0,-1,0])\n",
    "a5 = np.array([np.cos(7*pi/6), np.sin(7*pi/6), 0])\n",
    "a6 = np.array([np.cos(5*pi/6), np.sin(5*pi/6), 0])\n",
    "\n",
    "At = np.transpose(np.array([a1, a2, a3, a4, a5, a6]))\n",
    "print(At)"
   ]
  },
  {
   "cell_type": "code",
   "execution_count": 10,
   "metadata": {},
   "outputs": [],
   "source": [
    "# diccionario de operaciones\n",
    "opsO = {\n",
    "    \"E\": E,\n",
    "    \"C6\": C6, \"C6_2\": C6_2, \"C6_3\": C6_3, \"C6_4\": C6_4, \"C6_5\": C6_5,\n",
    "    \"C2_(1)\": C2_1, \"C2_(2)\": C2_2, \"C2_(3)\": C2_3,\n",
    "    \"C2_(12)\": C2_12, \"C2_(23)\": C2_23, \"C2_(34)\": C2_34,\n",
    "    \"sigma_h\": sig_h,\n",
    "    \"sigma_v_1\": sig_v_1, \"sigma_v_2\": sig_v_2, \"sigma_v_3\": sig_v_3,\n",
    "    \"sigma_d_12\": sig_d_12, \"sigma_d_23\": sig_d_23, \"sigma_d_34\": sig_d_34,\n",
    "    \"S6\": S6, \"S6_2\": S6_2, \"S6_3\": S6_3, \"S6_4\": S6_4, \"S6_5\": S6_5,\n",
    "    \"i\": i\n",
    "}"
   ]
  },
  {
   "cell_type": "code",
   "execution_count": 11,
   "metadata": {},
   "outputs": [],
   "source": [
    "# diccionario de operaciones\n",
    "ops = {\n",
    "    \"E\": dot(E, At),\n",
    "    \"C6\": dot(C6, At), \"C6_2\": dot(C6_2, At), \"C6_3\": dot(C6_3, At), \"C6_4\": dot(C6_4, At), \"C6_5\": dot(C6_5, At),\n",
    "    \"C2_(1)\": dot(C2_1, At), \"C2_(2)\": dot(C2_2, At), \"C2_(3)\": dot(C2_3, At),\n",
    "    \"C2_(12)\": dot(C2_12, At), \"C2_(23)\": dot(C2_23, At), \"C2_(34)\": dot(C2_34, At),\n",
    "    \"sigma_h\": dot(sig_h, At),\n",
    "    \"sigma_v_1\": dot(sig_v_1, At), \"sigma_v_2\": dot(sig_v_2, At), \"sigma_v_3\": dot(sig_v_3, At),\n",
    "    \"sigma_d_12\": dot(sig_d_12, At), \"sigma_d_23\": dot(sig_d_23, At), \"sigma_d_34\": dot(sig_d_34, At),\n",
    "    \"S6\": dot(S6, At), \"S6_2\": dot(S6_2, At), \"S6_3\": dot(S6_3, At), \"S6_4\": dot(S6_4, At), \"S6_5\": dot(S6_5, At),\n",
    "    \"i\": dot(i, At)\n",
    "}"
   ]
  },
  {
   "cell_type": "markdown",
   "metadata": {},
   "source": [
    "## 3. Determinación de los elementos de la tabla"
   ]
  },
  {
   "cell_type": "markdown",
   "metadata": {},
   "source": [
    "#### Primera fila y primera columna $\\left( E \\right)$\n",
    "\n",
    "Los elementos de la primera fila y la primera columna son iguales a los elementos de la cabeceras (fila y columna respectivamente) por la propiedad multiplicativa del idéntico $E$."
   ]
  },
  {
   "cell_type": "markdown",
   "metadata": {},
   "source": [
    "#### Fila 2: $\\left( C_6 \\right)$"
   ]
  },
  {
   "cell_type": "code",
   "execution_count": 8,
   "metadata": {},
   "outputs": [
    {
     "name": "stdout",
     "output_type": "stream",
     "text": [
      "El nuevo elemento es equivalente a: C6, S6\n",
      "\n"
     ]
    }
   ],
   "source": [
    "match(dot3(C6, E, At), ops)"
   ]
  },
  {
   "cell_type": "code",
   "execution_count": 9,
   "metadata": {},
   "outputs": [
    {
     "name": "stdout",
     "output_type": "stream",
     "text": [
      "El nuevo elemento es equivalente a: C6_2, S6_2\n",
      "\n"
     ]
    }
   ],
   "source": [
    "match(dot3(C6, C6, At), ops)"
   ]
  },
  {
   "cell_type": "code",
   "execution_count": 10,
   "metadata": {},
   "outputs": [
    {
     "name": "stdout",
     "output_type": "stream",
     "text": [
      "El nuevo elemento es equivalente a: C6_3, S6_3, i\n",
      "\n"
     ]
    }
   ],
   "source": [
    "match(dot3(C6, C6_2, At), ops)"
   ]
  },
  {
   "cell_type": "code",
   "execution_count": 11,
   "metadata": {},
   "outputs": [
    {
     "name": "stdout",
     "output_type": "stream",
     "text": [
      "El nuevo elemento es equivalente a: C6_4, S6_4\n",
      "\n"
     ]
    }
   ],
   "source": [
    "match(dot3(C6, C6_3, At), ops)"
   ]
  },
  {
   "cell_type": "code",
   "execution_count": 12,
   "metadata": {},
   "outputs": [
    {
     "name": "stdout",
     "output_type": "stream",
     "text": [
      "El nuevo elemento es equivalente a: C6_5, S6_5\n",
      "\n"
     ]
    }
   ],
   "source": [
    "match(dot3(C6, C6_4, At), ops)"
   ]
  },
  {
   "cell_type": "code",
   "execution_count": 13,
   "metadata": {},
   "outputs": [
    {
     "name": "stdout",
     "output_type": "stream",
     "text": [
      "El nuevo elemento es equivalente a: E, sigma_h\n",
      "\n"
     ]
    }
   ],
   "source": [
    "match(dot3(C6, C6_5, At), ops)"
   ]
  },
  {
   "cell_type": "code",
   "execution_count": 14,
   "metadata": {},
   "outputs": [
    {
     "name": "stdout",
     "output_type": "stream",
     "text": [
      "El nuevo elemento es equivalente a: C2_(34), sigma_d_34\n",
      "\n"
     ]
    }
   ],
   "source": [
    "match(dot3(C6, C2_1, At), ops)"
   ]
  },
  {
   "cell_type": "code",
   "execution_count": 15,
   "metadata": {},
   "outputs": [
    {
     "name": "stdout",
     "output_type": "stream",
     "text": [
      "El nuevo elemento es equivalente a: C2_(12), sigma_d_12\n",
      "\n"
     ]
    }
   ],
   "source": [
    "match(dot3(C6, C2_2, At), ops)"
   ]
  },
  {
   "cell_type": "code",
   "execution_count": 16,
   "metadata": {},
   "outputs": [
    {
     "name": "stdout",
     "output_type": "stream",
     "text": [
      "El nuevo elemento es equivalente a: C2_(23), sigma_d_23\n",
      "\n"
     ]
    }
   ],
   "source": [
    "match(dot3(C6, C2_3, At), ops)"
   ]
  },
  {
   "cell_type": "code",
   "execution_count": 17,
   "metadata": {},
   "outputs": [
    {
     "name": "stdout",
     "output_type": "stream",
     "text": [
      "El nuevo elemento es equivalente a: C2_(1), sigma_v_1\n",
      "\n"
     ]
    }
   ],
   "source": [
    "match(dot3(C6, C2_12, At), ops)"
   ]
  },
  {
   "cell_type": "code",
   "execution_count": 18,
   "metadata": {},
   "outputs": [
    {
     "name": "stdout",
     "output_type": "stream",
     "text": [
      "El nuevo elemento es equivalente a: C2_(2), sigma_v_2\n",
      "\n"
     ]
    }
   ],
   "source": [
    "match(dot3(C6, C2_23, At), ops)"
   ]
  },
  {
   "cell_type": "code",
   "execution_count": 19,
   "metadata": {},
   "outputs": [
    {
     "name": "stdout",
     "output_type": "stream",
     "text": [
      "El nuevo elemento es equivalente a: C2_(3), sigma_v_3\n",
      "\n"
     ]
    }
   ],
   "source": [
    "match(dot3(C6, C2_34, At), ops)"
   ]
  },
  {
   "cell_type": "code",
   "execution_count": 20,
   "metadata": {},
   "outputs": [
    {
     "name": "stdout",
     "output_type": "stream",
     "text": [
      "El nuevo elemento es equivalente a: C6, S6\n",
      "\n"
     ]
    }
   ],
   "source": [
    "match(dot3(C6, sig_h, At), ops)"
   ]
  },
  {
   "cell_type": "code",
   "execution_count": 21,
   "metadata": {},
   "outputs": [
    {
     "name": "stdout",
     "output_type": "stream",
     "text": [
      "El nuevo elemento es equivalente a: C2_(34), sigma_d_34\n",
      "\n"
     ]
    }
   ],
   "source": [
    "match(dot3(C6, sig_v_1, At), ops)"
   ]
  },
  {
   "cell_type": "code",
   "execution_count": 22,
   "metadata": {},
   "outputs": [
    {
     "name": "stdout",
     "output_type": "stream",
     "text": [
      "El nuevo elemento es equivalente a: C2_(12), sigma_d_12\n",
      "\n"
     ]
    }
   ],
   "source": [
    "match(dot3(C6, sig_v_2, At), ops)"
   ]
  },
  {
   "cell_type": "code",
   "execution_count": 23,
   "metadata": {},
   "outputs": [
    {
     "name": "stdout",
     "output_type": "stream",
     "text": [
      "El nuevo elemento es equivalente a: C2_(23), sigma_d_23\n",
      "\n"
     ]
    }
   ],
   "source": [
    "match(dot3(C6, sig_v_3, At), ops)"
   ]
  },
  {
   "cell_type": "code",
   "execution_count": 24,
   "metadata": {},
   "outputs": [
    {
     "name": "stdout",
     "output_type": "stream",
     "text": [
      "El nuevo elemento es equivalente a: C2_(1), sigma_v_1\n",
      "\n"
     ]
    }
   ],
   "source": [
    "match(dot3(C6, sig_d_12, At), ops)"
   ]
  },
  {
   "cell_type": "code",
   "execution_count": 25,
   "metadata": {},
   "outputs": [
    {
     "name": "stdout",
     "output_type": "stream",
     "text": [
      "El nuevo elemento es equivalente a: C2_(2), sigma_v_2\n",
      "\n"
     ]
    }
   ],
   "source": [
    "match(dot3(C6, sig_d_23, At), ops)"
   ]
  },
  {
   "cell_type": "code",
   "execution_count": 26,
   "metadata": {},
   "outputs": [
    {
     "name": "stdout",
     "output_type": "stream",
     "text": [
      "El nuevo elemento es equivalente a: C2_(3), sigma_v_3\n",
      "\n"
     ]
    }
   ],
   "source": [
    "match(dot3(C6, sig_d_34, At), ops)"
   ]
  },
  {
   "cell_type": "code",
   "execution_count": 27,
   "metadata": {},
   "outputs": [
    {
     "name": "stdout",
     "output_type": "stream",
     "text": [
      "El nuevo elemento es equivalente a: C6_2, S6_2\n",
      "\n"
     ]
    }
   ],
   "source": [
    "match(dot3(C6, S6, At), ops)"
   ]
  },
  {
   "cell_type": "code",
   "execution_count": 28,
   "metadata": {},
   "outputs": [
    {
     "name": "stdout",
     "output_type": "stream",
     "text": [
      "El nuevo elemento es equivalente a: C6_3, S6_3, i\n",
      "\n"
     ]
    }
   ],
   "source": [
    "match(dot3(C6, S6_2, At), ops)"
   ]
  },
  {
   "cell_type": "code",
   "execution_count": 30,
   "metadata": {},
   "outputs": [
    {
     "name": "stdout",
     "output_type": "stream",
     "text": [
      "El nuevo elemento es equivalente a: C6_5, S6_5\n",
      "\n"
     ]
    }
   ],
   "source": [
    "match(dot3(C6, S6_4, At), ops)"
   ]
  },
  {
   "cell_type": "code",
   "execution_count": 31,
   "metadata": {},
   "outputs": [
    {
     "name": "stdout",
     "output_type": "stream",
     "text": [
      "El nuevo elemento es equivalente a: E, sigma_h\n",
      "\n"
     ]
    }
   ],
   "source": [
    "match(dot3(C6, S6_5, At), ops)"
   ]
  },
  {
   "cell_type": "code",
   "execution_count": 32,
   "metadata": {},
   "outputs": [
    {
     "name": "stdout",
     "output_type": "stream",
     "text": [
      "El nuevo elemento es equivalente a: C6_4, S6_4\n",
      "\n"
     ]
    }
   ],
   "source": [
    "match(dot3(C6, i, At), ops)"
   ]
  },
  {
   "cell_type": "code",
   "execution_count": 36,
   "metadata": {},
   "outputs": [
    {
     "name": "stdout",
     "output_type": "stream",
     "text": [
      "[[-0.866 -0.866 -0.     0.866  0.866  0.   ]\n",
      " [ 0.5   -0.5   -1.    -0.5    0.5    1.   ]\n",
      " [ 0.     0.     0.     0.     0.     0.   ]]\n"
     ]
    }
   ],
   "source": [
    "print(dot(sig_d_34, At))"
   ]
  },
  {
   "cell_type": "markdown",
   "metadata": {},
   "source": [
    "#### Fila 3: $\\left( C^2_6 \\right)$"
   ]
  },
  {
   "cell_type": "code",
   "execution_count": 39,
   "metadata": {},
   "outputs": [
    {
     "name": "stdout",
     "output_type": "stream",
     "text": [
      "El nuevo elemento es equivalente a: C6_2, S6_2\n",
      "\n"
     ]
    }
   ],
   "source": [
    "match(dot3(C6_2, E, At), ops)"
   ]
  },
  {
   "cell_type": "code",
   "execution_count": 40,
   "metadata": {},
   "outputs": [
    {
     "name": "stdout",
     "output_type": "stream",
     "text": [
      "El nuevo elemento es equivalente a: C6_3, S6_3, i\n",
      "\n"
     ]
    }
   ],
   "source": [
    "match(dot3(C6_2, C6, At), ops)"
   ]
  },
  {
   "cell_type": "code",
   "execution_count": 41,
   "metadata": {},
   "outputs": [
    {
     "name": "stdout",
     "output_type": "stream",
     "text": [
      "El nuevo elemento es equivalente a: C6_4, S6_4\n",
      "\n"
     ]
    }
   ],
   "source": [
    "match(dot3(C6_2, C6_2, At), ops)"
   ]
  },
  {
   "cell_type": "code",
   "execution_count": 42,
   "metadata": {},
   "outputs": [
    {
     "name": "stdout",
     "output_type": "stream",
     "text": [
      "El nuevo elemento es equivalente a: C6_5, S6_5\n",
      "\n"
     ]
    }
   ],
   "source": [
    "match(dot3(C6_2, C6_3, At), ops)"
   ]
  },
  {
   "cell_type": "code",
   "execution_count": 43,
   "metadata": {},
   "outputs": [
    {
     "name": "stdout",
     "output_type": "stream",
     "text": [
      "El nuevo elemento es equivalente a: E, sigma_h\n",
      "\n"
     ]
    }
   ],
   "source": [
    "match(dot3(C6_2, C6_4, At), ops)"
   ]
  },
  {
   "cell_type": "code",
   "execution_count": 44,
   "metadata": {},
   "outputs": [
    {
     "name": "stdout",
     "output_type": "stream",
     "text": [
      "El nuevo elemento es equivalente a: C6, S6\n",
      "\n"
     ]
    }
   ],
   "source": [
    "match(dot3(C6_2, C6_5, At), ops)"
   ]
  },
  {
   "cell_type": "code",
   "execution_count": 45,
   "metadata": {},
   "outputs": [
    {
     "name": "stdout",
     "output_type": "stream",
     "text": [
      "El nuevo elemento es equivalente a: C2_(3), sigma_v_3\n",
      "\n"
     ]
    }
   ],
   "source": [
    "match(dot3(C6_2, C2_1, At), ops)"
   ]
  },
  {
   "cell_type": "code",
   "execution_count": 46,
   "metadata": {},
   "outputs": [
    {
     "name": "stdout",
     "output_type": "stream",
     "text": [
      "El nuevo elemento es equivalente a: C2_(1), sigma_v_1\n",
      "\n"
     ]
    }
   ],
   "source": [
    "match(dot3(C6_2, C2_2, At), ops)"
   ]
  },
  {
   "cell_type": "code",
   "execution_count": 47,
   "metadata": {},
   "outputs": [
    {
     "name": "stdout",
     "output_type": "stream",
     "text": [
      "El nuevo elemento es equivalente a: C2_(2), sigma_v_2\n",
      "\n"
     ]
    }
   ],
   "source": [
    "match(dot3(C6_2, C2_3, At), ops)"
   ]
  },
  {
   "cell_type": "code",
   "execution_count": 48,
   "metadata": {},
   "outputs": [
    {
     "name": "stdout",
     "output_type": "stream",
     "text": [
      "El nuevo elemento es equivalente a: C2_(34), sigma_d_34\n",
      "\n"
     ]
    }
   ],
   "source": [
    "match(dot3(C6_2, C2_12, At), ops)"
   ]
  },
  {
   "cell_type": "code",
   "execution_count": 49,
   "metadata": {},
   "outputs": [
    {
     "name": "stdout",
     "output_type": "stream",
     "text": [
      "El nuevo elemento es equivalente a: C2_(12), sigma_d_12\n",
      "\n"
     ]
    }
   ],
   "source": [
    "match(dot3(C6_2, C2_23, At), ops)"
   ]
  },
  {
   "cell_type": "code",
   "execution_count": 50,
   "metadata": {},
   "outputs": [
    {
     "name": "stdout",
     "output_type": "stream",
     "text": [
      "El nuevo elemento es equivalente a: C2_(23), sigma_d_23\n",
      "\n"
     ]
    }
   ],
   "source": [
    "match(dot3(C6_2, C2_34, At), ops)"
   ]
  },
  {
   "cell_type": "code",
   "execution_count": 51,
   "metadata": {},
   "outputs": [
    {
     "name": "stdout",
     "output_type": "stream",
     "text": [
      "El nuevo elemento es equivalente a: C6_2, S6_2\n",
      "\n"
     ]
    }
   ],
   "source": [
    "match(dot3(C6_2, sig_h, At), ops)"
   ]
  },
  {
   "cell_type": "code",
   "execution_count": 52,
   "metadata": {},
   "outputs": [
    {
     "name": "stdout",
     "output_type": "stream",
     "text": [
      "El nuevo elemento es equivalente a: C2_(3), sigma_v_3\n",
      "\n"
     ]
    }
   ],
   "source": [
    "match(dot3(C6_2, sig_v_1, At), ops)"
   ]
  },
  {
   "cell_type": "code",
   "execution_count": 53,
   "metadata": {},
   "outputs": [
    {
     "name": "stdout",
     "output_type": "stream",
     "text": [
      "El nuevo elemento es equivalente a: C2_(1), sigma_v_1\n",
      "\n"
     ]
    }
   ],
   "source": [
    "match(dot3(C6_2, sig_v_2, At), ops)"
   ]
  },
  {
   "cell_type": "code",
   "execution_count": 54,
   "metadata": {},
   "outputs": [
    {
     "name": "stdout",
     "output_type": "stream",
     "text": [
      "El nuevo elemento es equivalente a: C2_(2), sigma_v_2\n",
      "\n"
     ]
    }
   ],
   "source": [
    "match(dot3(C6_2, sig_v_3, At), ops)"
   ]
  },
  {
   "cell_type": "code",
   "execution_count": 55,
   "metadata": {},
   "outputs": [
    {
     "name": "stdout",
     "output_type": "stream",
     "text": [
      "El nuevo elemento es equivalente a: C2_(34), sigma_d_34\n",
      "\n"
     ]
    }
   ],
   "source": [
    "match(dot3(C6_2, sig_d_12, At), ops)"
   ]
  },
  {
   "cell_type": "code",
   "execution_count": 56,
   "metadata": {},
   "outputs": [
    {
     "name": "stdout",
     "output_type": "stream",
     "text": [
      "El nuevo elemento es equivalente a: C2_(12), sigma_d_12\n",
      "\n"
     ]
    }
   ],
   "source": [
    "match(dot3(C6_2, sig_d_23, At), ops)"
   ]
  },
  {
   "cell_type": "code",
   "execution_count": 57,
   "metadata": {},
   "outputs": [
    {
     "name": "stdout",
     "output_type": "stream",
     "text": [
      "El nuevo elemento es equivalente a: C2_(23), sigma_d_23\n",
      "\n"
     ]
    }
   ],
   "source": [
    "match(dot3(C6_2, sig_d_34, At), ops)"
   ]
  },
  {
   "cell_type": "code",
   "execution_count": 58,
   "metadata": {},
   "outputs": [
    {
     "name": "stdout",
     "output_type": "stream",
     "text": [
      "El nuevo elemento es equivalente a: C6_3, S6_3, i\n",
      "\n"
     ]
    }
   ],
   "source": [
    "match(dot3(C6_2, S6, At), ops)"
   ]
  },
  {
   "cell_type": "code",
   "execution_count": 59,
   "metadata": {},
   "outputs": [
    {
     "name": "stdout",
     "output_type": "stream",
     "text": [
      "El nuevo elemento es equivalente a: C6_4, S6_4\n",
      "\n"
     ]
    }
   ],
   "source": [
    "match(dot3(C6_2, S6_2, At), ops)"
   ]
  },
  {
   "cell_type": "code",
   "execution_count": 60,
   "metadata": {},
   "outputs": [
    {
     "name": "stdout",
     "output_type": "stream",
     "text": [
      "El nuevo elemento es equivalente a: E, sigma_h\n",
      "\n"
     ]
    }
   ],
   "source": [
    "match(dot3(C6_2, S6_4, At), ops)"
   ]
  },
  {
   "cell_type": "code",
   "execution_count": 61,
   "metadata": {},
   "outputs": [
    {
     "name": "stdout",
     "output_type": "stream",
     "text": [
      "El nuevo elemento es equivalente a: C6, S6\n",
      "\n"
     ]
    }
   ],
   "source": [
    "match(dot3(C6_2, S6_5, At), ops)"
   ]
  },
  {
   "cell_type": "code",
   "execution_count": 62,
   "metadata": {},
   "outputs": [
    {
     "name": "stdout",
     "output_type": "stream",
     "text": [
      "El nuevo elemento es equivalente a: C6_5, S6_5\n",
      "\n"
     ]
    }
   ],
   "source": [
    "match(dot3(C6_2, i, At), ops)"
   ]
  },
  {
   "cell_type": "markdown",
   "metadata": {},
   "source": [
    "#### Fila 4: $\\left( C^3_6 \\right)$"
   ]
  },
  {
   "cell_type": "code",
   "execution_count": 66,
   "metadata": {},
   "outputs": [
    {
     "name": "stdout",
     "output_type": "stream",
     "text": [
      "El nuevo elemento es equivalente a: C6_3, S6_3, i\n",
      "\n"
     ]
    }
   ],
   "source": [
    "match(dot3(C6_3, E, At), ops)"
   ]
  },
  {
   "cell_type": "code",
   "execution_count": 67,
   "metadata": {},
   "outputs": [
    {
     "name": "stdout",
     "output_type": "stream",
     "text": [
      "El nuevo elemento es equivalente a: C6_4, S6_4\n",
      "\n"
     ]
    }
   ],
   "source": [
    "match(dot3(C6_3, C6, At), ops)"
   ]
  },
  {
   "cell_type": "code",
   "execution_count": 68,
   "metadata": {},
   "outputs": [
    {
     "name": "stdout",
     "output_type": "stream",
     "text": [
      "El nuevo elemento es equivalente a: C6_5, S6_5\n",
      "\n"
     ]
    }
   ],
   "source": [
    "match(dot3(C6_3, C6_2, At), ops)"
   ]
  },
  {
   "cell_type": "code",
   "execution_count": 69,
   "metadata": {},
   "outputs": [
    {
     "name": "stdout",
     "output_type": "stream",
     "text": [
      "El nuevo elemento es equivalente a: E, sigma_h\n",
      "\n"
     ]
    }
   ],
   "source": [
    "match(dot3(C6_3, C6_3, At), ops)"
   ]
  },
  {
   "cell_type": "code",
   "execution_count": 70,
   "metadata": {},
   "outputs": [
    {
     "name": "stdout",
     "output_type": "stream",
     "text": [
      "El nuevo elemento es equivalente a: C6, S6\n",
      "\n"
     ]
    }
   ],
   "source": [
    "match(dot3(C6_3, C6_4, At), ops)"
   ]
  },
  {
   "cell_type": "code",
   "execution_count": 71,
   "metadata": {},
   "outputs": [
    {
     "name": "stdout",
     "output_type": "stream",
     "text": [
      "El nuevo elemento es equivalente a: C6_2, S6_2\n",
      "\n"
     ]
    }
   ],
   "source": [
    "match(dot3(C6_3, C6_5, At), ops)"
   ]
  },
  {
   "cell_type": "code",
   "execution_count": 72,
   "metadata": {},
   "outputs": [
    {
     "name": "stdout",
     "output_type": "stream",
     "text": [
      "El nuevo elemento es equivalente a: C2_(23), sigma_d_23\n",
      "\n"
     ]
    }
   ],
   "source": [
    "match(dot3(C6_3, C2_1, At), ops)"
   ]
  },
  {
   "cell_type": "code",
   "execution_count": 73,
   "metadata": {},
   "outputs": [
    {
     "name": "stdout",
     "output_type": "stream",
     "text": [
      "El nuevo elemento es equivalente a: C2_(34), sigma_d_34\n",
      "\n"
     ]
    }
   ],
   "source": [
    "match(dot3(C6_3, C2_2, At), ops)"
   ]
  },
  {
   "cell_type": "code",
   "execution_count": 74,
   "metadata": {},
   "outputs": [
    {
     "name": "stdout",
     "output_type": "stream",
     "text": [
      "El nuevo elemento es equivalente a: C2_(12), sigma_d_12\n",
      "\n"
     ]
    }
   ],
   "source": [
    "match(dot3(C6_3, C2_3, At), ops)"
   ]
  },
  {
   "cell_type": "code",
   "execution_count": 75,
   "metadata": {},
   "outputs": [
    {
     "name": "stdout",
     "output_type": "stream",
     "text": [
      "El nuevo elemento es equivalente a: C2_(3), sigma_v_3\n",
      "\n"
     ]
    }
   ],
   "source": [
    "match(dot3(C6_3, C2_12, At), ops)"
   ]
  },
  {
   "cell_type": "code",
   "execution_count": 76,
   "metadata": {},
   "outputs": [
    {
     "name": "stdout",
     "output_type": "stream",
     "text": [
      "El nuevo elemento es equivalente a: C2_(1), sigma_v_1\n",
      "\n"
     ]
    }
   ],
   "source": [
    "match(dot3(C6_3, C2_23, At), ops)"
   ]
  },
  {
   "cell_type": "code",
   "execution_count": 77,
   "metadata": {},
   "outputs": [
    {
     "name": "stdout",
     "output_type": "stream",
     "text": [
      "El nuevo elemento es equivalente a: C2_(2), sigma_v_2\n",
      "\n"
     ]
    }
   ],
   "source": [
    "match(dot3(C6_3, C2_34, At), ops)"
   ]
  },
  {
   "cell_type": "code",
   "execution_count": 78,
   "metadata": {},
   "outputs": [
    {
     "name": "stdout",
     "output_type": "stream",
     "text": [
      "El nuevo elemento es equivalente a: C6_3, S6_3, i\n",
      "\n"
     ]
    }
   ],
   "source": [
    "match(dot3(C6_3, sig_h, At), ops)"
   ]
  },
  {
   "cell_type": "code",
   "execution_count": 79,
   "metadata": {},
   "outputs": [
    {
     "name": "stdout",
     "output_type": "stream",
     "text": [
      "El nuevo elemento es equivalente a: C2_(23), sigma_d_23\n",
      "\n"
     ]
    }
   ],
   "source": [
    "match(dot3(C6_3, sig_v_1, At), ops)"
   ]
  },
  {
   "cell_type": "code",
   "execution_count": 80,
   "metadata": {},
   "outputs": [
    {
     "name": "stdout",
     "output_type": "stream",
     "text": [
      "El nuevo elemento es equivalente a: C2_(34), sigma_d_34\n",
      "\n"
     ]
    }
   ],
   "source": [
    "match(dot3(C6_3, sig_v_2, At), ops)"
   ]
  },
  {
   "cell_type": "code",
   "execution_count": 81,
   "metadata": {},
   "outputs": [
    {
     "name": "stdout",
     "output_type": "stream",
     "text": [
      "El nuevo elemento es equivalente a: C2_(12), sigma_d_12\n",
      "\n"
     ]
    }
   ],
   "source": [
    "match(dot3(C6_3, sig_v_3, At), ops)"
   ]
  },
  {
   "cell_type": "code",
   "execution_count": 82,
   "metadata": {},
   "outputs": [
    {
     "name": "stdout",
     "output_type": "stream",
     "text": [
      "El nuevo elemento es equivalente a: C2_(3), sigma_v_3\n",
      "\n"
     ]
    }
   ],
   "source": [
    "match(dot3(C6_3, sig_d_12, At), ops)"
   ]
  },
  {
   "cell_type": "code",
   "execution_count": 83,
   "metadata": {},
   "outputs": [
    {
     "name": "stdout",
     "output_type": "stream",
     "text": [
      "El nuevo elemento es equivalente a: C2_(1), sigma_v_1\n",
      "\n"
     ]
    }
   ],
   "source": [
    "match(dot3(C6_3, sig_d_23, At), ops)"
   ]
  },
  {
   "cell_type": "code",
   "execution_count": 84,
   "metadata": {},
   "outputs": [
    {
     "name": "stdout",
     "output_type": "stream",
     "text": [
      "El nuevo elemento es equivalente a: C2_(2), sigma_v_2\n",
      "\n"
     ]
    }
   ],
   "source": [
    "match(dot3(C6_3, sig_d_34, At), ops)"
   ]
  },
  {
   "cell_type": "code",
   "execution_count": 85,
   "metadata": {},
   "outputs": [
    {
     "name": "stdout",
     "output_type": "stream",
     "text": [
      "El nuevo elemento es equivalente a: C6_4, S6_4\n",
      "\n"
     ]
    }
   ],
   "source": [
    "match(dot3(C6_3, S6, At), ops)"
   ]
  },
  {
   "cell_type": "code",
   "execution_count": 86,
   "metadata": {},
   "outputs": [
    {
     "name": "stdout",
     "output_type": "stream",
     "text": [
      "El nuevo elemento es equivalente a: C6_5, S6_5\n",
      "\n"
     ]
    }
   ],
   "source": [
    "match(dot3(C6_3, S6_2, At), ops)"
   ]
  },
  {
   "cell_type": "code",
   "execution_count": 87,
   "metadata": {},
   "outputs": [
    {
     "name": "stdout",
     "output_type": "stream",
     "text": [
      "El nuevo elemento es equivalente a: C6, S6\n",
      "\n"
     ]
    }
   ],
   "source": [
    "match(dot3(C6_3, S6_4, At), ops)"
   ]
  },
  {
   "cell_type": "code",
   "execution_count": 88,
   "metadata": {},
   "outputs": [
    {
     "name": "stdout",
     "output_type": "stream",
     "text": [
      "El nuevo elemento es equivalente a: C6_2, S6_2\n",
      "\n"
     ]
    }
   ],
   "source": [
    "match(dot3(C6_3, S6_5, At), ops)"
   ]
  },
  {
   "cell_type": "code",
   "execution_count": 89,
   "metadata": {},
   "outputs": [
    {
     "name": "stdout",
     "output_type": "stream",
     "text": [
      "El nuevo elemento es equivalente a: E, sigma_h\n",
      "\n"
     ]
    }
   ],
   "source": [
    "match(dot3(C6_3, i, At), ops)"
   ]
  },
  {
   "cell_type": "markdown",
   "metadata": {},
   "source": [
    "#### Fila 5: $\\left( C^4_6 \\right)$"
   ]
  },
  {
   "cell_type": "code",
   "execution_count": 11,
   "metadata": {},
   "outputs": [
    {
     "name": "stdout",
     "output_type": "stream",
     "text": [
      "El nuevo elemento es equivalente a: C6_4, S6_4\n",
      "\n"
     ]
    }
   ],
   "source": [
    "match(dot3(C6_4, E, At), ops)"
   ]
  },
  {
   "cell_type": "code",
   "execution_count": 12,
   "metadata": {},
   "outputs": [
    {
     "name": "stdout",
     "output_type": "stream",
     "text": [
      "El nuevo elemento es equivalente a: C6_5, S6_5\n",
      "\n"
     ]
    }
   ],
   "source": [
    "match(dot3(C6_4, C6, At), ops)"
   ]
  },
  {
   "cell_type": "code",
   "execution_count": 13,
   "metadata": {},
   "outputs": [
    {
     "name": "stdout",
     "output_type": "stream",
     "text": [
      "El nuevo elemento es equivalente a: E, sigma_h\n",
      "\n"
     ]
    }
   ],
   "source": [
    "match(dot3(C6_4, C6_2, At), ops)"
   ]
  },
  {
   "cell_type": "code",
   "execution_count": 14,
   "metadata": {},
   "outputs": [
    {
     "name": "stdout",
     "output_type": "stream",
     "text": [
      "El nuevo elemento es equivalente a: C6, S6\n",
      "\n"
     ]
    }
   ],
   "source": [
    "match(dot3(C6_4, C6_3, At), ops)"
   ]
  },
  {
   "cell_type": "code",
   "execution_count": 15,
   "metadata": {},
   "outputs": [
    {
     "name": "stdout",
     "output_type": "stream",
     "text": [
      "El nuevo elemento es equivalente a: C6_2, S6_2\n",
      "\n"
     ]
    }
   ],
   "source": [
    "match(dot3(C6_4, C6_4, At), ops)"
   ]
  },
  {
   "cell_type": "code",
   "execution_count": 16,
   "metadata": {},
   "outputs": [
    {
     "name": "stdout",
     "output_type": "stream",
     "text": [
      "El nuevo elemento es equivalente a: C6_3, S6_3, i\n",
      "\n"
     ]
    }
   ],
   "source": [
    "match(dot3(C6_4, C6_5, At), ops)"
   ]
  },
  {
   "cell_type": "code",
   "execution_count": 17,
   "metadata": {},
   "outputs": [
    {
     "name": "stdout",
     "output_type": "stream",
     "text": [
      "El nuevo elemento es equivalente a: C2_(2), sigma_v_2\n",
      "\n"
     ]
    }
   ],
   "source": [
    "match(dot3(C6_4, C2_1, At), ops)"
   ]
  },
  {
   "cell_type": "code",
   "execution_count": 18,
   "metadata": {},
   "outputs": [
    {
     "name": "stdout",
     "output_type": "stream",
     "text": [
      "El nuevo elemento es equivalente a: C2_(3), sigma_v_3\n",
      "\n"
     ]
    }
   ],
   "source": [
    "match(dot3(C6_4, C2_2, At), ops)"
   ]
  },
  {
   "cell_type": "code",
   "execution_count": 19,
   "metadata": {},
   "outputs": [
    {
     "name": "stdout",
     "output_type": "stream",
     "text": [
      "El nuevo elemento es equivalente a: C2_(1), sigma_v_1\n",
      "\n"
     ]
    }
   ],
   "source": [
    "match(dot3(C6_4, C2_3, At), ops)"
   ]
  },
  {
   "cell_type": "code",
   "execution_count": 20,
   "metadata": {},
   "outputs": [
    {
     "name": "stdout",
     "output_type": "stream",
     "text": [
      "El nuevo elemento es equivalente a: C2_(23), sigma_d_23\n",
      "\n"
     ]
    }
   ],
   "source": [
    "match(dot3(C6_4, C2_12, At), ops)"
   ]
  },
  {
   "cell_type": "code",
   "execution_count": 21,
   "metadata": {},
   "outputs": [
    {
     "name": "stdout",
     "output_type": "stream",
     "text": [
      "El nuevo elemento es equivalente a: C2_(34), sigma_d_34\n",
      "\n"
     ]
    }
   ],
   "source": [
    "match(dot3(C6_4, C2_23, At), ops)"
   ]
  },
  {
   "cell_type": "code",
   "execution_count": 22,
   "metadata": {},
   "outputs": [
    {
     "name": "stdout",
     "output_type": "stream",
     "text": [
      "El nuevo elemento es equivalente a: C2_(12), sigma_d_12\n",
      "\n"
     ]
    }
   ],
   "source": [
    "match(dot3(C6_4, C2_34, At), ops)"
   ]
  },
  {
   "cell_type": "code",
   "execution_count": 23,
   "metadata": {},
   "outputs": [
    {
     "name": "stdout",
     "output_type": "stream",
     "text": [
      "El nuevo elemento es equivalente a: C6_4, S6_4\n",
      "\n"
     ]
    }
   ],
   "source": [
    "match(dot3(C6_4, sig_h, At), ops)"
   ]
  },
  {
   "cell_type": "code",
   "execution_count": 24,
   "metadata": {},
   "outputs": [
    {
     "name": "stdout",
     "output_type": "stream",
     "text": [
      "El nuevo elemento es equivalente a: C2_(2), sigma_v_2\n",
      "\n"
     ]
    }
   ],
   "source": [
    "match(dot3(C6_4, sig_v_1, At), ops)"
   ]
  },
  {
   "cell_type": "code",
   "execution_count": 25,
   "metadata": {},
   "outputs": [
    {
     "name": "stdout",
     "output_type": "stream",
     "text": [
      "El nuevo elemento es equivalente a: C2_(3), sigma_v_3\n",
      "\n"
     ]
    }
   ],
   "source": [
    "match(dot3(C6_4, sig_v_2, At), ops)"
   ]
  },
  {
   "cell_type": "code",
   "execution_count": 26,
   "metadata": {},
   "outputs": [
    {
     "name": "stdout",
     "output_type": "stream",
     "text": [
      "El nuevo elemento es equivalente a: C2_(1), sigma_v_1\n",
      "\n"
     ]
    }
   ],
   "source": [
    "match(dot3(C6_4, sig_v_3, At), ops)"
   ]
  },
  {
   "cell_type": "code",
   "execution_count": 27,
   "metadata": {},
   "outputs": [
    {
     "name": "stdout",
     "output_type": "stream",
     "text": [
      "El nuevo elemento es equivalente a: C2_(23), sigma_d_23\n",
      "\n"
     ]
    }
   ],
   "source": [
    "match(dot3(C6_4, sig_d_12, At), ops)"
   ]
  },
  {
   "cell_type": "code",
   "execution_count": 28,
   "metadata": {},
   "outputs": [
    {
     "name": "stdout",
     "output_type": "stream",
     "text": [
      "El nuevo elemento es equivalente a: C2_(34), sigma_d_34\n",
      "\n"
     ]
    }
   ],
   "source": [
    "match(dot3(C6_4, sig_d_23, At), ops)"
   ]
  },
  {
   "cell_type": "code",
   "execution_count": 29,
   "metadata": {},
   "outputs": [
    {
     "name": "stdout",
     "output_type": "stream",
     "text": [
      "El nuevo elemento es equivalente a: C2_(12), sigma_d_12\n",
      "\n"
     ]
    }
   ],
   "source": [
    "match(dot3(C6_4, sig_d_34, At), ops)"
   ]
  },
  {
   "cell_type": "code",
   "execution_count": 30,
   "metadata": {},
   "outputs": [
    {
     "name": "stdout",
     "output_type": "stream",
     "text": [
      "El nuevo elemento es equivalente a: C6_5, S6_5\n",
      "\n"
     ]
    }
   ],
   "source": [
    "match(dot3(C6_4, S6, At), ops)"
   ]
  },
  {
   "cell_type": "code",
   "execution_count": 31,
   "metadata": {},
   "outputs": [
    {
     "name": "stdout",
     "output_type": "stream",
     "text": [
      "El nuevo elemento es equivalente a: E, sigma_h\n",
      "\n"
     ]
    }
   ],
   "source": [
    "match(dot3(C6_4, S6_2, At), ops)"
   ]
  },
  {
   "cell_type": "code",
   "execution_count": 32,
   "metadata": {},
   "outputs": [
    {
     "name": "stdout",
     "output_type": "stream",
     "text": [
      "El nuevo elemento es equivalente a: C6_2, S6_2\n",
      "\n"
     ]
    }
   ],
   "source": [
    "match(dot3(C6_4, S6_4, At), ops)"
   ]
  },
  {
   "cell_type": "code",
   "execution_count": 33,
   "metadata": {},
   "outputs": [
    {
     "name": "stdout",
     "output_type": "stream",
     "text": [
      "El nuevo elemento es equivalente a: C6_3, S6_3, i\n",
      "\n"
     ]
    }
   ],
   "source": [
    "match(dot3(C6_4, S6_5, At), ops)"
   ]
  },
  {
   "cell_type": "code",
   "execution_count": 34,
   "metadata": {},
   "outputs": [
    {
     "name": "stdout",
     "output_type": "stream",
     "text": [
      "El nuevo elemento es equivalente a: C6, S6\n",
      "\n"
     ]
    }
   ],
   "source": [
    "match(dot3(C6_4, i, At), ops)"
   ]
  },
  {
   "cell_type": "markdown",
   "metadata": {},
   "source": [
    "#### Fila 6: $\\left( C^5_6 \\right)$"
   ]
  },
  {
   "cell_type": "code",
   "execution_count": 54,
   "metadata": {},
   "outputs": [
    {
     "name": "stdout",
     "output_type": "stream",
     "text": [
      "El nuevo elemento es equivalente a: C6_5, S6_5\n",
      "\n"
     ]
    }
   ],
   "source": [
    "match(dot3(C6_5, E, At), ops)"
   ]
  },
  {
   "cell_type": "code",
   "execution_count": 55,
   "metadata": {},
   "outputs": [
    {
     "name": "stdout",
     "output_type": "stream",
     "text": [
      "El nuevo elemento es equivalente a: E, sigma_h\n",
      "\n"
     ]
    }
   ],
   "source": [
    "match(dot3(C6_5, C6, At), ops)"
   ]
  },
  {
   "cell_type": "code",
   "execution_count": 56,
   "metadata": {},
   "outputs": [
    {
     "name": "stdout",
     "output_type": "stream",
     "text": [
      "El nuevo elemento es equivalente a: C6, S6\n",
      "\n"
     ]
    }
   ],
   "source": [
    "match(dot3(C6_5, C6_2, At), ops)"
   ]
  },
  {
   "cell_type": "code",
   "execution_count": 57,
   "metadata": {},
   "outputs": [
    {
     "name": "stdout",
     "output_type": "stream",
     "text": [
      "El nuevo elemento es equivalente a: C6_2, S6_2\n",
      "\n"
     ]
    }
   ],
   "source": [
    "match(dot3(C6_5, C6_3, At), ops)"
   ]
  },
  {
   "cell_type": "code",
   "execution_count": 58,
   "metadata": {},
   "outputs": [
    {
     "name": "stdout",
     "output_type": "stream",
     "text": [
      "El nuevo elemento es equivalente a: C6_3, S6_3, i\n",
      "\n"
     ]
    }
   ],
   "source": [
    "match(dot3(C6_5, C6_4, At), ops)"
   ]
  },
  {
   "cell_type": "code",
   "execution_count": 59,
   "metadata": {},
   "outputs": [
    {
     "name": "stdout",
     "output_type": "stream",
     "text": [
      "El nuevo elemento es equivalente a: C6_4, S6_4\n",
      "\n"
     ]
    }
   ],
   "source": [
    "match(dot3(C6_5, C6_5, At), ops)"
   ]
  },
  {
   "cell_type": "code",
   "execution_count": 60,
   "metadata": {},
   "outputs": [
    {
     "name": "stdout",
     "output_type": "stream",
     "text": [
      "El nuevo elemento es equivalente a: C2_(12), sigma_d_12\n",
      "\n"
     ]
    }
   ],
   "source": [
    "match(dot3(C6_5, C2_1, At), ops)"
   ]
  },
  {
   "cell_type": "code",
   "execution_count": 61,
   "metadata": {},
   "outputs": [
    {
     "name": "stdout",
     "output_type": "stream",
     "text": [
      "El nuevo elemento es equivalente a: C2_(23), sigma_d_23\n",
      "\n"
     ]
    }
   ],
   "source": [
    "match(dot3(C6_5, C2_2, At), ops)"
   ]
  },
  {
   "cell_type": "code",
   "execution_count": 62,
   "metadata": {},
   "outputs": [
    {
     "name": "stdout",
     "output_type": "stream",
     "text": [
      "El nuevo elemento es equivalente a: C2_(34), sigma_d_34\n",
      "\n"
     ]
    }
   ],
   "source": [
    "match(dot3(C6_5, C2_3, At), ops)"
   ]
  },
  {
   "cell_type": "code",
   "execution_count": 63,
   "metadata": {},
   "outputs": [
    {
     "name": "stdout",
     "output_type": "stream",
     "text": [
      "El nuevo elemento es equivalente a: C2_(2), sigma_v_2\n",
      "\n"
     ]
    }
   ],
   "source": [
    "match(dot3(C6_5, C2_12, At), ops)"
   ]
  },
  {
   "cell_type": "code",
   "execution_count": 64,
   "metadata": {},
   "outputs": [
    {
     "name": "stdout",
     "output_type": "stream",
     "text": [
      "El nuevo elemento es equivalente a: C2_(3), sigma_v_3\n",
      "\n"
     ]
    }
   ],
   "source": [
    "match(dot3(C6_5, C2_23, At), ops)"
   ]
  },
  {
   "cell_type": "code",
   "execution_count": 65,
   "metadata": {},
   "outputs": [
    {
     "name": "stdout",
     "output_type": "stream",
     "text": [
      "El nuevo elemento es equivalente a: C2_(1), sigma_v_1\n",
      "\n"
     ]
    }
   ],
   "source": [
    "match(dot3(C6_5, C2_34, At), ops)"
   ]
  },
  {
   "cell_type": "code",
   "execution_count": 66,
   "metadata": {},
   "outputs": [
    {
     "name": "stdout",
     "output_type": "stream",
     "text": [
      "El nuevo elemento es equivalente a: C6_5, S6_5\n",
      "\n"
     ]
    }
   ],
   "source": [
    "match(dot3(C6_5, sig_h, At), ops)"
   ]
  },
  {
   "cell_type": "code",
   "execution_count": 67,
   "metadata": {},
   "outputs": [
    {
     "name": "stdout",
     "output_type": "stream",
     "text": [
      "El nuevo elemento es equivalente a: C2_(12), sigma_d_12\n",
      "\n"
     ]
    }
   ],
   "source": [
    "match(dot3(C6_5, sig_v_1, At), ops)"
   ]
  },
  {
   "cell_type": "code",
   "execution_count": 68,
   "metadata": {},
   "outputs": [
    {
     "name": "stdout",
     "output_type": "stream",
     "text": [
      "El nuevo elemento es equivalente a: C2_(23), sigma_d_23\n",
      "\n"
     ]
    }
   ],
   "source": [
    "match(dot3(C6_5, sig_v_2, At), ops)"
   ]
  },
  {
   "cell_type": "code",
   "execution_count": 69,
   "metadata": {},
   "outputs": [
    {
     "name": "stdout",
     "output_type": "stream",
     "text": [
      "El nuevo elemento es equivalente a: C2_(34), sigma_d_34\n",
      "\n"
     ]
    }
   ],
   "source": [
    "match(dot3(C6_5, sig_v_3, At), ops)"
   ]
  },
  {
   "cell_type": "code",
   "execution_count": 70,
   "metadata": {},
   "outputs": [
    {
     "name": "stdout",
     "output_type": "stream",
     "text": [
      "El nuevo elemento es equivalente a: C2_(2), sigma_v_2\n",
      "\n"
     ]
    }
   ],
   "source": [
    "match(dot3(C6_5, sig_d_12, At), ops)"
   ]
  },
  {
   "cell_type": "code",
   "execution_count": 71,
   "metadata": {},
   "outputs": [
    {
     "name": "stdout",
     "output_type": "stream",
     "text": [
      "El nuevo elemento es equivalente a: C2_(3), sigma_v_3\n",
      "\n"
     ]
    }
   ],
   "source": [
    "match(dot3(C6_5, sig_d_23, At), ops)"
   ]
  },
  {
   "cell_type": "code",
   "execution_count": 72,
   "metadata": {},
   "outputs": [
    {
     "name": "stdout",
     "output_type": "stream",
     "text": [
      "El nuevo elemento es equivalente a: C2_(1), sigma_v_1\n",
      "\n"
     ]
    }
   ],
   "source": [
    "match(dot3(C6_5, sig_d_34, At), ops)"
   ]
  },
  {
   "cell_type": "code",
   "execution_count": 73,
   "metadata": {},
   "outputs": [
    {
     "name": "stdout",
     "output_type": "stream",
     "text": [
      "El nuevo elemento es equivalente a: E, sigma_h\n",
      "\n"
     ]
    }
   ],
   "source": [
    "match(dot3(C6_5, S6, At), ops)"
   ]
  },
  {
   "cell_type": "code",
   "execution_count": 79,
   "metadata": {},
   "outputs": [
    {
     "name": "stdout",
     "output_type": "stream",
     "text": [
      "El nuevo elemento es equivalente a: C6, S6\n",
      "\n"
     ]
    }
   ],
   "source": [
    "match(dot3(C6_5, S6_2, At), ops)"
   ]
  },
  {
   "cell_type": "code",
   "execution_count": 78,
   "metadata": {},
   "outputs": [
    {
     "name": "stdout",
     "output_type": "stream",
     "text": [
      "El nuevo elemento es equivalente a: C6_3, S6_3, i\n",
      "\n"
     ]
    }
   ],
   "source": [
    "match(dot3(C6_5, S6_4, At), ops)"
   ]
  },
  {
   "cell_type": "code",
   "execution_count": 76,
   "metadata": {},
   "outputs": [
    {
     "name": "stdout",
     "output_type": "stream",
     "text": [
      "El nuevo elemento es equivalente a: C6_4, S6_4\n",
      "\n"
     ]
    }
   ],
   "source": [
    "match(dot3(C6_5, S6_5, At), ops)"
   ]
  },
  {
   "cell_type": "code",
   "execution_count": 77,
   "metadata": {},
   "outputs": [
    {
     "name": "stdout",
     "output_type": "stream",
     "text": [
      "El nuevo elemento es equivalente a: C6_2, S6_2\n",
      "\n"
     ]
    }
   ],
   "source": [
    "match(dot3(C6_5, i, At), ops)"
   ]
  },
  {
   "cell_type": "markdown",
   "metadata": {},
   "source": [
    "#### Fila 7: $\\left( C^{(1)}_2 \\right)$"
   ]
  },
  {
   "cell_type": "code",
   "execution_count": 80,
   "metadata": {},
   "outputs": [
    {
     "name": "stdout",
     "output_type": "stream",
     "text": [
      "El nuevo elemento es equivalente a: C2_(1), sigma_v_1\n",
      "\n"
     ]
    }
   ],
   "source": [
    "match(dot3(C2_1, E, At), ops)"
   ]
  },
  {
   "cell_type": "code",
   "execution_count": 81,
   "metadata": {},
   "outputs": [
    {
     "name": "stdout",
     "output_type": "stream",
     "text": [
      "El nuevo elemento es equivalente a: C2_(12), sigma_d_12\n",
      "\n"
     ]
    }
   ],
   "source": [
    "match(dot3(C2_1, C6, At), ops)"
   ]
  },
  {
   "cell_type": "code",
   "execution_count": 82,
   "metadata": {},
   "outputs": [
    {
     "name": "stdout",
     "output_type": "stream",
     "text": [
      "El nuevo elemento es equivalente a: C2_(2), sigma_v_2\n",
      "\n"
     ]
    }
   ],
   "source": [
    "match(dot3(C2_1, C6_2, At), ops)"
   ]
  },
  {
   "cell_type": "code",
   "execution_count": 83,
   "metadata": {},
   "outputs": [
    {
     "name": "stdout",
     "output_type": "stream",
     "text": [
      "El nuevo elemento es equivalente a: C2_(23), sigma_d_23\n",
      "\n"
     ]
    }
   ],
   "source": [
    "match(dot3(C2_1, C6_3, At), ops)"
   ]
  },
  {
   "cell_type": "code",
   "execution_count": 84,
   "metadata": {},
   "outputs": [
    {
     "name": "stdout",
     "output_type": "stream",
     "text": [
      "El nuevo elemento es equivalente a: C2_(3), sigma_v_3\n",
      "\n"
     ]
    }
   ],
   "source": [
    "match(dot3(C2_1, C6_4, At), ops)"
   ]
  },
  {
   "cell_type": "code",
   "execution_count": 85,
   "metadata": {},
   "outputs": [
    {
     "name": "stdout",
     "output_type": "stream",
     "text": [
      "El nuevo elemento es equivalente a: C2_(34), sigma_d_34\n",
      "\n"
     ]
    }
   ],
   "source": [
    "match(dot3(C2_1, C6_5, At), ops)"
   ]
  },
  {
   "cell_type": "code",
   "execution_count": 86,
   "metadata": {},
   "outputs": [
    {
     "name": "stdout",
     "output_type": "stream",
     "text": [
      "El nuevo elemento es equivalente a: E, sigma_h\n",
      "\n"
     ]
    }
   ],
   "source": [
    "match(dot3(C2_1, C2_1, At), ops)"
   ]
  },
  {
   "cell_type": "code",
   "execution_count": 87,
   "metadata": {},
   "outputs": [
    {
     "name": "stdout",
     "output_type": "stream",
     "text": [
      "El nuevo elemento es equivalente a: C6_2, S6_2\n",
      "\n"
     ]
    }
   ],
   "source": [
    "match(dot3(C2_1, C2_2, At), ops)"
   ]
  },
  {
   "cell_type": "code",
   "execution_count": 88,
   "metadata": {},
   "outputs": [
    {
     "name": "stdout",
     "output_type": "stream",
     "text": [
      "El nuevo elemento es equivalente a: C6_4, S6_4\n",
      "\n"
     ]
    }
   ],
   "source": [
    "match(dot3(C2_1, C2_3, At), ops)"
   ]
  },
  {
   "cell_type": "code",
   "execution_count": 89,
   "metadata": {},
   "outputs": [
    {
     "name": "stdout",
     "output_type": "stream",
     "text": [
      "El nuevo elemento es equivalente a: C6, S6\n",
      "\n"
     ]
    }
   ],
   "source": [
    "match(dot3(C2_1, C2_12, At), ops)"
   ]
  },
  {
   "cell_type": "code",
   "execution_count": 90,
   "metadata": {},
   "outputs": [
    {
     "name": "stdout",
     "output_type": "stream",
     "text": [
      "El nuevo elemento es equivalente a: C6_3, S6_3, i\n",
      "\n"
     ]
    }
   ],
   "source": [
    "match(dot3(C2_1, C2_23, At), ops)"
   ]
  },
  {
   "cell_type": "code",
   "execution_count": 91,
   "metadata": {},
   "outputs": [
    {
     "name": "stdout",
     "output_type": "stream",
     "text": [
      "El nuevo elemento es equivalente a: C6_5, S6_5\n",
      "\n"
     ]
    }
   ],
   "source": [
    "match(dot3(C2_1, C2_34, At), ops)"
   ]
  },
  {
   "cell_type": "code",
   "execution_count": 92,
   "metadata": {},
   "outputs": [
    {
     "name": "stdout",
     "output_type": "stream",
     "text": [
      "El nuevo elemento es equivalente a: C2_(1), sigma_v_1\n",
      "\n"
     ]
    }
   ],
   "source": [
    "match(dot3(C2_1, sig_h, At), ops)"
   ]
  },
  {
   "cell_type": "code",
   "execution_count": 93,
   "metadata": {},
   "outputs": [
    {
     "name": "stdout",
     "output_type": "stream",
     "text": [
      "El nuevo elemento es equivalente a: E, sigma_h\n",
      "\n"
     ]
    }
   ],
   "source": [
    "match(dot3(C2_1, sig_v_1, At), ops)"
   ]
  },
  {
   "cell_type": "code",
   "execution_count": 94,
   "metadata": {},
   "outputs": [
    {
     "name": "stdout",
     "output_type": "stream",
     "text": [
      "El nuevo elemento es equivalente a: C6_2, S6_2\n",
      "\n"
     ]
    }
   ],
   "source": [
    "match(dot3(C2_1, sig_v_2, At), ops)"
   ]
  },
  {
   "cell_type": "code",
   "execution_count": 95,
   "metadata": {},
   "outputs": [
    {
     "name": "stdout",
     "output_type": "stream",
     "text": [
      "El nuevo elemento es equivalente a: C6_4, S6_4\n",
      "\n"
     ]
    }
   ],
   "source": [
    "match(dot3(C2_1, sig_v_3, At), ops)"
   ]
  },
  {
   "cell_type": "code",
   "execution_count": 96,
   "metadata": {},
   "outputs": [
    {
     "name": "stdout",
     "output_type": "stream",
     "text": [
      "El nuevo elemento es equivalente a: C6, S6\n",
      "\n"
     ]
    }
   ],
   "source": [
    "match(dot3(C2_1, sig_d_12, At), ops)"
   ]
  },
  {
   "cell_type": "code",
   "execution_count": 97,
   "metadata": {},
   "outputs": [
    {
     "name": "stdout",
     "output_type": "stream",
     "text": [
      "El nuevo elemento es equivalente a: C6_3, S6_3, i\n",
      "\n"
     ]
    }
   ],
   "source": [
    "match(dot3(C2_1, sig_d_23, At), ops)"
   ]
  },
  {
   "cell_type": "code",
   "execution_count": 98,
   "metadata": {},
   "outputs": [
    {
     "name": "stdout",
     "output_type": "stream",
     "text": [
      "El nuevo elemento es equivalente a: C6_5, S6_5\n",
      "\n"
     ]
    }
   ],
   "source": [
    "match(dot3(C2_1, sig_d_34, At), ops)"
   ]
  },
  {
   "cell_type": "code",
   "execution_count": 99,
   "metadata": {},
   "outputs": [
    {
     "name": "stdout",
     "output_type": "stream",
     "text": [
      "El nuevo elemento es equivalente a: C2_(12), sigma_d_12\n",
      "\n"
     ]
    }
   ],
   "source": [
    "match(dot3(C2_1, S6, At), ops)"
   ]
  },
  {
   "cell_type": "code",
   "execution_count": 100,
   "metadata": {},
   "outputs": [
    {
     "name": "stdout",
     "output_type": "stream",
     "text": [
      "El nuevo elemento es equivalente a: C2_(2), sigma_v_2\n",
      "\n"
     ]
    }
   ],
   "source": [
    "match(dot3(C2_1, S6_2, At), ops)"
   ]
  },
  {
   "cell_type": "code",
   "execution_count": 101,
   "metadata": {},
   "outputs": [
    {
     "name": "stdout",
     "output_type": "stream",
     "text": [
      "El nuevo elemento es equivalente a: C2_(3), sigma_v_3\n",
      "\n"
     ]
    }
   ],
   "source": [
    "match(dot3(C2_1, S6_4, At), ops)"
   ]
  },
  {
   "cell_type": "code",
   "execution_count": 102,
   "metadata": {},
   "outputs": [
    {
     "name": "stdout",
     "output_type": "stream",
     "text": [
      "El nuevo elemento es equivalente a: C2_(34), sigma_d_34\n",
      "\n"
     ]
    }
   ],
   "source": [
    "match(dot3(C2_1, S6_5, At), ops)"
   ]
  },
  {
   "cell_type": "code",
   "execution_count": 103,
   "metadata": {},
   "outputs": [
    {
     "name": "stdout",
     "output_type": "stream",
     "text": [
      "El nuevo elemento es equivalente a: C2_(23), sigma_d_23\n",
      "\n"
     ]
    }
   ],
   "source": [
    "match(dot3(C2_1, i, At), ops)"
   ]
  },
  {
   "cell_type": "markdown",
   "metadata": {},
   "source": [
    "#### Fila 8: $\\left( C^{(2)}_2 \\right)$"
   ]
  },
  {
   "cell_type": "code",
   "execution_count": 104,
   "metadata": {},
   "outputs": [
    {
     "name": "stdout",
     "output_type": "stream",
     "text": [
      "El nuevo elemento es equivalente a: C2_(2), sigma_v_2\n",
      "\n"
     ]
    }
   ],
   "source": [
    "match(dot3(C2_2, E, At), ops)"
   ]
  },
  {
   "cell_type": "code",
   "execution_count": 105,
   "metadata": {},
   "outputs": [
    {
     "name": "stdout",
     "output_type": "stream",
     "text": [
      "El nuevo elemento es equivalente a: C2_(23), sigma_d_23\n",
      "\n"
     ]
    }
   ],
   "source": [
    "match(dot3(C2_2, C6, At), ops)"
   ]
  },
  {
   "cell_type": "code",
   "execution_count": 106,
   "metadata": {},
   "outputs": [
    {
     "name": "stdout",
     "output_type": "stream",
     "text": [
      "El nuevo elemento es equivalente a: C2_(3), sigma_v_3\n",
      "\n"
     ]
    }
   ],
   "source": [
    "match(dot3(C2_2, C6_2, At), ops)"
   ]
  },
  {
   "cell_type": "code",
   "execution_count": 107,
   "metadata": {},
   "outputs": [
    {
     "name": "stdout",
     "output_type": "stream",
     "text": [
      "El nuevo elemento es equivalente a: C2_(34), sigma_d_34\n",
      "\n"
     ]
    }
   ],
   "source": [
    "match(dot3(C2_2, C6_3, At), ops)"
   ]
  },
  {
   "cell_type": "code",
   "execution_count": 108,
   "metadata": {},
   "outputs": [
    {
     "name": "stdout",
     "output_type": "stream",
     "text": [
      "El nuevo elemento es equivalente a: C2_(1), sigma_v_1\n",
      "\n"
     ]
    }
   ],
   "source": [
    "match(dot3(C2_2, C6_4, At), ops)"
   ]
  },
  {
   "cell_type": "code",
   "execution_count": 109,
   "metadata": {},
   "outputs": [
    {
     "name": "stdout",
     "output_type": "stream",
     "text": [
      "El nuevo elemento es equivalente a: C2_(12), sigma_d_12\n",
      "\n"
     ]
    }
   ],
   "source": [
    "match(dot3(C2_2, C6_5, At), ops)"
   ]
  },
  {
   "cell_type": "code",
   "execution_count": 110,
   "metadata": {},
   "outputs": [
    {
     "name": "stdout",
     "output_type": "stream",
     "text": [
      "El nuevo elemento es equivalente a: C6_4, S6_4\n",
      "\n"
     ]
    }
   ],
   "source": [
    "match(dot3(C2_2, C2_1, At), ops)"
   ]
  },
  {
   "cell_type": "code",
   "execution_count": 111,
   "metadata": {},
   "outputs": [
    {
     "name": "stdout",
     "output_type": "stream",
     "text": [
      "El nuevo elemento es equivalente a: E, sigma_h\n",
      "\n"
     ]
    }
   ],
   "source": [
    "match(dot3(C2_2, C2_2, At), ops)"
   ]
  },
  {
   "cell_type": "code",
   "execution_count": 112,
   "metadata": {},
   "outputs": [
    {
     "name": "stdout",
     "output_type": "stream",
     "text": [
      "El nuevo elemento es equivalente a: C6_2, S6_2\n",
      "\n"
     ]
    }
   ],
   "source": [
    "match(dot3(C2_2, C2_3, At), ops)"
   ]
  },
  {
   "cell_type": "code",
   "execution_count": 113,
   "metadata": {},
   "outputs": [
    {
     "name": "stdout",
     "output_type": "stream",
     "text": [
      "El nuevo elemento es equivalente a: C6_5, S6_5\n",
      "\n"
     ]
    }
   ],
   "source": [
    "match(dot3(C2_2, C2_12, At), ops)"
   ]
  },
  {
   "cell_type": "code",
   "execution_count": 114,
   "metadata": {},
   "outputs": [
    {
     "name": "stdout",
     "output_type": "stream",
     "text": [
      "El nuevo elemento es equivalente a: C6, S6\n",
      "\n"
     ]
    }
   ],
   "source": [
    "match(dot3(C2_2, C2_23, At), ops)"
   ]
  },
  {
   "cell_type": "code",
   "execution_count": 115,
   "metadata": {},
   "outputs": [
    {
     "name": "stdout",
     "output_type": "stream",
     "text": [
      "El nuevo elemento es equivalente a: C6_3, S6_3, i\n",
      "\n"
     ]
    }
   ],
   "source": [
    "match(dot3(C2_2, C2_34, At), ops)"
   ]
  },
  {
   "cell_type": "code",
   "execution_count": 116,
   "metadata": {},
   "outputs": [
    {
     "name": "stdout",
     "output_type": "stream",
     "text": [
      "El nuevo elemento es equivalente a: C2_(2), sigma_v_2\n",
      "\n"
     ]
    }
   ],
   "source": [
    "match(dot3(C2_2, sig_h, At), ops)"
   ]
  },
  {
   "cell_type": "code",
   "execution_count": 117,
   "metadata": {},
   "outputs": [
    {
     "name": "stdout",
     "output_type": "stream",
     "text": [
      "El nuevo elemento es equivalente a: C6_4, S6_4\n",
      "\n"
     ]
    }
   ],
   "source": [
    "match(dot3(C2_2, sig_v_1, At), ops)"
   ]
  },
  {
   "cell_type": "code",
   "execution_count": 118,
   "metadata": {},
   "outputs": [
    {
     "name": "stdout",
     "output_type": "stream",
     "text": [
      "El nuevo elemento es equivalente a: E, sigma_h\n",
      "\n"
     ]
    }
   ],
   "source": [
    "match(dot3(C2_2, sig_v_2, At), ops)"
   ]
  },
  {
   "cell_type": "code",
   "execution_count": 119,
   "metadata": {},
   "outputs": [
    {
     "name": "stdout",
     "output_type": "stream",
     "text": [
      "El nuevo elemento es equivalente a: C6_2, S6_2\n",
      "\n"
     ]
    }
   ],
   "source": [
    "match(dot3(C2_2, sig_v_3, At), ops)"
   ]
  },
  {
   "cell_type": "code",
   "execution_count": 120,
   "metadata": {},
   "outputs": [
    {
     "name": "stdout",
     "output_type": "stream",
     "text": [
      "El nuevo elemento es equivalente a: C6_5, S6_5\n",
      "\n"
     ]
    }
   ],
   "source": [
    "match(dot3(C2_2, sig_d_12, At), ops)"
   ]
  },
  {
   "cell_type": "code",
   "execution_count": 121,
   "metadata": {},
   "outputs": [
    {
     "name": "stdout",
     "output_type": "stream",
     "text": [
      "El nuevo elemento es equivalente a: C6, S6\n",
      "\n"
     ]
    }
   ],
   "source": [
    "match(dot3(C2_2, sig_d_23, At), ops)"
   ]
  },
  {
   "cell_type": "code",
   "execution_count": 122,
   "metadata": {},
   "outputs": [
    {
     "name": "stdout",
     "output_type": "stream",
     "text": [
      "El nuevo elemento es equivalente a: C6_3, S6_3, i\n",
      "\n"
     ]
    }
   ],
   "source": [
    "match(dot3(C2_2, sig_d_34, At), ops)"
   ]
  },
  {
   "cell_type": "code",
   "execution_count": 123,
   "metadata": {},
   "outputs": [
    {
     "name": "stdout",
     "output_type": "stream",
     "text": [
      "El nuevo elemento es equivalente a: C2_(23), sigma_d_23\n",
      "\n"
     ]
    }
   ],
   "source": [
    "match(dot3(C2_2, S6, At), ops)"
   ]
  },
  {
   "cell_type": "code",
   "execution_count": 124,
   "metadata": {},
   "outputs": [
    {
     "name": "stdout",
     "output_type": "stream",
     "text": [
      "El nuevo elemento es equivalente a: C2_(3), sigma_v_3\n",
      "\n"
     ]
    }
   ],
   "source": [
    "match(dot3(C2_2, S6_2, At), ops)"
   ]
  },
  {
   "cell_type": "code",
   "execution_count": 125,
   "metadata": {},
   "outputs": [
    {
     "name": "stdout",
     "output_type": "stream",
     "text": [
      "El nuevo elemento es equivalente a: C2_(1), sigma_v_1\n",
      "\n"
     ]
    }
   ],
   "source": [
    "match(dot3(C2_2, S6_4, At), ops)"
   ]
  },
  {
   "cell_type": "code",
   "execution_count": 126,
   "metadata": {},
   "outputs": [
    {
     "name": "stdout",
     "output_type": "stream",
     "text": [
      "El nuevo elemento es equivalente a: C2_(12), sigma_d_12\n",
      "\n"
     ]
    }
   ],
   "source": [
    "match(dot3(C2_2, S6_5, At), ops)"
   ]
  },
  {
   "cell_type": "code",
   "execution_count": 127,
   "metadata": {},
   "outputs": [
    {
     "name": "stdout",
     "output_type": "stream",
     "text": [
      "El nuevo elemento es equivalente a: C2_(34), sigma_d_34\n",
      "\n"
     ]
    }
   ],
   "source": [
    "match(dot3(C2_2, i, At), ops)"
   ]
  },
  {
   "cell_type": "markdown",
   "metadata": {},
   "source": [
    "#### Fila 9: $\\left( C^{(3)}_2 \\right)$"
   ]
  },
  {
   "cell_type": "code",
   "execution_count": 128,
   "metadata": {},
   "outputs": [
    {
     "name": "stdout",
     "output_type": "stream",
     "text": [
      "El nuevo elemento es equivalente a: C2_(3), sigma_v_3\n",
      "\n"
     ]
    }
   ],
   "source": [
    "match(dot3(C2_3, E, At), ops)"
   ]
  },
  {
   "cell_type": "code",
   "execution_count": 129,
   "metadata": {},
   "outputs": [
    {
     "name": "stdout",
     "output_type": "stream",
     "text": [
      "El nuevo elemento es equivalente a: C2_(34), sigma_d_34\n",
      "\n"
     ]
    }
   ],
   "source": [
    "match(dot3(C2_3, C6, At), ops)"
   ]
  },
  {
   "cell_type": "code",
   "execution_count": 130,
   "metadata": {},
   "outputs": [
    {
     "name": "stdout",
     "output_type": "stream",
     "text": [
      "El nuevo elemento es equivalente a: C2_(1), sigma_v_1\n",
      "\n"
     ]
    }
   ],
   "source": [
    "match(dot3(C2_3, C6_2, At), ops)"
   ]
  },
  {
   "cell_type": "code",
   "execution_count": 131,
   "metadata": {},
   "outputs": [
    {
     "name": "stdout",
     "output_type": "stream",
     "text": [
      "El nuevo elemento es equivalente a: C2_(12), sigma_d_12\n",
      "\n"
     ]
    }
   ],
   "source": [
    "match(dot3(C2_3, C6_3, At), ops)"
   ]
  },
  {
   "cell_type": "code",
   "execution_count": 132,
   "metadata": {},
   "outputs": [
    {
     "name": "stdout",
     "output_type": "stream",
     "text": [
      "El nuevo elemento es equivalente a: C2_(2), sigma_v_2\n",
      "\n"
     ]
    }
   ],
   "source": [
    "match(dot3(C2_3, C6_4, At), ops)"
   ]
  },
  {
   "cell_type": "code",
   "execution_count": 133,
   "metadata": {},
   "outputs": [
    {
     "name": "stdout",
     "output_type": "stream",
     "text": [
      "El nuevo elemento es equivalente a: C2_(23), sigma_d_23\n",
      "\n"
     ]
    }
   ],
   "source": [
    "match(dot3(C2_3, C6_5, At), ops)"
   ]
  },
  {
   "cell_type": "code",
   "execution_count": 134,
   "metadata": {},
   "outputs": [
    {
     "name": "stdout",
     "output_type": "stream",
     "text": [
      "El nuevo elemento es equivalente a: C6_2, S6_2\n",
      "\n"
     ]
    }
   ],
   "source": [
    "match(dot3(C2_3, C2_1, At), ops)"
   ]
  },
  {
   "cell_type": "code",
   "execution_count": 135,
   "metadata": {},
   "outputs": [
    {
     "name": "stdout",
     "output_type": "stream",
     "text": [
      "El nuevo elemento es equivalente a: C6_4, S6_4\n",
      "\n"
     ]
    }
   ],
   "source": [
    "match(dot3(C2_3, C2_2, At), ops)"
   ]
  },
  {
   "cell_type": "code",
   "execution_count": 136,
   "metadata": {},
   "outputs": [
    {
     "name": "stdout",
     "output_type": "stream",
     "text": [
      "El nuevo elemento es equivalente a: E, sigma_h\n",
      "\n"
     ]
    }
   ],
   "source": [
    "match(dot3(C2_3, C2_3, At), ops)"
   ]
  },
  {
   "cell_type": "code",
   "execution_count": 137,
   "metadata": {},
   "outputs": [
    {
     "name": "stdout",
     "output_type": "stream",
     "text": [
      "El nuevo elemento es equivalente a: C6_3, S6_3, i\n",
      "\n"
     ]
    }
   ],
   "source": [
    "match(dot3(C2_3, C2_12, At), ops)"
   ]
  },
  {
   "cell_type": "code",
   "execution_count": 138,
   "metadata": {},
   "outputs": [
    {
     "name": "stdout",
     "output_type": "stream",
     "text": [
      "El nuevo elemento es equivalente a: C6_5, S6_5\n",
      "\n"
     ]
    }
   ],
   "source": [
    "match(dot3(C2_3, C2_23, At), ops)"
   ]
  },
  {
   "cell_type": "code",
   "execution_count": 139,
   "metadata": {},
   "outputs": [
    {
     "name": "stdout",
     "output_type": "stream",
     "text": [
      "El nuevo elemento es equivalente a: C6, S6\n",
      "\n"
     ]
    }
   ],
   "source": [
    "match(dot3(C2_3, C2_34, At), ops)"
   ]
  },
  {
   "cell_type": "code",
   "execution_count": 140,
   "metadata": {},
   "outputs": [
    {
     "name": "stdout",
     "output_type": "stream",
     "text": [
      "El nuevo elemento es equivalente a: C2_(3), sigma_v_3\n",
      "\n"
     ]
    }
   ],
   "source": [
    "match(dot3(C2_3, sig_h, At), ops)"
   ]
  },
  {
   "cell_type": "code",
   "execution_count": 141,
   "metadata": {},
   "outputs": [
    {
     "name": "stdout",
     "output_type": "stream",
     "text": [
      "El nuevo elemento es equivalente a: C6_2, S6_2\n",
      "\n"
     ]
    }
   ],
   "source": [
    "match(dot3(C2_3, sig_v_1, At), ops)"
   ]
  },
  {
   "cell_type": "code",
   "execution_count": 142,
   "metadata": {},
   "outputs": [
    {
     "name": "stdout",
     "output_type": "stream",
     "text": [
      "El nuevo elemento es equivalente a: C6_4, S6_4\n",
      "\n"
     ]
    }
   ],
   "source": [
    "match(dot3(C2_3, sig_v_2, At), ops)"
   ]
  },
  {
   "cell_type": "code",
   "execution_count": 143,
   "metadata": {},
   "outputs": [
    {
     "name": "stdout",
     "output_type": "stream",
     "text": [
      "El nuevo elemento es equivalente a: E, sigma_h\n",
      "\n"
     ]
    }
   ],
   "source": [
    "match(dot3(C2_3, sig_v_3, At), ops)"
   ]
  },
  {
   "cell_type": "code",
   "execution_count": 144,
   "metadata": {},
   "outputs": [
    {
     "name": "stdout",
     "output_type": "stream",
     "text": [
      "El nuevo elemento es equivalente a: C6_3, S6_3, i\n",
      "\n"
     ]
    }
   ],
   "source": [
    "match(dot3(C2_3, sig_d_12, At), ops)"
   ]
  },
  {
   "cell_type": "code",
   "execution_count": 145,
   "metadata": {},
   "outputs": [
    {
     "name": "stdout",
     "output_type": "stream",
     "text": [
      "El nuevo elemento es equivalente a: C6_5, S6_5\n",
      "\n"
     ]
    }
   ],
   "source": [
    "match(dot3(C2_3, sig_d_23, At), ops)"
   ]
  },
  {
   "cell_type": "code",
   "execution_count": 146,
   "metadata": {},
   "outputs": [
    {
     "name": "stdout",
     "output_type": "stream",
     "text": [
      "El nuevo elemento es equivalente a: C6, S6\n",
      "\n"
     ]
    }
   ],
   "source": [
    "match(dot3(C2_3, sig_d_34, At), ops)"
   ]
  },
  {
   "cell_type": "code",
   "execution_count": 147,
   "metadata": {},
   "outputs": [
    {
     "name": "stdout",
     "output_type": "stream",
     "text": [
      "El nuevo elemento es equivalente a: C2_(34), sigma_d_34\n",
      "\n"
     ]
    }
   ],
   "source": [
    "match(dot3(C2_3, S6, At), ops)"
   ]
  },
  {
   "cell_type": "code",
   "execution_count": 148,
   "metadata": {},
   "outputs": [
    {
     "name": "stdout",
     "output_type": "stream",
     "text": [
      "El nuevo elemento es equivalente a: C2_(1), sigma_v_1\n",
      "\n"
     ]
    }
   ],
   "source": [
    "match(dot3(C2_3, S6_2, At), ops)"
   ]
  },
  {
   "cell_type": "code",
   "execution_count": 149,
   "metadata": {},
   "outputs": [
    {
     "name": "stdout",
     "output_type": "stream",
     "text": [
      "El nuevo elemento es equivalente a: C2_(2), sigma_v_2\n",
      "\n"
     ]
    }
   ],
   "source": [
    "match(dot3(C2_3, S6_4, At), ops)"
   ]
  },
  {
   "cell_type": "code",
   "execution_count": 150,
   "metadata": {},
   "outputs": [
    {
     "name": "stdout",
     "output_type": "stream",
     "text": [
      "El nuevo elemento es equivalente a: C2_(23), sigma_d_23\n",
      "\n"
     ]
    }
   ],
   "source": [
    "match(dot3(C2_3, S6_5, At), ops)"
   ]
  },
  {
   "cell_type": "code",
   "execution_count": 151,
   "metadata": {},
   "outputs": [
    {
     "name": "stdout",
     "output_type": "stream",
     "text": [
      "El nuevo elemento es equivalente a: C2_(12), sigma_d_12\n",
      "\n"
     ]
    }
   ],
   "source": [
    "match(dot3(C2_3, i, At), ops)"
   ]
  },
  {
   "cell_type": "markdown",
   "metadata": {},
   "source": [
    "#### Fila 10: $\\left( C^{(12)}_2 \\right)$"
   ]
  },
  {
   "cell_type": "code",
   "execution_count": 152,
   "metadata": {},
   "outputs": [
    {
     "name": "stdout",
     "output_type": "stream",
     "text": [
      "El nuevo elemento es equivalente a: C2_(12), sigma_d_12\n",
      "\n"
     ]
    }
   ],
   "source": [
    "match(dot3(C2_12, E, At), ops)"
   ]
  },
  {
   "cell_type": "code",
   "execution_count": 153,
   "metadata": {},
   "outputs": [
    {
     "name": "stdout",
     "output_type": "stream",
     "text": [
      "El nuevo elemento es equivalente a: C2_(2), sigma_v_2\n",
      "\n"
     ]
    }
   ],
   "source": [
    "match(dot3(C2_12, C6, At), ops)"
   ]
  },
  {
   "cell_type": "code",
   "execution_count": 154,
   "metadata": {},
   "outputs": [
    {
     "name": "stdout",
     "output_type": "stream",
     "text": [
      "El nuevo elemento es equivalente a: C2_(23), sigma_d_23\n",
      "\n"
     ]
    }
   ],
   "source": [
    "match(dot3(C2_12, C6_2, At), ops)"
   ]
  },
  {
   "cell_type": "code",
   "execution_count": 155,
   "metadata": {},
   "outputs": [
    {
     "name": "stdout",
     "output_type": "stream",
     "text": [
      "El nuevo elemento es equivalente a: C2_(3), sigma_v_3\n",
      "\n"
     ]
    }
   ],
   "source": [
    "match(dot3(C2_12, C6_3, At), ops)"
   ]
  },
  {
   "cell_type": "code",
   "execution_count": 156,
   "metadata": {},
   "outputs": [
    {
     "name": "stdout",
     "output_type": "stream",
     "text": [
      "El nuevo elemento es equivalente a: C2_(34), sigma_d_34\n",
      "\n"
     ]
    }
   ],
   "source": [
    "match(dot3(C2_12, C6_4, At), ops)"
   ]
  },
  {
   "cell_type": "code",
   "execution_count": 157,
   "metadata": {},
   "outputs": [
    {
     "name": "stdout",
     "output_type": "stream",
     "text": [
      "El nuevo elemento es equivalente a: C2_(1), sigma_v_1\n",
      "\n"
     ]
    }
   ],
   "source": [
    "match(dot3(C2_12, C6_5, At), ops)"
   ]
  },
  {
   "cell_type": "code",
   "execution_count": 158,
   "metadata": {},
   "outputs": [
    {
     "name": "stdout",
     "output_type": "stream",
     "text": [
      "El nuevo elemento es equivalente a: C6_5, S6_5\n",
      "\n"
     ]
    }
   ],
   "source": [
    "match(dot3(C2_12, C2_1, At), ops)"
   ]
  },
  {
   "cell_type": "code",
   "execution_count": 159,
   "metadata": {},
   "outputs": [
    {
     "name": "stdout",
     "output_type": "stream",
     "text": [
      "El nuevo elemento es equivalente a: C6, S6\n",
      "\n"
     ]
    }
   ],
   "source": [
    "match(dot3(C2_12, C2_2, At), ops)"
   ]
  },
  {
   "cell_type": "code",
   "execution_count": 160,
   "metadata": {},
   "outputs": [
    {
     "name": "stdout",
     "output_type": "stream",
     "text": [
      "El nuevo elemento es equivalente a: C6_3, S6_3, i\n",
      "\n"
     ]
    }
   ],
   "source": [
    "match(dot3(C2_12, C2_3, At), ops)"
   ]
  },
  {
   "cell_type": "code",
   "execution_count": 161,
   "metadata": {},
   "outputs": [
    {
     "name": "stdout",
     "output_type": "stream",
     "text": [
      "El nuevo elemento es equivalente a: E, sigma_h\n",
      "\n"
     ]
    }
   ],
   "source": [
    "match(dot3(C2_12, C2_12, At), ops)"
   ]
  },
  {
   "cell_type": "code",
   "execution_count": 162,
   "metadata": {},
   "outputs": [
    {
     "name": "stdout",
     "output_type": "stream",
     "text": [
      "El nuevo elemento es equivalente a: C6_2, S6_2\n",
      "\n"
     ]
    }
   ],
   "source": [
    "match(dot3(C2_12, C2_23, At), ops)"
   ]
  },
  {
   "cell_type": "code",
   "execution_count": 163,
   "metadata": {},
   "outputs": [
    {
     "name": "stdout",
     "output_type": "stream",
     "text": [
      "El nuevo elemento es equivalente a: C6_4, S6_4\n",
      "\n"
     ]
    }
   ],
   "source": [
    "match(dot3(C2_12, C2_34, At), ops)"
   ]
  },
  {
   "cell_type": "code",
   "execution_count": 164,
   "metadata": {},
   "outputs": [
    {
     "name": "stdout",
     "output_type": "stream",
     "text": [
      "El nuevo elemento es equivalente a: C2_(12), sigma_d_12\n",
      "\n"
     ]
    }
   ],
   "source": [
    "match(dot3(C2_12, sig_h, At), ops)"
   ]
  },
  {
   "cell_type": "code",
   "execution_count": 165,
   "metadata": {},
   "outputs": [
    {
     "name": "stdout",
     "output_type": "stream",
     "text": [
      "El nuevo elemento es equivalente a: C6_5, S6_5\n",
      "\n"
     ]
    }
   ],
   "source": [
    "match(dot3(C2_12, sig_v_1, At), ops)"
   ]
  },
  {
   "cell_type": "code",
   "execution_count": 166,
   "metadata": {},
   "outputs": [
    {
     "name": "stdout",
     "output_type": "stream",
     "text": [
      "El nuevo elemento es equivalente a: C6, S6\n",
      "\n"
     ]
    }
   ],
   "source": [
    "match(dot3(C2_12, sig_v_2, At), ops)"
   ]
  },
  {
   "cell_type": "code",
   "execution_count": 167,
   "metadata": {},
   "outputs": [
    {
     "name": "stdout",
     "output_type": "stream",
     "text": [
      "El nuevo elemento es equivalente a: C6_3, S6_3, i\n",
      "\n"
     ]
    }
   ],
   "source": [
    "match(dot3(C2_12, sig_v_3, At), ops)"
   ]
  },
  {
   "cell_type": "code",
   "execution_count": 168,
   "metadata": {},
   "outputs": [
    {
     "name": "stdout",
     "output_type": "stream",
     "text": [
      "El nuevo elemento es equivalente a: E, sigma_h\n",
      "\n"
     ]
    }
   ],
   "source": [
    "match(dot3(C2_12, sig_d_12, At), ops)"
   ]
  },
  {
   "cell_type": "code",
   "execution_count": 169,
   "metadata": {},
   "outputs": [
    {
     "name": "stdout",
     "output_type": "stream",
     "text": [
      "El nuevo elemento es equivalente a: C6_2, S6_2\n",
      "\n"
     ]
    }
   ],
   "source": [
    "match(dot3(C2_12, sig_d_23, At), ops)"
   ]
  },
  {
   "cell_type": "code",
   "execution_count": 170,
   "metadata": {},
   "outputs": [
    {
     "name": "stdout",
     "output_type": "stream",
     "text": [
      "El nuevo elemento es equivalente a: C6_4, S6_4\n",
      "\n"
     ]
    }
   ],
   "source": [
    "match(dot3(C2_12, sig_d_34, At), ops)"
   ]
  },
  {
   "cell_type": "code",
   "execution_count": 171,
   "metadata": {},
   "outputs": [
    {
     "name": "stdout",
     "output_type": "stream",
     "text": [
      "El nuevo elemento es equivalente a: C2_(2), sigma_v_2\n",
      "\n"
     ]
    }
   ],
   "source": [
    "match(dot3(C2_12, S6, At), ops)"
   ]
  },
  {
   "cell_type": "code",
   "execution_count": 172,
   "metadata": {},
   "outputs": [
    {
     "name": "stdout",
     "output_type": "stream",
     "text": [
      "El nuevo elemento es equivalente a: C2_(23), sigma_d_23\n",
      "\n"
     ]
    }
   ],
   "source": [
    "match(dot3(C2_12, S6_2, At), ops)"
   ]
  },
  {
   "cell_type": "code",
   "execution_count": 173,
   "metadata": {},
   "outputs": [
    {
     "name": "stdout",
     "output_type": "stream",
     "text": [
      "El nuevo elemento es equivalente a: C2_(34), sigma_d_34\n",
      "\n"
     ]
    }
   ],
   "source": [
    "match(dot3(C2_12, S6_4, At), ops)"
   ]
  },
  {
   "cell_type": "code",
   "execution_count": 174,
   "metadata": {},
   "outputs": [
    {
     "name": "stdout",
     "output_type": "stream",
     "text": [
      "El nuevo elemento es equivalente a: C2_(1), sigma_v_1\n",
      "\n"
     ]
    }
   ],
   "source": [
    "match(dot3(C2_12, S6_5, At), ops)"
   ]
  },
  {
   "cell_type": "code",
   "execution_count": 175,
   "metadata": {},
   "outputs": [
    {
     "name": "stdout",
     "output_type": "stream",
     "text": [
      "El nuevo elemento es equivalente a: C2_(3), sigma_v_3\n",
      "\n"
     ]
    }
   ],
   "source": [
    "match(dot3(C2_12, i, At), ops)"
   ]
  },
  {
   "cell_type": "markdown",
   "metadata": {},
   "source": [
    "#### Fila 11: $\\left( C^{(23)}_2 \\right)$"
   ]
  },
  {
   "cell_type": "code",
   "execution_count": 176,
   "metadata": {},
   "outputs": [
    {
     "name": "stdout",
     "output_type": "stream",
     "text": [
      "El nuevo elemento es equivalente a: C2_(23), sigma_d_23\n",
      "\n"
     ]
    }
   ],
   "source": [
    "match(dot3(C2_23, E, At), ops)"
   ]
  },
  {
   "cell_type": "code",
   "execution_count": 177,
   "metadata": {},
   "outputs": [
    {
     "name": "stdout",
     "output_type": "stream",
     "text": [
      "El nuevo elemento es equivalente a: C2_(3), sigma_v_3\n",
      "\n"
     ]
    }
   ],
   "source": [
    "match(dot3(C2_23, C6, At), ops)"
   ]
  },
  {
   "cell_type": "code",
   "execution_count": 178,
   "metadata": {},
   "outputs": [
    {
     "name": "stdout",
     "output_type": "stream",
     "text": [
      "El nuevo elemento es equivalente a: C2_(34), sigma_d_34\n",
      "\n"
     ]
    }
   ],
   "source": [
    "match(dot3(C2_23, C6_2, At), ops)"
   ]
  },
  {
   "cell_type": "code",
   "execution_count": 179,
   "metadata": {},
   "outputs": [
    {
     "name": "stdout",
     "output_type": "stream",
     "text": [
      "El nuevo elemento es equivalente a: C2_(1), sigma_v_1\n",
      "\n"
     ]
    }
   ],
   "source": [
    "match(dot3(C2_23, C6_3, At), ops)"
   ]
  },
  {
   "cell_type": "code",
   "execution_count": 183,
   "metadata": {},
   "outputs": [
    {
     "name": "stdout",
     "output_type": "stream",
     "text": [
      "El nuevo elemento es equivalente a: C2_(12), sigma_d_12\n",
      "\n"
     ]
    }
   ],
   "source": [
    "match(dot3(C2_23, C6_4, At), ops)"
   ]
  },
  {
   "cell_type": "code",
   "execution_count": 184,
   "metadata": {},
   "outputs": [
    {
     "name": "stdout",
     "output_type": "stream",
     "text": [
      "El nuevo elemento es equivalente a: C2_(2), sigma_v_2\n",
      "\n"
     ]
    }
   ],
   "source": [
    "match(dot3(C2_23, C6_5, At), ops)"
   ]
  },
  {
   "cell_type": "code",
   "execution_count": 185,
   "metadata": {},
   "outputs": [
    {
     "name": "stdout",
     "output_type": "stream",
     "text": [
      "El nuevo elemento es equivalente a: C6_3, S6_3, i\n",
      "\n"
     ]
    }
   ],
   "source": [
    "match(dot3(C2_23, C2_1, At), ops)"
   ]
  },
  {
   "cell_type": "code",
   "execution_count": 186,
   "metadata": {},
   "outputs": [
    {
     "name": "stdout",
     "output_type": "stream",
     "text": [
      "El nuevo elemento es equivalente a: C6_5, S6_5\n",
      "\n"
     ]
    }
   ],
   "source": [
    "match(dot3(C2_23, C2_2, At), ops)"
   ]
  },
  {
   "cell_type": "code",
   "execution_count": 187,
   "metadata": {},
   "outputs": [
    {
     "name": "stdout",
     "output_type": "stream",
     "text": [
      "El nuevo elemento es equivalente a: C6, S6\n",
      "\n"
     ]
    }
   ],
   "source": [
    "match(dot3(C2_23, C2_3, At), ops)"
   ]
  },
  {
   "cell_type": "code",
   "execution_count": 188,
   "metadata": {},
   "outputs": [
    {
     "name": "stdout",
     "output_type": "stream",
     "text": [
      "El nuevo elemento es equivalente a: C6_4, S6_4\n",
      "\n"
     ]
    }
   ],
   "source": [
    "match(dot3(C2_23, C2_12, At), ops)"
   ]
  },
  {
   "cell_type": "code",
   "execution_count": 189,
   "metadata": {},
   "outputs": [
    {
     "name": "stdout",
     "output_type": "stream",
     "text": [
      "El nuevo elemento es equivalente a: E, sigma_h\n",
      "\n"
     ]
    }
   ],
   "source": [
    "match(dot3(C2_23, C2_23, At), ops)"
   ]
  },
  {
   "cell_type": "code",
   "execution_count": 190,
   "metadata": {},
   "outputs": [
    {
     "name": "stdout",
     "output_type": "stream",
     "text": [
      "El nuevo elemento es equivalente a: C6_2, S6_2\n",
      "\n"
     ]
    }
   ],
   "source": [
    "match(dot3(C2_23, C2_34, At), ops)"
   ]
  },
  {
   "cell_type": "code",
   "execution_count": 191,
   "metadata": {},
   "outputs": [
    {
     "name": "stdout",
     "output_type": "stream",
     "text": [
      "El nuevo elemento es equivalente a: C2_(23), sigma_d_23\n",
      "\n"
     ]
    }
   ],
   "source": [
    "match(dot3(C2_23, sig_h, At), ops)"
   ]
  },
  {
   "cell_type": "code",
   "execution_count": 192,
   "metadata": {},
   "outputs": [
    {
     "name": "stdout",
     "output_type": "stream",
     "text": [
      "El nuevo elemento es equivalente a: C6_3, S6_3, i\n",
      "\n"
     ]
    }
   ],
   "source": [
    "match(dot3(C2_23, sig_v_1, At), ops)"
   ]
  },
  {
   "cell_type": "code",
   "execution_count": 193,
   "metadata": {},
   "outputs": [
    {
     "name": "stdout",
     "output_type": "stream",
     "text": [
      "El nuevo elemento es equivalente a: C6_5, S6_5\n",
      "\n"
     ]
    }
   ],
   "source": [
    "match(dot3(C2_23, sig_v_2, At), ops)"
   ]
  },
  {
   "cell_type": "code",
   "execution_count": 194,
   "metadata": {},
   "outputs": [
    {
     "name": "stdout",
     "output_type": "stream",
     "text": [
      "El nuevo elemento es equivalente a: C6, S6\n",
      "\n"
     ]
    }
   ],
   "source": [
    "match(dot3(C2_23, sig_v_3, At), ops)"
   ]
  },
  {
   "cell_type": "code",
   "execution_count": 195,
   "metadata": {},
   "outputs": [
    {
     "name": "stdout",
     "output_type": "stream",
     "text": [
      "El nuevo elemento es equivalente a: C6_4, S6_4\n",
      "\n"
     ]
    }
   ],
   "source": [
    "match(dot3(C2_23, sig_d_12, At), ops)"
   ]
  },
  {
   "cell_type": "code",
   "execution_count": 196,
   "metadata": {},
   "outputs": [
    {
     "name": "stdout",
     "output_type": "stream",
     "text": [
      "El nuevo elemento es equivalente a: E, sigma_h\n",
      "\n"
     ]
    }
   ],
   "source": [
    "match(dot3(C2_23, sig_d_23, At), ops)"
   ]
  },
  {
   "cell_type": "code",
   "execution_count": 197,
   "metadata": {},
   "outputs": [
    {
     "name": "stdout",
     "output_type": "stream",
     "text": [
      "El nuevo elemento es equivalente a: C6_2, S6_2\n",
      "\n"
     ]
    }
   ],
   "source": [
    "match(dot3(C2_23, sig_d_34, At), ops)"
   ]
  },
  {
   "cell_type": "code",
   "execution_count": 198,
   "metadata": {},
   "outputs": [
    {
     "name": "stdout",
     "output_type": "stream",
     "text": [
      "El nuevo elemento es equivalente a: C2_(3), sigma_v_3\n",
      "\n"
     ]
    }
   ],
   "source": [
    "match(dot3(C2_23, S6, At), ops)"
   ]
  },
  {
   "cell_type": "code",
   "execution_count": 199,
   "metadata": {},
   "outputs": [
    {
     "name": "stdout",
     "output_type": "stream",
     "text": [
      "El nuevo elemento es equivalente a: C2_(34), sigma_d_34\n",
      "\n"
     ]
    }
   ],
   "source": [
    "match(dot3(C2_23, S6_2, At), ops)"
   ]
  },
  {
   "cell_type": "code",
   "execution_count": 200,
   "metadata": {},
   "outputs": [
    {
     "name": "stdout",
     "output_type": "stream",
     "text": [
      "El nuevo elemento es equivalente a: C2_(12), sigma_d_12\n",
      "\n"
     ]
    }
   ],
   "source": [
    "match(dot3(C2_23, S6_4, At), ops)"
   ]
  },
  {
   "cell_type": "code",
   "execution_count": 201,
   "metadata": {},
   "outputs": [
    {
     "name": "stdout",
     "output_type": "stream",
     "text": [
      "El nuevo elemento es equivalente a: C2_(2), sigma_v_2\n",
      "\n"
     ]
    }
   ],
   "source": [
    "match(dot3(C2_23, S6_5, At), ops)"
   ]
  },
  {
   "cell_type": "code",
   "execution_count": 202,
   "metadata": {},
   "outputs": [
    {
     "name": "stdout",
     "output_type": "stream",
     "text": [
      "El nuevo elemento es equivalente a: C2_(1), sigma_v_1\n",
      "\n"
     ]
    }
   ],
   "source": [
    "match(dot3(C2_23, i, At), ops)"
   ]
  },
  {
   "cell_type": "markdown",
   "metadata": {},
   "source": [
    "#### Fila 12: $\\left( C^{(34)}_2 \\right)$"
   ]
  },
  {
   "cell_type": "code",
   "execution_count": 203,
   "metadata": {},
   "outputs": [
    {
     "name": "stdout",
     "output_type": "stream",
     "text": [
      "El nuevo elemento es equivalente a: C2_(34), sigma_d_34\n",
      "\n"
     ]
    }
   ],
   "source": [
    "match(dot3(C2_34, E, At), ops)"
   ]
  },
  {
   "cell_type": "code",
   "execution_count": 204,
   "metadata": {},
   "outputs": [
    {
     "name": "stdout",
     "output_type": "stream",
     "text": [
      "El nuevo elemento es equivalente a: C2_(1), sigma_v_1\n",
      "\n"
     ]
    }
   ],
   "source": [
    "match(dot3(C2_34, C6, At), ops)"
   ]
  },
  {
   "cell_type": "code",
   "execution_count": 205,
   "metadata": {},
   "outputs": [
    {
     "name": "stdout",
     "output_type": "stream",
     "text": [
      "El nuevo elemento es equivalente a: C2_(12), sigma_d_12\n",
      "\n"
     ]
    }
   ],
   "source": [
    "match(dot3(C2_34, C6_2, At), ops)"
   ]
  },
  {
   "cell_type": "code",
   "execution_count": 206,
   "metadata": {},
   "outputs": [
    {
     "name": "stdout",
     "output_type": "stream",
     "text": [
      "El nuevo elemento es equivalente a: C2_(2), sigma_v_2\n",
      "\n"
     ]
    }
   ],
   "source": [
    "match(dot3(C2_34, C6_3, At), ops)"
   ]
  },
  {
   "cell_type": "code",
   "execution_count": 207,
   "metadata": {},
   "outputs": [
    {
     "name": "stdout",
     "output_type": "stream",
     "text": [
      "El nuevo elemento es equivalente a: C2_(23), sigma_d_23\n",
      "\n"
     ]
    }
   ],
   "source": [
    "match(dot3(C2_34, C6_4, At), ops)"
   ]
  },
  {
   "cell_type": "code",
   "execution_count": 208,
   "metadata": {},
   "outputs": [
    {
     "name": "stdout",
     "output_type": "stream",
     "text": [
      "El nuevo elemento es equivalente a: C2_(3), sigma_v_3\n",
      "\n"
     ]
    }
   ],
   "source": [
    "match(dot3(C2_34, C6_5, At), ops)"
   ]
  },
  {
   "cell_type": "code",
   "execution_count": 209,
   "metadata": {},
   "outputs": [
    {
     "name": "stdout",
     "output_type": "stream",
     "text": [
      "El nuevo elemento es equivalente a: C6, S6\n",
      "\n"
     ]
    }
   ],
   "source": [
    "match(dot3(C2_34, C2_1, At), ops)"
   ]
  },
  {
   "cell_type": "code",
   "execution_count": 210,
   "metadata": {},
   "outputs": [
    {
     "name": "stdout",
     "output_type": "stream",
     "text": [
      "El nuevo elemento es equivalente a: C6_3, S6_3, i\n",
      "\n"
     ]
    }
   ],
   "source": [
    "match(dot3(C2_34, C2_2, At), ops)"
   ]
  },
  {
   "cell_type": "code",
   "execution_count": 211,
   "metadata": {},
   "outputs": [
    {
     "name": "stdout",
     "output_type": "stream",
     "text": [
      "El nuevo elemento es equivalente a: C6_5, S6_5\n",
      "\n"
     ]
    }
   ],
   "source": [
    "match(dot3(C2_34, C2_3, At), ops)"
   ]
  },
  {
   "cell_type": "code",
   "execution_count": 212,
   "metadata": {},
   "outputs": [
    {
     "name": "stdout",
     "output_type": "stream",
     "text": [
      "El nuevo elemento es equivalente a: C6_2, S6_2\n",
      "\n"
     ]
    }
   ],
   "source": [
    "match(dot3(C2_34, C2_12, At), ops)"
   ]
  },
  {
   "cell_type": "code",
   "execution_count": 213,
   "metadata": {},
   "outputs": [
    {
     "name": "stdout",
     "output_type": "stream",
     "text": [
      "El nuevo elemento es equivalente a: C6_4, S6_4\n",
      "\n"
     ]
    }
   ],
   "source": [
    "match(dot3(C2_34, C2_23, At), ops)"
   ]
  },
  {
   "cell_type": "code",
   "execution_count": 214,
   "metadata": {},
   "outputs": [
    {
     "name": "stdout",
     "output_type": "stream",
     "text": [
      "El nuevo elemento es equivalente a: E, sigma_h\n",
      "\n"
     ]
    }
   ],
   "source": [
    "match(dot3(C2_34, C2_34, At), ops)"
   ]
  },
  {
   "cell_type": "code",
   "execution_count": 215,
   "metadata": {},
   "outputs": [
    {
     "name": "stdout",
     "output_type": "stream",
     "text": [
      "El nuevo elemento es equivalente a: C2_(34), sigma_d_34\n",
      "\n"
     ]
    }
   ],
   "source": [
    "match(dot3(C2_34, sig_h, At), ops)"
   ]
  },
  {
   "cell_type": "code",
   "execution_count": 216,
   "metadata": {},
   "outputs": [
    {
     "name": "stdout",
     "output_type": "stream",
     "text": [
      "El nuevo elemento es equivalente a: C6, S6\n",
      "\n"
     ]
    }
   ],
   "source": [
    "match(dot3(C2_34, sig_v_1, At), ops)"
   ]
  },
  {
   "cell_type": "code",
   "execution_count": 217,
   "metadata": {},
   "outputs": [
    {
     "name": "stdout",
     "output_type": "stream",
     "text": [
      "El nuevo elemento es equivalente a: C6_3, S6_3, i\n",
      "\n"
     ]
    }
   ],
   "source": [
    "match(dot3(C2_34, sig_v_2, At), ops)"
   ]
  },
  {
   "cell_type": "code",
   "execution_count": 218,
   "metadata": {},
   "outputs": [
    {
     "name": "stdout",
     "output_type": "stream",
     "text": [
      "El nuevo elemento es equivalente a: C6_5, S6_5\n",
      "\n"
     ]
    }
   ],
   "source": [
    "match(dot3(C2_34, sig_v_3, At), ops)"
   ]
  },
  {
   "cell_type": "code",
   "execution_count": 219,
   "metadata": {},
   "outputs": [
    {
     "name": "stdout",
     "output_type": "stream",
     "text": [
      "El nuevo elemento es equivalente a: C6_2, S6_2\n",
      "\n"
     ]
    }
   ],
   "source": [
    "match(dot3(C2_34, sig_d_12, At), ops)"
   ]
  },
  {
   "cell_type": "code",
   "execution_count": 220,
   "metadata": {},
   "outputs": [
    {
     "name": "stdout",
     "output_type": "stream",
     "text": [
      "El nuevo elemento es equivalente a: C6_4, S6_4\n",
      "\n"
     ]
    }
   ],
   "source": [
    "match(dot3(C2_34, sig_d_23, At), ops)"
   ]
  },
  {
   "cell_type": "code",
   "execution_count": 221,
   "metadata": {},
   "outputs": [
    {
     "name": "stdout",
     "output_type": "stream",
     "text": [
      "El nuevo elemento es equivalente a: E, sigma_h\n",
      "\n"
     ]
    }
   ],
   "source": [
    "match(dot3(C2_34, sig_d_34, At), ops)"
   ]
  },
  {
   "cell_type": "code",
   "execution_count": 222,
   "metadata": {},
   "outputs": [
    {
     "name": "stdout",
     "output_type": "stream",
     "text": [
      "El nuevo elemento es equivalente a: C2_(1), sigma_v_1\n",
      "\n"
     ]
    }
   ],
   "source": [
    "match(dot3(C2_34, S6, At), ops)"
   ]
  },
  {
   "cell_type": "code",
   "execution_count": 223,
   "metadata": {},
   "outputs": [
    {
     "name": "stdout",
     "output_type": "stream",
     "text": [
      "El nuevo elemento es equivalente a: C2_(12), sigma_d_12\n",
      "\n"
     ]
    }
   ],
   "source": [
    "match(dot3(C2_34, S6_2, At), ops)"
   ]
  },
  {
   "cell_type": "code",
   "execution_count": 224,
   "metadata": {},
   "outputs": [
    {
     "name": "stdout",
     "output_type": "stream",
     "text": [
      "El nuevo elemento es equivalente a: C2_(23), sigma_d_23\n",
      "\n"
     ]
    }
   ],
   "source": [
    "match(dot3(C2_34, S6_4, At), ops)"
   ]
  },
  {
   "cell_type": "code",
   "execution_count": 225,
   "metadata": {},
   "outputs": [
    {
     "name": "stdout",
     "output_type": "stream",
     "text": [
      "El nuevo elemento es equivalente a: C2_(3), sigma_v_3\n",
      "\n"
     ]
    }
   ],
   "source": [
    "match(dot3(C2_34, S6_5, At), ops)"
   ]
  },
  {
   "cell_type": "code",
   "execution_count": 226,
   "metadata": {},
   "outputs": [
    {
     "name": "stdout",
     "output_type": "stream",
     "text": [
      "El nuevo elemento es equivalente a: C2_(2), sigma_v_2\n",
      "\n"
     ]
    }
   ],
   "source": [
    "match(dot3(C2_34, i, At), ops)"
   ]
  },
  {
   "cell_type": "markdown",
   "metadata": {},
   "source": [
    "#### Fila 13: $\\left( \\sigma_h \\right)$"
   ]
  },
  {
   "cell_type": "code",
   "execution_count": 227,
   "metadata": {},
   "outputs": [
    {
     "name": "stdout",
     "output_type": "stream",
     "text": [
      "El nuevo elemento es equivalente a: E, sigma_h\n",
      "\n"
     ]
    }
   ],
   "source": [
    "match(dot3(sig_h, E, At), ops)"
   ]
  },
  {
   "cell_type": "code",
   "execution_count": 228,
   "metadata": {},
   "outputs": [
    {
     "name": "stdout",
     "output_type": "stream",
     "text": [
      "El nuevo elemento es equivalente a: C6, S6\n",
      "\n"
     ]
    }
   ],
   "source": [
    "match(dot3(sig_h, C6, At), ops)"
   ]
  },
  {
   "cell_type": "code",
   "execution_count": 229,
   "metadata": {},
   "outputs": [
    {
     "name": "stdout",
     "output_type": "stream",
     "text": [
      "El nuevo elemento es equivalente a: C6_2, S6_2\n",
      "\n"
     ]
    }
   ],
   "source": [
    "match(dot3(sig_h, C6_2, At), ops)"
   ]
  },
  {
   "cell_type": "code",
   "execution_count": 230,
   "metadata": {},
   "outputs": [
    {
     "name": "stdout",
     "output_type": "stream",
     "text": [
      "El nuevo elemento es equivalente a: C6_3, S6_3, i\n",
      "\n"
     ]
    }
   ],
   "source": [
    "match(dot3(sig_h, C6_3, At), ops)"
   ]
  },
  {
   "cell_type": "code",
   "execution_count": 231,
   "metadata": {},
   "outputs": [
    {
     "name": "stdout",
     "output_type": "stream",
     "text": [
      "El nuevo elemento es equivalente a: C6_4, S6_4\n",
      "\n"
     ]
    }
   ],
   "source": [
    "match(dot3(sig_h, C6_4, At), ops)"
   ]
  },
  {
   "cell_type": "code",
   "execution_count": 232,
   "metadata": {},
   "outputs": [
    {
     "name": "stdout",
     "output_type": "stream",
     "text": [
      "El nuevo elemento es equivalente a: C6_5, S6_5\n",
      "\n"
     ]
    }
   ],
   "source": [
    "match(dot3(sig_h, C6_5, At), ops)"
   ]
  },
  {
   "cell_type": "code",
   "execution_count": 233,
   "metadata": {},
   "outputs": [
    {
     "name": "stdout",
     "output_type": "stream",
     "text": [
      "El nuevo elemento es equivalente a: C2_(1), sigma_v_1\n",
      "\n"
     ]
    }
   ],
   "source": [
    "match(dot3(sig_h, C2_1, At), ops)"
   ]
  },
  {
   "cell_type": "code",
   "execution_count": 234,
   "metadata": {},
   "outputs": [
    {
     "name": "stdout",
     "output_type": "stream",
     "text": [
      "El nuevo elemento es equivalente a: C2_(2), sigma_v_2\n",
      "\n"
     ]
    }
   ],
   "source": [
    "match(dot3(sig_h, C2_2, At), ops)"
   ]
  },
  {
   "cell_type": "code",
   "execution_count": 235,
   "metadata": {},
   "outputs": [
    {
     "name": "stdout",
     "output_type": "stream",
     "text": [
      "El nuevo elemento es equivalente a: C2_(3), sigma_v_3\n",
      "\n"
     ]
    }
   ],
   "source": [
    "match(dot3(sig_h, C2_3, At), ops)"
   ]
  },
  {
   "cell_type": "code",
   "execution_count": 236,
   "metadata": {},
   "outputs": [
    {
     "name": "stdout",
     "output_type": "stream",
     "text": [
      "El nuevo elemento es equivalente a: C2_(12), sigma_d_12\n",
      "\n"
     ]
    }
   ],
   "source": [
    "match(dot3(sig_h, C2_12, At), ops)"
   ]
  },
  {
   "cell_type": "code",
   "execution_count": 237,
   "metadata": {},
   "outputs": [
    {
     "name": "stdout",
     "output_type": "stream",
     "text": [
      "El nuevo elemento es equivalente a: C2_(23), sigma_d_23\n",
      "\n"
     ]
    }
   ],
   "source": [
    "match(dot3(sig_h, C2_23, At), ops)"
   ]
  },
  {
   "cell_type": "code",
   "execution_count": 238,
   "metadata": {},
   "outputs": [
    {
     "name": "stdout",
     "output_type": "stream",
     "text": [
      "El nuevo elemento es equivalente a: C2_(34), sigma_d_34\n",
      "\n"
     ]
    }
   ],
   "source": [
    "match(dot3(sig_h, C2_34, At), ops)"
   ]
  },
  {
   "cell_type": "code",
   "execution_count": 239,
   "metadata": {},
   "outputs": [
    {
     "name": "stdout",
     "output_type": "stream",
     "text": [
      "El nuevo elemento es equivalente a: E, sigma_h\n",
      "\n"
     ]
    }
   ],
   "source": [
    "match(dot3(sig_h, sig_h, At), ops)"
   ]
  },
  {
   "cell_type": "code",
   "execution_count": 240,
   "metadata": {},
   "outputs": [
    {
     "name": "stdout",
     "output_type": "stream",
     "text": [
      "El nuevo elemento es equivalente a: C2_(1), sigma_v_1\n",
      "\n"
     ]
    }
   ],
   "source": [
    "match(dot3(sig_h, sig_v_1, At), ops)"
   ]
  },
  {
   "cell_type": "code",
   "execution_count": 241,
   "metadata": {},
   "outputs": [
    {
     "name": "stdout",
     "output_type": "stream",
     "text": [
      "El nuevo elemento es equivalente a: C2_(2), sigma_v_2\n",
      "\n"
     ]
    }
   ],
   "source": [
    "match(dot3(sig_h, sig_v_2, At), ops)"
   ]
  },
  {
   "cell_type": "code",
   "execution_count": 242,
   "metadata": {},
   "outputs": [
    {
     "name": "stdout",
     "output_type": "stream",
     "text": [
      "El nuevo elemento es equivalente a: C2_(3), sigma_v_3\n",
      "\n"
     ]
    }
   ],
   "source": [
    "match(dot3(sig_h, sig_v_3, At), ops)"
   ]
  },
  {
   "cell_type": "code",
   "execution_count": 243,
   "metadata": {},
   "outputs": [
    {
     "name": "stdout",
     "output_type": "stream",
     "text": [
      "El nuevo elemento es equivalente a: C2_(12), sigma_d_12\n",
      "\n"
     ]
    }
   ],
   "source": [
    "match(dot3(sig_h, sig_d_12, At), ops)"
   ]
  },
  {
   "cell_type": "code",
   "execution_count": 244,
   "metadata": {},
   "outputs": [
    {
     "name": "stdout",
     "output_type": "stream",
     "text": [
      "El nuevo elemento es equivalente a: C2_(23), sigma_d_23\n",
      "\n"
     ]
    }
   ],
   "source": [
    "match(dot3(sig_h, sig_d_23, At), ops)"
   ]
  },
  {
   "cell_type": "code",
   "execution_count": 245,
   "metadata": {},
   "outputs": [
    {
     "name": "stdout",
     "output_type": "stream",
     "text": [
      "El nuevo elemento es equivalente a: C2_(34), sigma_d_34\n",
      "\n"
     ]
    }
   ],
   "source": [
    "match(dot3(sig_h, sig_d_34, At), ops)"
   ]
  },
  {
   "cell_type": "code",
   "execution_count": 246,
   "metadata": {},
   "outputs": [
    {
     "name": "stdout",
     "output_type": "stream",
     "text": [
      "El nuevo elemento es equivalente a: C6, S6\n",
      "\n"
     ]
    }
   ],
   "source": [
    "match(dot3(sig_h, S6, At), ops)"
   ]
  },
  {
   "cell_type": "code",
   "execution_count": 247,
   "metadata": {},
   "outputs": [
    {
     "name": "stdout",
     "output_type": "stream",
     "text": [
      "El nuevo elemento es equivalente a: C6_2, S6_2\n",
      "\n"
     ]
    }
   ],
   "source": [
    "match(dot3(sig_h, S6_2, At), ops)"
   ]
  },
  {
   "cell_type": "code",
   "execution_count": 248,
   "metadata": {},
   "outputs": [
    {
     "name": "stdout",
     "output_type": "stream",
     "text": [
      "El nuevo elemento es equivalente a: C6_4, S6_4\n",
      "\n"
     ]
    }
   ],
   "source": [
    "match(dot3(sig_h, S6_4, At), ops)"
   ]
  },
  {
   "cell_type": "code",
   "execution_count": 249,
   "metadata": {},
   "outputs": [
    {
     "name": "stdout",
     "output_type": "stream",
     "text": [
      "El nuevo elemento es equivalente a: C6_5, S6_5\n",
      "\n"
     ]
    }
   ],
   "source": [
    "match(dot3(sig_h, S6_5, At), ops)"
   ]
  },
  {
   "cell_type": "code",
   "execution_count": 250,
   "metadata": {},
   "outputs": [
    {
     "name": "stdout",
     "output_type": "stream",
     "text": [
      "El nuevo elemento es equivalente a: C6_3, S6_3, i\n",
      "\n"
     ]
    }
   ],
   "source": [
    "match(dot3(sig_h, i, At), ops)"
   ]
  },
  {
   "cell_type": "markdown",
   "metadata": {},
   "source": [
    "#### Fila 14: $\\left( \\sigma^1_v \\right)$"
   ]
  },
  {
   "cell_type": "code",
   "execution_count": 251,
   "metadata": {},
   "outputs": [
    {
     "name": "stdout",
     "output_type": "stream",
     "text": [
      "El nuevo elemento es equivalente a: C2_(1), sigma_v_1\n",
      "\n"
     ]
    }
   ],
   "source": [
    "match(dot3(sig_v_1, E, At), ops)"
   ]
  },
  {
   "cell_type": "code",
   "execution_count": 252,
   "metadata": {},
   "outputs": [
    {
     "name": "stdout",
     "output_type": "stream",
     "text": [
      "El nuevo elemento es equivalente a: C2_(12), sigma_d_12\n",
      "\n"
     ]
    }
   ],
   "source": [
    "match(dot3(sig_v_1, C6, At), ops)"
   ]
  },
  {
   "cell_type": "code",
   "execution_count": 253,
   "metadata": {},
   "outputs": [
    {
     "name": "stdout",
     "output_type": "stream",
     "text": [
      "El nuevo elemento es equivalente a: C2_(2), sigma_v_2\n",
      "\n"
     ]
    }
   ],
   "source": [
    "match(dot3(sig_v_1, C6_2, At), ops)"
   ]
  },
  {
   "cell_type": "code",
   "execution_count": 254,
   "metadata": {},
   "outputs": [
    {
     "name": "stdout",
     "output_type": "stream",
     "text": [
      "El nuevo elemento es equivalente a: C2_(23), sigma_d_23\n",
      "\n"
     ]
    }
   ],
   "source": [
    "match(dot3(sig_v_1, C6_3, At), ops)"
   ]
  },
  {
   "cell_type": "code",
   "execution_count": 255,
   "metadata": {},
   "outputs": [
    {
     "name": "stdout",
     "output_type": "stream",
     "text": [
      "El nuevo elemento es equivalente a: C2_(3), sigma_v_3\n",
      "\n"
     ]
    }
   ],
   "source": [
    "match(dot3(sig_v_1, C6_4, At), ops)"
   ]
  },
  {
   "cell_type": "code",
   "execution_count": 256,
   "metadata": {},
   "outputs": [
    {
     "name": "stdout",
     "output_type": "stream",
     "text": [
      "El nuevo elemento es equivalente a: C2_(34), sigma_d_34\n",
      "\n"
     ]
    }
   ],
   "source": [
    "match(dot3(sig_v_1, C6_5, At), ops)"
   ]
  },
  {
   "cell_type": "code",
   "execution_count": 257,
   "metadata": {},
   "outputs": [
    {
     "name": "stdout",
     "output_type": "stream",
     "text": [
      "El nuevo elemento es equivalente a: E, sigma_h\n",
      "\n"
     ]
    }
   ],
   "source": [
    "match(dot3(sig_v_1, C2_1, At), ops)"
   ]
  },
  {
   "cell_type": "code",
   "execution_count": 258,
   "metadata": {},
   "outputs": [
    {
     "name": "stdout",
     "output_type": "stream",
     "text": [
      "El nuevo elemento es equivalente a: C6_2, S6_2\n",
      "\n"
     ]
    }
   ],
   "source": [
    "match(dot3(sig_v_1, C2_2, At), ops)"
   ]
  },
  {
   "cell_type": "code",
   "execution_count": 259,
   "metadata": {},
   "outputs": [
    {
     "name": "stdout",
     "output_type": "stream",
     "text": [
      "El nuevo elemento es equivalente a: C6_4, S6_4\n",
      "\n"
     ]
    }
   ],
   "source": [
    "match(dot3(sig_v_1, C2_3, At), ops)"
   ]
  },
  {
   "cell_type": "code",
   "execution_count": 260,
   "metadata": {},
   "outputs": [
    {
     "name": "stdout",
     "output_type": "stream",
     "text": [
      "El nuevo elemento es equivalente a: C6, S6\n",
      "\n"
     ]
    }
   ],
   "source": [
    "match(dot3(sig_v_1, C2_12, At), ops)"
   ]
  },
  {
   "cell_type": "code",
   "execution_count": 261,
   "metadata": {},
   "outputs": [
    {
     "name": "stdout",
     "output_type": "stream",
     "text": [
      "El nuevo elemento es equivalente a: C6_3, S6_3, i\n",
      "\n"
     ]
    }
   ],
   "source": [
    "match(dot3(sig_v_1, C2_23, At), ops)"
   ]
  },
  {
   "cell_type": "code",
   "execution_count": 262,
   "metadata": {},
   "outputs": [
    {
     "name": "stdout",
     "output_type": "stream",
     "text": [
      "El nuevo elemento es equivalente a: C6_5, S6_5\n",
      "\n"
     ]
    }
   ],
   "source": [
    "match(dot3(sig_v_1, C2_34, At), ops)"
   ]
  },
  {
   "cell_type": "code",
   "execution_count": 263,
   "metadata": {},
   "outputs": [
    {
     "name": "stdout",
     "output_type": "stream",
     "text": [
      "El nuevo elemento es equivalente a: C2_(1), sigma_v_1\n",
      "\n"
     ]
    }
   ],
   "source": [
    "match(dot3(sig_v_1, sig_h, At), ops)"
   ]
  },
  {
   "cell_type": "code",
   "execution_count": 264,
   "metadata": {},
   "outputs": [
    {
     "name": "stdout",
     "output_type": "stream",
     "text": [
      "El nuevo elemento es equivalente a: E, sigma_h\n",
      "\n"
     ]
    }
   ],
   "source": [
    "match(dot3(sig_v_1, sig_v_1, At), ops)"
   ]
  },
  {
   "cell_type": "code",
   "execution_count": 265,
   "metadata": {},
   "outputs": [
    {
     "name": "stdout",
     "output_type": "stream",
     "text": [
      "El nuevo elemento es equivalente a: C6_2, S6_2\n",
      "\n"
     ]
    }
   ],
   "source": [
    "match(dot3(sig_v_1, sig_v_2, At), ops)"
   ]
  },
  {
   "cell_type": "code",
   "execution_count": 266,
   "metadata": {},
   "outputs": [
    {
     "name": "stdout",
     "output_type": "stream",
     "text": [
      "El nuevo elemento es equivalente a: C6_4, S6_4\n",
      "\n"
     ]
    }
   ],
   "source": [
    "match(dot3(sig_v_1, sig_v_3, At), ops)"
   ]
  },
  {
   "cell_type": "code",
   "execution_count": 267,
   "metadata": {},
   "outputs": [
    {
     "name": "stdout",
     "output_type": "stream",
     "text": [
      "El nuevo elemento es equivalente a: C6, S6\n",
      "\n"
     ]
    }
   ],
   "source": [
    "match(dot3(sig_v_1, sig_d_12, At), ops)"
   ]
  },
  {
   "cell_type": "code",
   "execution_count": 268,
   "metadata": {},
   "outputs": [
    {
     "name": "stdout",
     "output_type": "stream",
     "text": [
      "El nuevo elemento es equivalente a: C6_3, S6_3, i\n",
      "\n"
     ]
    }
   ],
   "source": [
    "match(dot3(sig_v_1, sig_d_23, At), ops)"
   ]
  },
  {
   "cell_type": "code",
   "execution_count": 269,
   "metadata": {},
   "outputs": [
    {
     "name": "stdout",
     "output_type": "stream",
     "text": [
      "El nuevo elemento es equivalente a: C6_5, S6_5\n",
      "\n"
     ]
    }
   ],
   "source": [
    "match(dot3(sig_v_1, sig_d_34, At), ops)"
   ]
  },
  {
   "cell_type": "code",
   "execution_count": 270,
   "metadata": {},
   "outputs": [
    {
     "name": "stdout",
     "output_type": "stream",
     "text": [
      "El nuevo elemento es equivalente a: C2_(12), sigma_d_12\n",
      "\n"
     ]
    }
   ],
   "source": [
    "match(dot3(sig_v_1, S6, At), ops)"
   ]
  },
  {
   "cell_type": "code",
   "execution_count": 271,
   "metadata": {},
   "outputs": [
    {
     "name": "stdout",
     "output_type": "stream",
     "text": [
      "El nuevo elemento es equivalente a: C2_(2), sigma_v_2\n",
      "\n"
     ]
    }
   ],
   "source": [
    "match(dot3(sig_v_1, S6_2, At), ops)"
   ]
  },
  {
   "cell_type": "code",
   "execution_count": 272,
   "metadata": {},
   "outputs": [
    {
     "name": "stdout",
     "output_type": "stream",
     "text": [
      "El nuevo elemento es equivalente a: C2_(3), sigma_v_3\n",
      "\n"
     ]
    }
   ],
   "source": [
    "match(dot3(sig_v_1, S6_4, At), ops)"
   ]
  },
  {
   "cell_type": "code",
   "execution_count": 273,
   "metadata": {},
   "outputs": [
    {
     "name": "stdout",
     "output_type": "stream",
     "text": [
      "El nuevo elemento es equivalente a: C2_(34), sigma_d_34\n",
      "\n"
     ]
    }
   ],
   "source": [
    "match(dot3(sig_v_1, S6_5, At), ops)"
   ]
  },
  {
   "cell_type": "code",
   "execution_count": 274,
   "metadata": {},
   "outputs": [
    {
     "name": "stdout",
     "output_type": "stream",
     "text": [
      "El nuevo elemento es equivalente a: C2_(23), sigma_d_23\n",
      "\n"
     ]
    }
   ],
   "source": [
    "match(dot3(sig_v_1, i, At), ops)"
   ]
  },
  {
   "cell_type": "markdown",
   "metadata": {},
   "source": [
    "#### Fila 15: $\\left( \\sigma^2_v \\right)$"
   ]
  },
  {
   "cell_type": "code",
   "execution_count": 275,
   "metadata": {},
   "outputs": [
    {
     "name": "stdout",
     "output_type": "stream",
     "text": [
      "El nuevo elemento es equivalente a: C2_(2), sigma_v_2\n",
      "\n"
     ]
    }
   ],
   "source": [
    "match(dot3(sig_v_2, E, At), ops)"
   ]
  },
  {
   "cell_type": "code",
   "execution_count": 276,
   "metadata": {},
   "outputs": [
    {
     "name": "stdout",
     "output_type": "stream",
     "text": [
      "El nuevo elemento es equivalente a: C2_(23), sigma_d_23\n",
      "\n"
     ]
    }
   ],
   "source": [
    "match(dot3(sig_v_2, C6, At), ops)"
   ]
  },
  {
   "cell_type": "code",
   "execution_count": 277,
   "metadata": {},
   "outputs": [
    {
     "name": "stdout",
     "output_type": "stream",
     "text": [
      "El nuevo elemento es equivalente a: C2_(3), sigma_v_3\n",
      "\n"
     ]
    }
   ],
   "source": [
    "match(dot3(sig_v_2, C6_2, At), ops)"
   ]
  },
  {
   "cell_type": "code",
   "execution_count": 278,
   "metadata": {},
   "outputs": [
    {
     "name": "stdout",
     "output_type": "stream",
     "text": [
      "El nuevo elemento es equivalente a: C2_(34), sigma_d_34\n",
      "\n"
     ]
    }
   ],
   "source": [
    "match(dot3(sig_v_2, C6_3, At), ops)"
   ]
  },
  {
   "cell_type": "code",
   "execution_count": 279,
   "metadata": {},
   "outputs": [
    {
     "name": "stdout",
     "output_type": "stream",
     "text": [
      "El nuevo elemento es equivalente a: C2_(1), sigma_v_1\n",
      "\n"
     ]
    }
   ],
   "source": [
    "match(dot3(sig_v_2, C6_4, At), ops)"
   ]
  },
  {
   "cell_type": "code",
   "execution_count": 280,
   "metadata": {},
   "outputs": [
    {
     "name": "stdout",
     "output_type": "stream",
     "text": [
      "El nuevo elemento es equivalente a: C2_(12), sigma_d_12\n",
      "\n"
     ]
    }
   ],
   "source": [
    "match(dot3(sig_v_2, C6_5, At), ops)"
   ]
  },
  {
   "cell_type": "code",
   "execution_count": 281,
   "metadata": {},
   "outputs": [
    {
     "name": "stdout",
     "output_type": "stream",
     "text": [
      "El nuevo elemento es equivalente a: C6_4, S6_4\n",
      "\n"
     ]
    }
   ],
   "source": [
    "match(dot3(sig_v_2, C2_1, At), ops)"
   ]
  },
  {
   "cell_type": "code",
   "execution_count": 282,
   "metadata": {},
   "outputs": [
    {
     "name": "stdout",
     "output_type": "stream",
     "text": [
      "El nuevo elemento es equivalente a: E, sigma_h\n",
      "\n"
     ]
    }
   ],
   "source": [
    "match(dot3(sig_v_2, C2_2, At), ops)"
   ]
  },
  {
   "cell_type": "code",
   "execution_count": 283,
   "metadata": {},
   "outputs": [
    {
     "name": "stdout",
     "output_type": "stream",
     "text": [
      "El nuevo elemento es equivalente a: C6_2, S6_2\n",
      "\n"
     ]
    }
   ],
   "source": [
    "match(dot3(sig_v_2, C2_3, At), ops)"
   ]
  },
  {
   "cell_type": "code",
   "execution_count": 284,
   "metadata": {},
   "outputs": [
    {
     "name": "stdout",
     "output_type": "stream",
     "text": [
      "El nuevo elemento es equivalente a: C6_5, S6_5\n",
      "\n"
     ]
    }
   ],
   "source": [
    "match(dot3(sig_v_2, C2_12, At), ops)"
   ]
  },
  {
   "cell_type": "code",
   "execution_count": 285,
   "metadata": {},
   "outputs": [
    {
     "name": "stdout",
     "output_type": "stream",
     "text": [
      "El nuevo elemento es equivalente a: C6, S6\n",
      "\n"
     ]
    }
   ],
   "source": [
    "match(dot3(sig_v_2, C2_23, At), ops)"
   ]
  },
  {
   "cell_type": "code",
   "execution_count": 286,
   "metadata": {},
   "outputs": [
    {
     "name": "stdout",
     "output_type": "stream",
     "text": [
      "El nuevo elemento es equivalente a: C6_3, S6_3, i\n",
      "\n"
     ]
    }
   ],
   "source": [
    "match(dot3(sig_v_2, C2_34, At), ops)"
   ]
  },
  {
   "cell_type": "code",
   "execution_count": 287,
   "metadata": {},
   "outputs": [
    {
     "name": "stdout",
     "output_type": "stream",
     "text": [
      "El nuevo elemento es equivalente a: C2_(2), sigma_v_2\n",
      "\n"
     ]
    }
   ],
   "source": [
    "match(dot3(sig_v_2, sig_h, At), ops)"
   ]
  },
  {
   "cell_type": "code",
   "execution_count": 288,
   "metadata": {},
   "outputs": [
    {
     "name": "stdout",
     "output_type": "stream",
     "text": [
      "El nuevo elemento es equivalente a: C6_4, S6_4\n",
      "\n"
     ]
    }
   ],
   "source": [
    "match(dot3(sig_v_2, sig_v_1, At), ops)"
   ]
  },
  {
   "cell_type": "code",
   "execution_count": 289,
   "metadata": {},
   "outputs": [
    {
     "name": "stdout",
     "output_type": "stream",
     "text": [
      "El nuevo elemento es equivalente a: E, sigma_h\n",
      "\n"
     ]
    }
   ],
   "source": [
    "match(dot3(sig_v_2, sig_v_2, At), ops)"
   ]
  },
  {
   "cell_type": "code",
   "execution_count": 290,
   "metadata": {},
   "outputs": [
    {
     "name": "stdout",
     "output_type": "stream",
     "text": [
      "El nuevo elemento es equivalente a: C6_2, S6_2\n",
      "\n"
     ]
    }
   ],
   "source": [
    "match(dot3(sig_v_2, sig_v_3, At), ops)"
   ]
  },
  {
   "cell_type": "code",
   "execution_count": 291,
   "metadata": {},
   "outputs": [
    {
     "name": "stdout",
     "output_type": "stream",
     "text": [
      "El nuevo elemento es equivalente a: C6_5, S6_5\n",
      "\n"
     ]
    }
   ],
   "source": [
    "match(dot3(sig_v_2, sig_d_12, At), ops)"
   ]
  },
  {
   "cell_type": "code",
   "execution_count": 292,
   "metadata": {},
   "outputs": [
    {
     "name": "stdout",
     "output_type": "stream",
     "text": [
      "El nuevo elemento es equivalente a: C6, S6\n",
      "\n"
     ]
    }
   ],
   "source": [
    "match(dot3(sig_v_2, sig_d_23, At), ops)"
   ]
  },
  {
   "cell_type": "code",
   "execution_count": 293,
   "metadata": {},
   "outputs": [
    {
     "name": "stdout",
     "output_type": "stream",
     "text": [
      "El nuevo elemento es equivalente a: C6_3, S6_3, i\n",
      "\n"
     ]
    }
   ],
   "source": [
    "match(dot3(sig_v_2, sig_d_34, At), ops)"
   ]
  },
  {
   "cell_type": "code",
   "execution_count": 294,
   "metadata": {},
   "outputs": [
    {
     "name": "stdout",
     "output_type": "stream",
     "text": [
      "El nuevo elemento es equivalente a: C2_(23), sigma_d_23\n",
      "\n"
     ]
    }
   ],
   "source": [
    "match(dot3(sig_v_2, S6, At), ops)"
   ]
  },
  {
   "cell_type": "code",
   "execution_count": 295,
   "metadata": {},
   "outputs": [
    {
     "name": "stdout",
     "output_type": "stream",
     "text": [
      "El nuevo elemento es equivalente a: C2_(3), sigma_v_3\n",
      "\n"
     ]
    }
   ],
   "source": [
    "match(dot3(sig_v_2, S6_2, At), ops)"
   ]
  },
  {
   "cell_type": "code",
   "execution_count": 296,
   "metadata": {},
   "outputs": [
    {
     "name": "stdout",
     "output_type": "stream",
     "text": [
      "El nuevo elemento es equivalente a: C2_(1), sigma_v_1\n",
      "\n"
     ]
    }
   ],
   "source": [
    "match(dot3(sig_v_2, S6_4, At), ops)"
   ]
  },
  {
   "cell_type": "code",
   "execution_count": 297,
   "metadata": {},
   "outputs": [
    {
     "name": "stdout",
     "output_type": "stream",
     "text": [
      "El nuevo elemento es equivalente a: C2_(12), sigma_d_12\n",
      "\n"
     ]
    }
   ],
   "source": [
    "match(dot3(sig_v_2, S6_5, At), ops)"
   ]
  },
  {
   "cell_type": "code",
   "execution_count": 298,
   "metadata": {},
   "outputs": [
    {
     "name": "stdout",
     "output_type": "stream",
     "text": [
      "El nuevo elemento es equivalente a: C2_(34), sigma_d_34\n",
      "\n"
     ]
    }
   ],
   "source": [
    "match(dot3(sig_v_2, i, At), ops)"
   ]
  },
  {
   "cell_type": "markdown",
   "metadata": {},
   "source": [
    "#### Fila 16: $\\left( \\sigma^3_v \\right)$"
   ]
  },
  {
   "cell_type": "code",
   "execution_count": 300,
   "metadata": {},
   "outputs": [
    {
     "name": "stdout",
     "output_type": "stream",
     "text": [
      "El nuevo elemento es equivalente a: C2_(3), sigma_v_3\n",
      "\n"
     ]
    }
   ],
   "source": [
    "match(dot3(sig_v_3, E, At), ops)"
   ]
  },
  {
   "cell_type": "code",
   "execution_count": 301,
   "metadata": {},
   "outputs": [
    {
     "name": "stdout",
     "output_type": "stream",
     "text": [
      "El nuevo elemento es equivalente a: C2_(34), sigma_d_34\n",
      "\n"
     ]
    }
   ],
   "source": [
    "match(dot3(sig_v_3, C6, At), ops)"
   ]
  },
  {
   "cell_type": "code",
   "execution_count": 302,
   "metadata": {},
   "outputs": [
    {
     "name": "stdout",
     "output_type": "stream",
     "text": [
      "El nuevo elemento es equivalente a: C2_(1), sigma_v_1\n",
      "\n"
     ]
    }
   ],
   "source": [
    "match(dot3(sig_v_3, C6_2, At), ops)"
   ]
  },
  {
   "cell_type": "code",
   "execution_count": 303,
   "metadata": {},
   "outputs": [
    {
     "name": "stdout",
     "output_type": "stream",
     "text": [
      "El nuevo elemento es equivalente a: C2_(12), sigma_d_12\n",
      "\n"
     ]
    }
   ],
   "source": [
    "match(dot3(sig_v_3, C6_3, At), ops)"
   ]
  },
  {
   "cell_type": "code",
   "execution_count": 304,
   "metadata": {},
   "outputs": [
    {
     "name": "stdout",
     "output_type": "stream",
     "text": [
      "El nuevo elemento es equivalente a: C2_(2), sigma_v_2\n",
      "\n"
     ]
    }
   ],
   "source": [
    "match(dot3(sig_v_3, C6_4, At), ops)"
   ]
  },
  {
   "cell_type": "code",
   "execution_count": 305,
   "metadata": {},
   "outputs": [
    {
     "name": "stdout",
     "output_type": "stream",
     "text": [
      "El nuevo elemento es equivalente a: C2_(23), sigma_d_23\n",
      "\n"
     ]
    }
   ],
   "source": [
    "match(dot3(sig_v_3, C6_5, At), ops)"
   ]
  },
  {
   "cell_type": "code",
   "execution_count": 306,
   "metadata": {},
   "outputs": [
    {
     "name": "stdout",
     "output_type": "stream",
     "text": [
      "El nuevo elemento es equivalente a: C6_2, S6_2\n",
      "\n"
     ]
    }
   ],
   "source": [
    "match(dot3(sig_v_3, C2_1, At), ops)"
   ]
  },
  {
   "cell_type": "code",
   "execution_count": 307,
   "metadata": {},
   "outputs": [
    {
     "name": "stdout",
     "output_type": "stream",
     "text": [
      "El nuevo elemento es equivalente a: C6_4, S6_4\n",
      "\n"
     ]
    }
   ],
   "source": [
    "match(dot3(sig_v_3, C2_2, At), ops)"
   ]
  },
  {
   "cell_type": "code",
   "execution_count": 308,
   "metadata": {},
   "outputs": [
    {
     "name": "stdout",
     "output_type": "stream",
     "text": [
      "El nuevo elemento es equivalente a: E, sigma_h\n",
      "\n"
     ]
    }
   ],
   "source": [
    "match(dot3(sig_v_3, C2_3, At), ops)"
   ]
  },
  {
   "cell_type": "code",
   "execution_count": 309,
   "metadata": {},
   "outputs": [
    {
     "name": "stdout",
     "output_type": "stream",
     "text": [
      "El nuevo elemento es equivalente a: C6_3, S6_3, i\n",
      "\n"
     ]
    }
   ],
   "source": [
    "match(dot3(sig_v_3, C2_12, At), ops)"
   ]
  },
  {
   "cell_type": "code",
   "execution_count": 310,
   "metadata": {},
   "outputs": [
    {
     "name": "stdout",
     "output_type": "stream",
     "text": [
      "El nuevo elemento es equivalente a: C6_5, S6_5\n",
      "\n"
     ]
    }
   ],
   "source": [
    "match(dot3(sig_v_3, C2_23, At), ops)"
   ]
  },
  {
   "cell_type": "code",
   "execution_count": 311,
   "metadata": {},
   "outputs": [
    {
     "name": "stdout",
     "output_type": "stream",
     "text": [
      "El nuevo elemento es equivalente a: C6, S6\n",
      "\n"
     ]
    }
   ],
   "source": [
    "match(dot3(sig_v_3, C2_34, At), ops)"
   ]
  },
  {
   "cell_type": "code",
   "execution_count": 312,
   "metadata": {},
   "outputs": [
    {
     "name": "stdout",
     "output_type": "stream",
     "text": [
      "El nuevo elemento es equivalente a: C2_(3), sigma_v_3\n",
      "\n"
     ]
    }
   ],
   "source": [
    "match(dot3(sig_v_3, sig_h, At), ops)"
   ]
  },
  {
   "cell_type": "code",
   "execution_count": 313,
   "metadata": {},
   "outputs": [
    {
     "name": "stdout",
     "output_type": "stream",
     "text": [
      "El nuevo elemento es equivalente a: C6_2, S6_2\n",
      "\n"
     ]
    }
   ],
   "source": [
    "match(dot3(sig_v_3, sig_v_1, At), ops)"
   ]
  },
  {
   "cell_type": "code",
   "execution_count": 314,
   "metadata": {},
   "outputs": [
    {
     "name": "stdout",
     "output_type": "stream",
     "text": [
      "El nuevo elemento es equivalente a: C6_4, S6_4\n",
      "\n"
     ]
    }
   ],
   "source": [
    "match(dot3(sig_v_3, sig_v_2, At), ops)"
   ]
  },
  {
   "cell_type": "code",
   "execution_count": 315,
   "metadata": {},
   "outputs": [
    {
     "name": "stdout",
     "output_type": "stream",
     "text": [
      "El nuevo elemento es equivalente a: E, sigma_h\n",
      "\n"
     ]
    }
   ],
   "source": [
    "match(dot3(sig_v_3, sig_v_3, At), ops)"
   ]
  },
  {
   "cell_type": "code",
   "execution_count": 316,
   "metadata": {},
   "outputs": [
    {
     "name": "stdout",
     "output_type": "stream",
     "text": [
      "El nuevo elemento es equivalente a: C6_3, S6_3, i\n",
      "\n"
     ]
    }
   ],
   "source": [
    "match(dot3(sig_v_3, sig_d_12, At), ops)"
   ]
  },
  {
   "cell_type": "code",
   "execution_count": 317,
   "metadata": {},
   "outputs": [
    {
     "name": "stdout",
     "output_type": "stream",
     "text": [
      "El nuevo elemento es equivalente a: C6_5, S6_5\n",
      "\n"
     ]
    }
   ],
   "source": [
    "match(dot3(sig_v_3, sig_d_23, At), ops)"
   ]
  },
  {
   "cell_type": "code",
   "execution_count": 318,
   "metadata": {},
   "outputs": [
    {
     "name": "stdout",
     "output_type": "stream",
     "text": [
      "El nuevo elemento es equivalente a: C6, S6\n",
      "\n"
     ]
    }
   ],
   "source": [
    "match(dot3(sig_v_3, sig_d_34, At), ops)"
   ]
  },
  {
   "cell_type": "code",
   "execution_count": 319,
   "metadata": {},
   "outputs": [
    {
     "name": "stdout",
     "output_type": "stream",
     "text": [
      "El nuevo elemento es equivalente a: C2_(34), sigma_d_34\n",
      "\n"
     ]
    }
   ],
   "source": [
    "match(dot3(sig_v_3, S6, At), ops)"
   ]
  },
  {
   "cell_type": "code",
   "execution_count": 320,
   "metadata": {},
   "outputs": [
    {
     "name": "stdout",
     "output_type": "stream",
     "text": [
      "El nuevo elemento es equivalente a: C2_(1), sigma_v_1\n",
      "\n"
     ]
    }
   ],
   "source": [
    "match(dot3(sig_v_3, S6_2, At), ops)"
   ]
  },
  {
   "cell_type": "code",
   "execution_count": 321,
   "metadata": {},
   "outputs": [
    {
     "name": "stdout",
     "output_type": "stream",
     "text": [
      "El nuevo elemento es equivalente a: C2_(2), sigma_v_2\n",
      "\n"
     ]
    }
   ],
   "source": [
    "match(dot3(sig_v_3, S6_4, At), ops)"
   ]
  },
  {
   "cell_type": "code",
   "execution_count": 322,
   "metadata": {},
   "outputs": [
    {
     "name": "stdout",
     "output_type": "stream",
     "text": [
      "El nuevo elemento es equivalente a: C2_(23), sigma_d_23\n",
      "\n"
     ]
    }
   ],
   "source": [
    "match(dot3(sig_v_3, S6_5, At), ops)"
   ]
  },
  {
   "cell_type": "code",
   "execution_count": 323,
   "metadata": {},
   "outputs": [
    {
     "name": "stdout",
     "output_type": "stream",
     "text": [
      "El nuevo elemento es equivalente a: C2_(12), sigma_d_12\n",
      "\n"
     ]
    }
   ],
   "source": [
    "match(dot3(sig_v_3, i, At), ops)"
   ]
  },
  {
   "cell_type": "markdown",
   "metadata": {},
   "source": [
    "#### Fila 17: $\\left( \\sigma^{12}_v \\right)$"
   ]
  },
  {
   "cell_type": "code",
   "execution_count": 324,
   "metadata": {},
   "outputs": [
    {
     "name": "stdout",
     "output_type": "stream",
     "text": [
      "El nuevo elemento es equivalente a: C2_(12), sigma_d_12\n",
      "\n"
     ]
    }
   ],
   "source": [
    "match(dot3(sig_d_12, E, At), ops)"
   ]
  },
  {
   "cell_type": "code",
   "execution_count": 325,
   "metadata": {},
   "outputs": [
    {
     "name": "stdout",
     "output_type": "stream",
     "text": [
      "El nuevo elemento es equivalente a: C2_(2), sigma_v_2\n",
      "\n"
     ]
    }
   ],
   "source": [
    "match(dot3(sig_d_12, C6, At), ops)"
   ]
  },
  {
   "cell_type": "code",
   "execution_count": 326,
   "metadata": {},
   "outputs": [
    {
     "name": "stdout",
     "output_type": "stream",
     "text": [
      "El nuevo elemento es equivalente a: C2_(23), sigma_d_23\n",
      "\n"
     ]
    }
   ],
   "source": [
    "match(dot3(sig_d_12, C6_2, At), ops)"
   ]
  },
  {
   "cell_type": "code",
   "execution_count": 327,
   "metadata": {},
   "outputs": [
    {
     "name": "stdout",
     "output_type": "stream",
     "text": [
      "El nuevo elemento es equivalente a: C2_(3), sigma_v_3\n",
      "\n"
     ]
    }
   ],
   "source": [
    "match(dot3(sig_d_12, C6_3, At), ops)"
   ]
  },
  {
   "cell_type": "code",
   "execution_count": 328,
   "metadata": {},
   "outputs": [
    {
     "name": "stdout",
     "output_type": "stream",
     "text": [
      "El nuevo elemento es equivalente a: C2_(34), sigma_d_34\n",
      "\n"
     ]
    }
   ],
   "source": [
    "match(dot3(sig_d_12, C6_4, At), ops)"
   ]
  },
  {
   "cell_type": "code",
   "execution_count": 329,
   "metadata": {},
   "outputs": [
    {
     "name": "stdout",
     "output_type": "stream",
     "text": [
      "El nuevo elemento es equivalente a: C2_(1), sigma_v_1\n",
      "\n"
     ]
    }
   ],
   "source": [
    "match(dot3(sig_d_12, C6_5, At), ops)"
   ]
  },
  {
   "cell_type": "code",
   "execution_count": 330,
   "metadata": {},
   "outputs": [
    {
     "name": "stdout",
     "output_type": "stream",
     "text": [
      "El nuevo elemento es equivalente a: C6_5, S6_5\n",
      "\n"
     ]
    }
   ],
   "source": [
    "match(dot3(sig_d_12, C2_1, At), ops)"
   ]
  },
  {
   "cell_type": "code",
   "execution_count": 331,
   "metadata": {},
   "outputs": [
    {
     "name": "stdout",
     "output_type": "stream",
     "text": [
      "El nuevo elemento es equivalente a: C6, S6\n",
      "\n"
     ]
    }
   ],
   "source": [
    "match(dot3(sig_d_12, C2_2, At), ops)"
   ]
  },
  {
   "cell_type": "code",
   "execution_count": 332,
   "metadata": {},
   "outputs": [
    {
     "name": "stdout",
     "output_type": "stream",
     "text": [
      "El nuevo elemento es equivalente a: C6_3, S6_3, i\n",
      "\n"
     ]
    }
   ],
   "source": [
    "match(dot3(sig_d_12, C2_3, At), ops)"
   ]
  },
  {
   "cell_type": "code",
   "execution_count": 333,
   "metadata": {},
   "outputs": [
    {
     "name": "stdout",
     "output_type": "stream",
     "text": [
      "El nuevo elemento es equivalente a: E, sigma_h\n",
      "\n"
     ]
    }
   ],
   "source": [
    "match(dot3(sig_d_12, C2_12, At), ops)"
   ]
  },
  {
   "cell_type": "code",
   "execution_count": 334,
   "metadata": {},
   "outputs": [
    {
     "name": "stdout",
     "output_type": "stream",
     "text": [
      "El nuevo elemento es equivalente a: C6_2, S6_2\n",
      "\n"
     ]
    }
   ],
   "source": [
    "match(dot3(sig_d_12, C2_23, At), ops)"
   ]
  },
  {
   "cell_type": "code",
   "execution_count": 335,
   "metadata": {},
   "outputs": [
    {
     "name": "stdout",
     "output_type": "stream",
     "text": [
      "El nuevo elemento es equivalente a: C6_4, S6_4\n",
      "\n"
     ]
    }
   ],
   "source": [
    "match(dot3(sig_d_12, C2_34, At), ops)"
   ]
  },
  {
   "cell_type": "code",
   "execution_count": 336,
   "metadata": {},
   "outputs": [
    {
     "name": "stdout",
     "output_type": "stream",
     "text": [
      "El nuevo elemento es equivalente a: C2_(12), sigma_d_12\n",
      "\n"
     ]
    }
   ],
   "source": [
    "match(dot3(sig_d_12, sig_h, At), ops)"
   ]
  },
  {
   "cell_type": "code",
   "execution_count": 337,
   "metadata": {},
   "outputs": [
    {
     "name": "stdout",
     "output_type": "stream",
     "text": [
      "El nuevo elemento es equivalente a: C6_5, S6_5\n",
      "\n"
     ]
    }
   ],
   "source": [
    "match(dot3(sig_d_12, sig_v_1, At), ops)"
   ]
  },
  {
   "cell_type": "code",
   "execution_count": 338,
   "metadata": {},
   "outputs": [
    {
     "name": "stdout",
     "output_type": "stream",
     "text": [
      "El nuevo elemento es equivalente a: C6, S6\n",
      "\n"
     ]
    }
   ],
   "source": [
    "match(dot3(sig_d_12, sig_v_2, At), ops)"
   ]
  },
  {
   "cell_type": "code",
   "execution_count": 339,
   "metadata": {},
   "outputs": [
    {
     "name": "stdout",
     "output_type": "stream",
     "text": [
      "El nuevo elemento es equivalente a: C6_3, S6_3, i\n",
      "\n"
     ]
    }
   ],
   "source": [
    "match(dot3(sig_d_12, sig_v_3, At), ops)"
   ]
  },
  {
   "cell_type": "code",
   "execution_count": 340,
   "metadata": {},
   "outputs": [
    {
     "name": "stdout",
     "output_type": "stream",
     "text": [
      "El nuevo elemento es equivalente a: E, sigma_h\n",
      "\n"
     ]
    }
   ],
   "source": [
    "match(dot3(sig_d_12, sig_d_12, At), ops)"
   ]
  },
  {
   "cell_type": "code",
   "execution_count": 341,
   "metadata": {},
   "outputs": [
    {
     "name": "stdout",
     "output_type": "stream",
     "text": [
      "El nuevo elemento es equivalente a: C6_2, S6_2\n",
      "\n"
     ]
    }
   ],
   "source": [
    "match(dot3(sig_d_12, sig_d_23, At), ops)"
   ]
  },
  {
   "cell_type": "code",
   "execution_count": 342,
   "metadata": {},
   "outputs": [
    {
     "name": "stdout",
     "output_type": "stream",
     "text": [
      "El nuevo elemento es equivalente a: C6_4, S6_4\n",
      "\n"
     ]
    }
   ],
   "source": [
    "match(dot3(sig_d_12, sig_d_34, At), ops)"
   ]
  },
  {
   "cell_type": "code",
   "execution_count": 343,
   "metadata": {},
   "outputs": [
    {
     "name": "stdout",
     "output_type": "stream",
     "text": [
      "El nuevo elemento es equivalente a: C2_(2), sigma_v_2\n",
      "\n"
     ]
    }
   ],
   "source": [
    "match(dot3(sig_d_12, S6, At), ops)"
   ]
  },
  {
   "cell_type": "code",
   "execution_count": 344,
   "metadata": {},
   "outputs": [
    {
     "name": "stdout",
     "output_type": "stream",
     "text": [
      "El nuevo elemento es equivalente a: C2_(23), sigma_d_23\n",
      "\n"
     ]
    }
   ],
   "source": [
    "match(dot3(sig_d_12, S6_2, At), ops)"
   ]
  },
  {
   "cell_type": "code",
   "execution_count": 345,
   "metadata": {},
   "outputs": [
    {
     "name": "stdout",
     "output_type": "stream",
     "text": [
      "El nuevo elemento es equivalente a: C2_(34), sigma_d_34\n",
      "\n"
     ]
    }
   ],
   "source": [
    "match(dot3(sig_d_12, S6_4, At), ops)"
   ]
  },
  {
   "cell_type": "code",
   "execution_count": 346,
   "metadata": {},
   "outputs": [
    {
     "name": "stdout",
     "output_type": "stream",
     "text": [
      "El nuevo elemento es equivalente a: C2_(1), sigma_v_1\n",
      "\n"
     ]
    }
   ],
   "source": [
    "match(dot3(sig_d_12, S6_5, At), ops)"
   ]
  },
  {
   "cell_type": "code",
   "execution_count": 347,
   "metadata": {},
   "outputs": [
    {
     "name": "stdout",
     "output_type": "stream",
     "text": [
      "El nuevo elemento es equivalente a: C2_(3), sigma_v_3\n",
      "\n"
     ]
    }
   ],
   "source": [
    "match(dot3(sig_d_12, i, At), ops)"
   ]
  },
  {
   "cell_type": "markdown",
   "metadata": {},
   "source": [
    "#### Fila 18: $\\left( \\sigma^{23}_v \\right)$"
   ]
  },
  {
   "cell_type": "code",
   "execution_count": 348,
   "metadata": {},
   "outputs": [
    {
     "name": "stdout",
     "output_type": "stream",
     "text": [
      "El nuevo elemento es equivalente a: C2_(23), sigma_d_23\n",
      "\n"
     ]
    }
   ],
   "source": [
    "match(dot3(sig_d_23, E, At), ops)"
   ]
  },
  {
   "cell_type": "code",
   "execution_count": 349,
   "metadata": {},
   "outputs": [
    {
     "name": "stdout",
     "output_type": "stream",
     "text": [
      "El nuevo elemento es equivalente a: C2_(3), sigma_v_3\n",
      "\n"
     ]
    }
   ],
   "source": [
    "match(dot3(sig_d_23, C6, At), ops)"
   ]
  },
  {
   "cell_type": "code",
   "execution_count": 350,
   "metadata": {},
   "outputs": [
    {
     "name": "stdout",
     "output_type": "stream",
     "text": [
      "El nuevo elemento es equivalente a: C2_(34), sigma_d_34\n",
      "\n"
     ]
    }
   ],
   "source": [
    "match(dot3(sig_d_23, C6_2, At), ops)"
   ]
  },
  {
   "cell_type": "code",
   "execution_count": 351,
   "metadata": {},
   "outputs": [
    {
     "name": "stdout",
     "output_type": "stream",
     "text": [
      "El nuevo elemento es equivalente a: C2_(1), sigma_v_1\n",
      "\n"
     ]
    }
   ],
   "source": [
    "match(dot3(sig_d_23, C6_3, At), ops)"
   ]
  },
  {
   "cell_type": "code",
   "execution_count": 352,
   "metadata": {},
   "outputs": [
    {
     "name": "stdout",
     "output_type": "stream",
     "text": [
      "El nuevo elemento es equivalente a: C2_(12), sigma_d_12\n",
      "\n"
     ]
    }
   ],
   "source": [
    "match(dot3(sig_d_23, C6_4, At), ops)"
   ]
  },
  {
   "cell_type": "code",
   "execution_count": 353,
   "metadata": {},
   "outputs": [
    {
     "name": "stdout",
     "output_type": "stream",
     "text": [
      "El nuevo elemento es equivalente a: C2_(2), sigma_v_2\n",
      "\n"
     ]
    }
   ],
   "source": [
    "match(dot3(sig_d_23, C6_5, At), ops)"
   ]
  },
  {
   "cell_type": "code",
   "execution_count": 354,
   "metadata": {},
   "outputs": [
    {
     "name": "stdout",
     "output_type": "stream",
     "text": [
      "El nuevo elemento es equivalente a: C6_3, S6_3, i\n",
      "\n"
     ]
    }
   ],
   "source": [
    "match(dot3(sig_d_23, C2_1, At), ops)"
   ]
  },
  {
   "cell_type": "code",
   "execution_count": 355,
   "metadata": {},
   "outputs": [
    {
     "name": "stdout",
     "output_type": "stream",
     "text": [
      "El nuevo elemento es equivalente a: C6_5, S6_5\n",
      "\n"
     ]
    }
   ],
   "source": [
    "match(dot3(sig_d_23, C2_2, At), ops)"
   ]
  },
  {
   "cell_type": "code",
   "execution_count": 356,
   "metadata": {},
   "outputs": [
    {
     "name": "stdout",
     "output_type": "stream",
     "text": [
      "El nuevo elemento es equivalente a: C6, S6\n",
      "\n"
     ]
    }
   ],
   "source": [
    "match(dot3(sig_d_23, C2_3, At), ops)"
   ]
  },
  {
   "cell_type": "code",
   "execution_count": 357,
   "metadata": {},
   "outputs": [
    {
     "name": "stdout",
     "output_type": "stream",
     "text": [
      "El nuevo elemento es equivalente a: C6_4, S6_4\n",
      "\n"
     ]
    }
   ],
   "source": [
    "match(dot3(sig_d_23, C2_12, At), ops)"
   ]
  },
  {
   "cell_type": "code",
   "execution_count": 358,
   "metadata": {},
   "outputs": [
    {
     "name": "stdout",
     "output_type": "stream",
     "text": [
      "El nuevo elemento es equivalente a: E, sigma_h\n",
      "\n"
     ]
    }
   ],
   "source": [
    "match(dot3(sig_d_23, C2_23, At), ops)"
   ]
  },
  {
   "cell_type": "code",
   "execution_count": 359,
   "metadata": {},
   "outputs": [
    {
     "name": "stdout",
     "output_type": "stream",
     "text": [
      "El nuevo elemento es equivalente a: C6_2, S6_2\n",
      "\n"
     ]
    }
   ],
   "source": [
    "match(dot3(sig_d_23, C2_34, At), ops)"
   ]
  },
  {
   "cell_type": "code",
   "execution_count": 360,
   "metadata": {},
   "outputs": [
    {
     "name": "stdout",
     "output_type": "stream",
     "text": [
      "El nuevo elemento es equivalente a: C2_(23), sigma_d_23\n",
      "\n"
     ]
    }
   ],
   "source": [
    "match(dot3(sig_d_23, sig_h, At), ops)"
   ]
  },
  {
   "cell_type": "code",
   "execution_count": 361,
   "metadata": {},
   "outputs": [
    {
     "name": "stdout",
     "output_type": "stream",
     "text": [
      "El nuevo elemento es equivalente a: C6_3, S6_3, i\n",
      "\n"
     ]
    }
   ],
   "source": [
    "match(dot3(sig_d_23, sig_v_1, At), ops)"
   ]
  },
  {
   "cell_type": "code",
   "execution_count": 362,
   "metadata": {},
   "outputs": [
    {
     "name": "stdout",
     "output_type": "stream",
     "text": [
      "El nuevo elemento es equivalente a: C6_5, S6_5\n",
      "\n"
     ]
    }
   ],
   "source": [
    "match(dot3(sig_d_23, sig_v_2, At), ops)"
   ]
  },
  {
   "cell_type": "code",
   "execution_count": 363,
   "metadata": {},
   "outputs": [
    {
     "name": "stdout",
     "output_type": "stream",
     "text": [
      "El nuevo elemento es equivalente a: C6, S6\n",
      "\n"
     ]
    }
   ],
   "source": [
    "match(dot3(sig_d_23, sig_v_3, At), ops)"
   ]
  },
  {
   "cell_type": "code",
   "execution_count": 364,
   "metadata": {},
   "outputs": [
    {
     "name": "stdout",
     "output_type": "stream",
     "text": [
      "El nuevo elemento es equivalente a: C6_4, S6_4\n",
      "\n"
     ]
    }
   ],
   "source": [
    "match(dot3(sig_d_23, sig_d_12, At), ops)"
   ]
  },
  {
   "cell_type": "code",
   "execution_count": 365,
   "metadata": {},
   "outputs": [
    {
     "name": "stdout",
     "output_type": "stream",
     "text": [
      "El nuevo elemento es equivalente a: E, sigma_h\n",
      "\n"
     ]
    }
   ],
   "source": [
    "match(dot3(sig_d_23, sig_d_23, At), ops)"
   ]
  },
  {
   "cell_type": "code",
   "execution_count": 366,
   "metadata": {},
   "outputs": [
    {
     "name": "stdout",
     "output_type": "stream",
     "text": [
      "El nuevo elemento es equivalente a: C6_2, S6_2\n",
      "\n"
     ]
    }
   ],
   "source": [
    "match(dot3(sig_d_23, sig_d_34, At), ops)"
   ]
  },
  {
   "cell_type": "code",
   "execution_count": 367,
   "metadata": {},
   "outputs": [
    {
     "name": "stdout",
     "output_type": "stream",
     "text": [
      "El nuevo elemento es equivalente a: C2_(3), sigma_v_3\n",
      "\n"
     ]
    }
   ],
   "source": [
    "match(dot3(sig_d_23, S6, At), ops)"
   ]
  },
  {
   "cell_type": "code",
   "execution_count": 368,
   "metadata": {},
   "outputs": [
    {
     "name": "stdout",
     "output_type": "stream",
     "text": [
      "El nuevo elemento es equivalente a: C2_(34), sigma_d_34\n",
      "\n"
     ]
    }
   ],
   "source": [
    "match(dot3(sig_d_23, S6_2, At), ops)"
   ]
  },
  {
   "cell_type": "code",
   "execution_count": 369,
   "metadata": {},
   "outputs": [
    {
     "name": "stdout",
     "output_type": "stream",
     "text": [
      "El nuevo elemento es equivalente a: C2_(12), sigma_d_12\n",
      "\n"
     ]
    }
   ],
   "source": [
    "match(dot3(sig_d_23, S6_4, At), ops)"
   ]
  },
  {
   "cell_type": "code",
   "execution_count": 370,
   "metadata": {},
   "outputs": [
    {
     "name": "stdout",
     "output_type": "stream",
     "text": [
      "El nuevo elemento es equivalente a: C2_(2), sigma_v_2\n",
      "\n"
     ]
    }
   ],
   "source": [
    "match(dot3(sig_d_23, S6_5, At), ops)"
   ]
  },
  {
   "cell_type": "code",
   "execution_count": 371,
   "metadata": {},
   "outputs": [
    {
     "name": "stdout",
     "output_type": "stream",
     "text": [
      "El nuevo elemento es equivalente a: C2_(1), sigma_v_1\n",
      "\n"
     ]
    }
   ],
   "source": [
    "match(dot3(sig_d_23, i, At), ops)"
   ]
  },
  {
   "cell_type": "markdown",
   "metadata": {},
   "source": [
    "#### Fila 19: $\\left( \\sigma^{34}_v \\right)$"
   ]
  },
  {
   "cell_type": "code",
   "execution_count": 372,
   "metadata": {},
   "outputs": [
    {
     "name": "stdout",
     "output_type": "stream",
     "text": [
      "El nuevo elemento es equivalente a: C2_(34), sigma_d_34\n",
      "\n"
     ]
    }
   ],
   "source": [
    "match(dot3(sig_d_34, E, At), ops)"
   ]
  },
  {
   "cell_type": "code",
   "execution_count": 373,
   "metadata": {},
   "outputs": [
    {
     "name": "stdout",
     "output_type": "stream",
     "text": [
      "El nuevo elemento es equivalente a: C2_(1), sigma_v_1\n",
      "\n"
     ]
    }
   ],
   "source": [
    "match(dot3(sig_d_34, C6, At), ops)"
   ]
  },
  {
   "cell_type": "code",
   "execution_count": 374,
   "metadata": {},
   "outputs": [
    {
     "name": "stdout",
     "output_type": "stream",
     "text": [
      "El nuevo elemento es equivalente a: C2_(12), sigma_d_12\n",
      "\n"
     ]
    }
   ],
   "source": [
    "match(dot3(sig_d_34, C6_2, At), ops)"
   ]
  },
  {
   "cell_type": "code",
   "execution_count": 375,
   "metadata": {},
   "outputs": [
    {
     "name": "stdout",
     "output_type": "stream",
     "text": [
      "El nuevo elemento es equivalente a: C2_(2), sigma_v_2\n",
      "\n"
     ]
    }
   ],
   "source": [
    "match(dot3(sig_d_34, C6_3, At), ops)"
   ]
  },
  {
   "cell_type": "code",
   "execution_count": 376,
   "metadata": {},
   "outputs": [
    {
     "name": "stdout",
     "output_type": "stream",
     "text": [
      "El nuevo elemento es equivalente a: C2_(23), sigma_d_23\n",
      "\n"
     ]
    }
   ],
   "source": [
    "match(dot3(sig_d_34, C6_4, At), ops)"
   ]
  },
  {
   "cell_type": "code",
   "execution_count": 377,
   "metadata": {},
   "outputs": [
    {
     "name": "stdout",
     "output_type": "stream",
     "text": [
      "El nuevo elemento es equivalente a: C2_(3), sigma_v_3\n",
      "\n"
     ]
    }
   ],
   "source": [
    "match(dot3(sig_d_34, C6_5, At), ops)"
   ]
  },
  {
   "cell_type": "code",
   "execution_count": 378,
   "metadata": {},
   "outputs": [
    {
     "name": "stdout",
     "output_type": "stream",
     "text": [
      "El nuevo elemento es equivalente a: C6, S6\n",
      "\n"
     ]
    }
   ],
   "source": [
    "match(dot3(sig_d_34, C2_1, At), ops)"
   ]
  },
  {
   "cell_type": "code",
   "execution_count": 379,
   "metadata": {},
   "outputs": [
    {
     "name": "stdout",
     "output_type": "stream",
     "text": [
      "El nuevo elemento es equivalente a: C6_3, S6_3, i\n",
      "\n"
     ]
    }
   ],
   "source": [
    "match(dot3(sig_d_34, C2_2, At), ops)"
   ]
  },
  {
   "cell_type": "code",
   "execution_count": 380,
   "metadata": {},
   "outputs": [
    {
     "name": "stdout",
     "output_type": "stream",
     "text": [
      "El nuevo elemento es equivalente a: C6_5, S6_5\n",
      "\n"
     ]
    }
   ],
   "source": [
    "match(dot3(sig_d_34, C2_3, At), ops)"
   ]
  },
  {
   "cell_type": "code",
   "execution_count": 381,
   "metadata": {},
   "outputs": [
    {
     "name": "stdout",
     "output_type": "stream",
     "text": [
      "El nuevo elemento es equivalente a: C6_2, S6_2\n",
      "\n"
     ]
    }
   ],
   "source": [
    "match(dot3(sig_d_34, C2_12, At), ops)"
   ]
  },
  {
   "cell_type": "code",
   "execution_count": 382,
   "metadata": {},
   "outputs": [
    {
     "name": "stdout",
     "output_type": "stream",
     "text": [
      "El nuevo elemento es equivalente a: C6_4, S6_4\n",
      "\n"
     ]
    }
   ],
   "source": [
    "match(dot3(sig_d_34, C2_23, At), ops)"
   ]
  },
  {
   "cell_type": "code",
   "execution_count": 383,
   "metadata": {},
   "outputs": [
    {
     "name": "stdout",
     "output_type": "stream",
     "text": [
      "El nuevo elemento es equivalente a: E, sigma_h\n",
      "\n"
     ]
    }
   ],
   "source": [
    "match(dot3(sig_d_34, C2_34, At), ops)"
   ]
  },
  {
   "cell_type": "code",
   "execution_count": 384,
   "metadata": {},
   "outputs": [
    {
     "name": "stdout",
     "output_type": "stream",
     "text": [
      "El nuevo elemento es equivalente a: C2_(34), sigma_d_34\n",
      "\n"
     ]
    }
   ],
   "source": [
    "match(dot3(sig_d_34, sig_h, At), ops)"
   ]
  },
  {
   "cell_type": "code",
   "execution_count": 385,
   "metadata": {},
   "outputs": [
    {
     "name": "stdout",
     "output_type": "stream",
     "text": [
      "El nuevo elemento es equivalente a: C6, S6\n",
      "\n"
     ]
    }
   ],
   "source": [
    "match(dot3(sig_d_34, sig_v_1, At), ops)"
   ]
  },
  {
   "cell_type": "code",
   "execution_count": 386,
   "metadata": {},
   "outputs": [
    {
     "name": "stdout",
     "output_type": "stream",
     "text": [
      "El nuevo elemento es equivalente a: C6_3, S6_3, i\n",
      "\n"
     ]
    }
   ],
   "source": [
    "match(dot3(sig_d_34, sig_v_2, At), ops)"
   ]
  },
  {
   "cell_type": "code",
   "execution_count": 387,
   "metadata": {},
   "outputs": [
    {
     "name": "stdout",
     "output_type": "stream",
     "text": [
      "El nuevo elemento es equivalente a: C6_5, S6_5\n",
      "\n"
     ]
    }
   ],
   "source": [
    "match(dot3(sig_d_34, sig_v_3, At), ops)"
   ]
  },
  {
   "cell_type": "code",
   "execution_count": 388,
   "metadata": {},
   "outputs": [
    {
     "name": "stdout",
     "output_type": "stream",
     "text": [
      "El nuevo elemento es equivalente a: C6_2, S6_2\n",
      "\n"
     ]
    }
   ],
   "source": [
    "match(dot3(sig_d_34, sig_d_12, At), ops)"
   ]
  },
  {
   "cell_type": "code",
   "execution_count": 389,
   "metadata": {},
   "outputs": [
    {
     "name": "stdout",
     "output_type": "stream",
     "text": [
      "El nuevo elemento es equivalente a: C6_4, S6_4\n",
      "\n"
     ]
    }
   ],
   "source": [
    "match(dot3(sig_d_34, sig_d_23, At), ops)"
   ]
  },
  {
   "cell_type": "code",
   "execution_count": 390,
   "metadata": {},
   "outputs": [
    {
     "name": "stdout",
     "output_type": "stream",
     "text": [
      "El nuevo elemento es equivalente a: E, sigma_h\n",
      "\n"
     ]
    }
   ],
   "source": [
    "match(dot3(sig_d_34, sig_d_34, At), ops)"
   ]
  },
  {
   "cell_type": "code",
   "execution_count": 391,
   "metadata": {},
   "outputs": [
    {
     "name": "stdout",
     "output_type": "stream",
     "text": [
      "El nuevo elemento es equivalente a: C2_(1), sigma_v_1\n",
      "\n"
     ]
    }
   ],
   "source": [
    "match(dot3(sig_d_34, S6, At), ops)"
   ]
  },
  {
   "cell_type": "code",
   "execution_count": 392,
   "metadata": {},
   "outputs": [
    {
     "name": "stdout",
     "output_type": "stream",
     "text": [
      "El nuevo elemento es equivalente a: C2_(12), sigma_d_12\n",
      "\n"
     ]
    }
   ],
   "source": [
    "match(dot3(sig_d_34, S6_2, At), ops)"
   ]
  },
  {
   "cell_type": "code",
   "execution_count": 393,
   "metadata": {},
   "outputs": [
    {
     "name": "stdout",
     "output_type": "stream",
     "text": [
      "El nuevo elemento es equivalente a: C2_(23), sigma_d_23\n",
      "\n"
     ]
    }
   ],
   "source": [
    "match(dot3(sig_d_34, S6_4, At), ops)"
   ]
  },
  {
   "cell_type": "code",
   "execution_count": 394,
   "metadata": {},
   "outputs": [
    {
     "name": "stdout",
     "output_type": "stream",
     "text": [
      "El nuevo elemento es equivalente a: C2_(3), sigma_v_3\n",
      "\n"
     ]
    }
   ],
   "source": [
    "match(dot3(sig_d_34, S6_5, At), ops)"
   ]
  },
  {
   "cell_type": "code",
   "execution_count": 395,
   "metadata": {},
   "outputs": [
    {
     "name": "stdout",
     "output_type": "stream",
     "text": [
      "El nuevo elemento es equivalente a: C2_(2), sigma_v_2\n",
      "\n"
     ]
    }
   ],
   "source": [
    "match(dot3(sig_d_34, i, At), ops)"
   ]
  },
  {
   "cell_type": "markdown",
   "metadata": {},
   "source": [
    "#### Fila 20: $\\left( S_6 \\right)$"
   ]
  },
  {
   "cell_type": "code",
   "execution_count": 396,
   "metadata": {},
   "outputs": [
    {
     "name": "stdout",
     "output_type": "stream",
     "text": [
      "El nuevo elemento es equivalente a: C6, S6\n",
      "\n"
     ]
    }
   ],
   "source": [
    "match(dot3(S6, E, At), ops)"
   ]
  },
  {
   "cell_type": "code",
   "execution_count": 397,
   "metadata": {},
   "outputs": [
    {
     "name": "stdout",
     "output_type": "stream",
     "text": [
      "El nuevo elemento es equivalente a: C6_2, S6_2\n",
      "\n"
     ]
    }
   ],
   "source": [
    "match(dot3(S6, C6, At), ops)"
   ]
  },
  {
   "cell_type": "code",
   "execution_count": 398,
   "metadata": {},
   "outputs": [
    {
     "name": "stdout",
     "output_type": "stream",
     "text": [
      "El nuevo elemento es equivalente a: C6_3, S6_3, i\n",
      "\n"
     ]
    }
   ],
   "source": [
    "match(dot3(S6, C6_2, At), ops)"
   ]
  },
  {
   "cell_type": "code",
   "execution_count": 399,
   "metadata": {},
   "outputs": [
    {
     "name": "stdout",
     "output_type": "stream",
     "text": [
      "El nuevo elemento es equivalente a: C6_4, S6_4\n",
      "\n"
     ]
    }
   ],
   "source": [
    "match(dot3(S6, C6_3, At), ops)"
   ]
  },
  {
   "cell_type": "code",
   "execution_count": 400,
   "metadata": {},
   "outputs": [
    {
     "name": "stdout",
     "output_type": "stream",
     "text": [
      "El nuevo elemento es equivalente a: C6_5, S6_5\n",
      "\n"
     ]
    }
   ],
   "source": [
    "match(dot3(S6, C6_4, At), ops)"
   ]
  },
  {
   "cell_type": "code",
   "execution_count": 401,
   "metadata": {},
   "outputs": [
    {
     "name": "stdout",
     "output_type": "stream",
     "text": [
      "El nuevo elemento es equivalente a: E, sigma_h\n",
      "\n"
     ]
    }
   ],
   "source": [
    "match(dot3(S6, C6_5, At), ops)"
   ]
  },
  {
   "cell_type": "code",
   "execution_count": 402,
   "metadata": {},
   "outputs": [
    {
     "name": "stdout",
     "output_type": "stream",
     "text": [
      "El nuevo elemento es equivalente a: C2_(34), sigma_d_34\n",
      "\n"
     ]
    }
   ],
   "source": [
    "match(dot3(S6, C2_1, At), ops)"
   ]
  },
  {
   "cell_type": "code",
   "execution_count": 403,
   "metadata": {},
   "outputs": [
    {
     "name": "stdout",
     "output_type": "stream",
     "text": [
      "El nuevo elemento es equivalente a: C2_(12), sigma_d_12\n",
      "\n"
     ]
    }
   ],
   "source": [
    "match(dot3(S6, C2_2, At), ops)"
   ]
  },
  {
   "cell_type": "code",
   "execution_count": 404,
   "metadata": {},
   "outputs": [
    {
     "name": "stdout",
     "output_type": "stream",
     "text": [
      "El nuevo elemento es equivalente a: C2_(23), sigma_d_23\n",
      "\n"
     ]
    }
   ],
   "source": [
    "match(dot3(S6, C2_3, At), ops)"
   ]
  },
  {
   "cell_type": "code",
   "execution_count": 405,
   "metadata": {},
   "outputs": [
    {
     "name": "stdout",
     "output_type": "stream",
     "text": [
      "El nuevo elemento es equivalente a: C2_(1), sigma_v_1\n",
      "\n"
     ]
    }
   ],
   "source": [
    "match(dot3(S6, C2_12, At), ops)"
   ]
  },
  {
   "cell_type": "code",
   "execution_count": 406,
   "metadata": {},
   "outputs": [
    {
     "name": "stdout",
     "output_type": "stream",
     "text": [
      "El nuevo elemento es equivalente a: C2_(2), sigma_v_2\n",
      "\n"
     ]
    }
   ],
   "source": [
    "match(dot3(S6, C2_23, At), ops)"
   ]
  },
  {
   "cell_type": "code",
   "execution_count": 407,
   "metadata": {},
   "outputs": [
    {
     "name": "stdout",
     "output_type": "stream",
     "text": [
      "El nuevo elemento es equivalente a: C2_(3), sigma_v_3\n",
      "\n"
     ]
    }
   ],
   "source": [
    "match(dot3(S6, C2_34, At), ops)"
   ]
  },
  {
   "cell_type": "code",
   "execution_count": 408,
   "metadata": {},
   "outputs": [
    {
     "name": "stdout",
     "output_type": "stream",
     "text": [
      "El nuevo elemento es equivalente a: C6, S6\n",
      "\n"
     ]
    }
   ],
   "source": [
    "match(dot3(S6, sig_h, At), ops)"
   ]
  },
  {
   "cell_type": "code",
   "execution_count": 409,
   "metadata": {},
   "outputs": [
    {
     "name": "stdout",
     "output_type": "stream",
     "text": [
      "El nuevo elemento es equivalente a: C2_(34), sigma_d_34\n",
      "\n"
     ]
    }
   ],
   "source": [
    "match(dot3(S6, sig_v_1, At), ops)"
   ]
  },
  {
   "cell_type": "code",
   "execution_count": 410,
   "metadata": {},
   "outputs": [
    {
     "name": "stdout",
     "output_type": "stream",
     "text": [
      "El nuevo elemento es equivalente a: C2_(12), sigma_d_12\n",
      "\n"
     ]
    }
   ],
   "source": [
    "match(dot3(S6, sig_v_2, At), ops)"
   ]
  },
  {
   "cell_type": "code",
   "execution_count": 411,
   "metadata": {},
   "outputs": [
    {
     "name": "stdout",
     "output_type": "stream",
     "text": [
      "El nuevo elemento es equivalente a: C2_(23), sigma_d_23\n",
      "\n"
     ]
    }
   ],
   "source": [
    "match(dot3(S6, sig_v_3, At), ops)"
   ]
  },
  {
   "cell_type": "code",
   "execution_count": 412,
   "metadata": {},
   "outputs": [
    {
     "name": "stdout",
     "output_type": "stream",
     "text": [
      "El nuevo elemento es equivalente a: C2_(1), sigma_v_1\n",
      "\n"
     ]
    }
   ],
   "source": [
    "match(dot3(S6, sig_d_12, At), ops)"
   ]
  },
  {
   "cell_type": "code",
   "execution_count": 413,
   "metadata": {},
   "outputs": [
    {
     "name": "stdout",
     "output_type": "stream",
     "text": [
      "El nuevo elemento es equivalente a: C2_(2), sigma_v_2\n",
      "\n"
     ]
    }
   ],
   "source": [
    "match(dot3(S6, sig_d_23, At), ops)"
   ]
  },
  {
   "cell_type": "code",
   "execution_count": 414,
   "metadata": {},
   "outputs": [
    {
     "name": "stdout",
     "output_type": "stream",
     "text": [
      "El nuevo elemento es equivalente a: C2_(3), sigma_v_3\n",
      "\n"
     ]
    }
   ],
   "source": [
    "match(dot3(S6, sig_d_34, At), ops)"
   ]
  },
  {
   "cell_type": "code",
   "execution_count": 415,
   "metadata": {},
   "outputs": [
    {
     "name": "stdout",
     "output_type": "stream",
     "text": [
      "El nuevo elemento es equivalente a: C6_2, S6_2\n",
      "\n"
     ]
    }
   ],
   "source": [
    "match(dot3(S6, S6, At), ops)"
   ]
  },
  {
   "cell_type": "code",
   "execution_count": 416,
   "metadata": {},
   "outputs": [
    {
     "name": "stdout",
     "output_type": "stream",
     "text": [
      "El nuevo elemento es equivalente a: C6_3, S6_3, i\n",
      "\n"
     ]
    }
   ],
   "source": [
    "match(dot3(S6, S6_2, At), ops)"
   ]
  },
  {
   "cell_type": "code",
   "execution_count": 417,
   "metadata": {},
   "outputs": [
    {
     "name": "stdout",
     "output_type": "stream",
     "text": [
      "El nuevo elemento es equivalente a: C6_5, S6_5\n",
      "\n"
     ]
    }
   ],
   "source": [
    "match(dot3(S6, S6_4, At), ops)"
   ]
  },
  {
   "cell_type": "code",
   "execution_count": 418,
   "metadata": {},
   "outputs": [
    {
     "name": "stdout",
     "output_type": "stream",
     "text": [
      "El nuevo elemento es equivalente a: E, sigma_h\n",
      "\n"
     ]
    }
   ],
   "source": [
    "match(dot3(S6, S6_5, At), ops)"
   ]
  },
  {
   "cell_type": "code",
   "execution_count": 419,
   "metadata": {},
   "outputs": [
    {
     "name": "stdout",
     "output_type": "stream",
     "text": [
      "El nuevo elemento es equivalente a: C6_4, S6_4\n",
      "\n"
     ]
    }
   ],
   "source": [
    "match(dot3(S6, i, At), ops)"
   ]
  },
  {
   "cell_type": "markdown",
   "metadata": {},
   "source": [
    "#### Fila 21: $\\left( S^2_6 \\right)$"
   ]
  },
  {
   "cell_type": "code",
   "execution_count": 420,
   "metadata": {},
   "outputs": [
    {
     "name": "stdout",
     "output_type": "stream",
     "text": [
      "El nuevo elemento es equivalente a: C6_2, S6_2\n",
      "\n"
     ]
    }
   ],
   "source": [
    "match(dot3(S6_2, E, At), ops)"
   ]
  },
  {
   "cell_type": "code",
   "execution_count": 421,
   "metadata": {},
   "outputs": [
    {
     "name": "stdout",
     "output_type": "stream",
     "text": [
      "El nuevo elemento es equivalente a: C6_3, S6_3, i\n",
      "\n"
     ]
    }
   ],
   "source": [
    "match(dot3(S6_2, C6, At), ops)"
   ]
  },
  {
   "cell_type": "code",
   "execution_count": 422,
   "metadata": {},
   "outputs": [
    {
     "name": "stdout",
     "output_type": "stream",
     "text": [
      "El nuevo elemento es equivalente a: C6_4, S6_4\n",
      "\n"
     ]
    }
   ],
   "source": [
    "match(dot3(S6_2, C6_2, At), ops)"
   ]
  },
  {
   "cell_type": "code",
   "execution_count": 423,
   "metadata": {},
   "outputs": [
    {
     "name": "stdout",
     "output_type": "stream",
     "text": [
      "El nuevo elemento es equivalente a: C6_5, S6_5\n",
      "\n"
     ]
    }
   ],
   "source": [
    "match(dot3(S6_2, C6_3, At), ops)"
   ]
  },
  {
   "cell_type": "code",
   "execution_count": 424,
   "metadata": {},
   "outputs": [
    {
     "name": "stdout",
     "output_type": "stream",
     "text": [
      "El nuevo elemento es equivalente a: E, sigma_h\n",
      "\n"
     ]
    }
   ],
   "source": [
    "match(dot3(S6_2, C6_4, At), ops)"
   ]
  },
  {
   "cell_type": "code",
   "execution_count": 425,
   "metadata": {},
   "outputs": [
    {
     "name": "stdout",
     "output_type": "stream",
     "text": [
      "El nuevo elemento es equivalente a: C6, S6\n",
      "\n"
     ]
    }
   ],
   "source": [
    "match(dot3(S6_2, C6_5, At), ops)"
   ]
  },
  {
   "cell_type": "code",
   "execution_count": 426,
   "metadata": {},
   "outputs": [
    {
     "name": "stdout",
     "output_type": "stream",
     "text": [
      "El nuevo elemento es equivalente a: C2_(3), sigma_v_3\n",
      "\n"
     ]
    }
   ],
   "source": [
    "match(dot3(S6_2, C2_1, At), ops)"
   ]
  },
  {
   "cell_type": "code",
   "execution_count": 427,
   "metadata": {},
   "outputs": [
    {
     "name": "stdout",
     "output_type": "stream",
     "text": [
      "El nuevo elemento es equivalente a: C2_(1), sigma_v_1\n",
      "\n"
     ]
    }
   ],
   "source": [
    "match(dot3(S6_2, C2_2, At), ops)"
   ]
  },
  {
   "cell_type": "code",
   "execution_count": 428,
   "metadata": {},
   "outputs": [
    {
     "name": "stdout",
     "output_type": "stream",
     "text": [
      "El nuevo elemento es equivalente a: C2_(2), sigma_v_2\n",
      "\n"
     ]
    }
   ],
   "source": [
    "match(dot3(S6_2, C2_3, At), ops)"
   ]
  },
  {
   "cell_type": "code",
   "execution_count": 429,
   "metadata": {},
   "outputs": [
    {
     "name": "stdout",
     "output_type": "stream",
     "text": [
      "El nuevo elemento es equivalente a: C2_(34), sigma_d_34\n",
      "\n"
     ]
    }
   ],
   "source": [
    "match(dot3(S6_2, C2_12, At), ops)"
   ]
  },
  {
   "cell_type": "code",
   "execution_count": 430,
   "metadata": {},
   "outputs": [
    {
     "name": "stdout",
     "output_type": "stream",
     "text": [
      "El nuevo elemento es equivalente a: C2_(12), sigma_d_12\n",
      "\n"
     ]
    }
   ],
   "source": [
    "match(dot3(S6_2, C2_23, At), ops)"
   ]
  },
  {
   "cell_type": "code",
   "execution_count": 431,
   "metadata": {},
   "outputs": [
    {
     "name": "stdout",
     "output_type": "stream",
     "text": [
      "El nuevo elemento es equivalente a: C2_(23), sigma_d_23\n",
      "\n"
     ]
    }
   ],
   "source": [
    "match(dot3(S6_2, C2_34, At), ops)"
   ]
  },
  {
   "cell_type": "code",
   "execution_count": 432,
   "metadata": {},
   "outputs": [
    {
     "name": "stdout",
     "output_type": "stream",
     "text": [
      "El nuevo elemento es equivalente a: C6_2, S6_2\n",
      "\n"
     ]
    }
   ],
   "source": [
    "match(dot3(S6_2, sig_h, At), ops)"
   ]
  },
  {
   "cell_type": "code",
   "execution_count": 433,
   "metadata": {},
   "outputs": [
    {
     "name": "stdout",
     "output_type": "stream",
     "text": [
      "El nuevo elemento es equivalente a: C2_(3), sigma_v_3\n",
      "\n"
     ]
    }
   ],
   "source": [
    "match(dot3(S6_2, sig_v_1, At), ops)"
   ]
  },
  {
   "cell_type": "code",
   "execution_count": 434,
   "metadata": {},
   "outputs": [
    {
     "name": "stdout",
     "output_type": "stream",
     "text": [
      "El nuevo elemento es equivalente a: C2_(1), sigma_v_1\n",
      "\n"
     ]
    }
   ],
   "source": [
    "match(dot3(S6_2, sig_v_2, At), ops)"
   ]
  },
  {
   "cell_type": "code",
   "execution_count": 435,
   "metadata": {},
   "outputs": [
    {
     "name": "stdout",
     "output_type": "stream",
     "text": [
      "El nuevo elemento es equivalente a: C2_(2), sigma_v_2\n",
      "\n"
     ]
    }
   ],
   "source": [
    "match(dot3(S6_2, sig_v_3, At), ops)"
   ]
  },
  {
   "cell_type": "code",
   "execution_count": 436,
   "metadata": {},
   "outputs": [
    {
     "name": "stdout",
     "output_type": "stream",
     "text": [
      "El nuevo elemento es equivalente a: C2_(34), sigma_d_34\n",
      "\n"
     ]
    }
   ],
   "source": [
    "match(dot3(S6_2, sig_d_12, At), ops)"
   ]
  },
  {
   "cell_type": "code",
   "execution_count": 437,
   "metadata": {},
   "outputs": [
    {
     "name": "stdout",
     "output_type": "stream",
     "text": [
      "El nuevo elemento es equivalente a: C2_(12), sigma_d_12\n",
      "\n"
     ]
    }
   ],
   "source": [
    "match(dot3(S6_2, sig_d_23, At), ops)"
   ]
  },
  {
   "cell_type": "code",
   "execution_count": 438,
   "metadata": {},
   "outputs": [
    {
     "name": "stdout",
     "output_type": "stream",
     "text": [
      "El nuevo elemento es equivalente a: C2_(23), sigma_d_23\n",
      "\n"
     ]
    }
   ],
   "source": [
    "match(dot3(S6_2, sig_d_34, At), ops)"
   ]
  },
  {
   "cell_type": "code",
   "execution_count": 439,
   "metadata": {},
   "outputs": [
    {
     "name": "stdout",
     "output_type": "stream",
     "text": [
      "El nuevo elemento es equivalente a: C6_3, S6_3, i\n",
      "\n"
     ]
    }
   ],
   "source": [
    "match(dot3(S6_2, S6, At), ops)"
   ]
  },
  {
   "cell_type": "code",
   "execution_count": 440,
   "metadata": {},
   "outputs": [
    {
     "name": "stdout",
     "output_type": "stream",
     "text": [
      "El nuevo elemento es equivalente a: C6_4, S6_4\n",
      "\n"
     ]
    }
   ],
   "source": [
    "match(dot3(S6_2, S6_2, At), ops)"
   ]
  },
  {
   "cell_type": "code",
   "execution_count": 441,
   "metadata": {},
   "outputs": [
    {
     "name": "stdout",
     "output_type": "stream",
     "text": [
      "El nuevo elemento es equivalente a: E, sigma_h\n",
      "\n"
     ]
    }
   ],
   "source": [
    "match(dot3(S6_2, S6_4, At), ops)"
   ]
  },
  {
   "cell_type": "code",
   "execution_count": 442,
   "metadata": {},
   "outputs": [
    {
     "name": "stdout",
     "output_type": "stream",
     "text": [
      "El nuevo elemento es equivalente a: C6, S6\n",
      "\n"
     ]
    }
   ],
   "source": [
    "match(dot3(S6_2, S6_5, At), ops)"
   ]
  },
  {
   "cell_type": "code",
   "execution_count": 443,
   "metadata": {},
   "outputs": [
    {
     "name": "stdout",
     "output_type": "stream",
     "text": [
      "El nuevo elemento es equivalente a: C6_5, S6_5\n",
      "\n"
     ]
    }
   ],
   "source": [
    "match(dot3(S6_2, i, At), ops)"
   ]
  },
  {
   "cell_type": "markdown",
   "metadata": {},
   "source": [
    "#### Fila 22: $\\left( S^4_6 \\right)$"
   ]
  },
  {
   "cell_type": "code",
   "execution_count": 468,
   "metadata": {},
   "outputs": [
    {
     "name": "stdout",
     "output_type": "stream",
     "text": [
      "El nuevo elemento es equivalente a: C6_4, S6_4\n",
      "\n"
     ]
    }
   ],
   "source": [
    "match(dot3(S6_4, E, At), ops)"
   ]
  },
  {
   "cell_type": "code",
   "execution_count": 469,
   "metadata": {},
   "outputs": [
    {
     "name": "stdout",
     "output_type": "stream",
     "text": [
      "El nuevo elemento es equivalente a: C6_5, S6_5\n",
      "\n"
     ]
    }
   ],
   "source": [
    "match(dot3(S6_4, C6, At), ops)"
   ]
  },
  {
   "cell_type": "code",
   "execution_count": 470,
   "metadata": {},
   "outputs": [
    {
     "name": "stdout",
     "output_type": "stream",
     "text": [
      "El nuevo elemento es equivalente a: E, sigma_h\n",
      "\n"
     ]
    }
   ],
   "source": [
    "match(dot3(S6_4, C6_2, At), ops)"
   ]
  },
  {
   "cell_type": "code",
   "execution_count": 471,
   "metadata": {},
   "outputs": [
    {
     "name": "stdout",
     "output_type": "stream",
     "text": [
      "El nuevo elemento es equivalente a: C6, S6\n",
      "\n"
     ]
    }
   ],
   "source": [
    "match(dot3(S6_4, C6_3, At), ops)"
   ]
  },
  {
   "cell_type": "code",
   "execution_count": 472,
   "metadata": {},
   "outputs": [
    {
     "name": "stdout",
     "output_type": "stream",
     "text": [
      "El nuevo elemento es equivalente a: C6_2, S6_2\n",
      "\n"
     ]
    }
   ],
   "source": [
    "match(dot3(S6_4, C6_4, At), ops)"
   ]
  },
  {
   "cell_type": "code",
   "execution_count": 473,
   "metadata": {},
   "outputs": [
    {
     "name": "stdout",
     "output_type": "stream",
     "text": [
      "El nuevo elemento es equivalente a: C6_3, S6_3, i\n",
      "\n"
     ]
    }
   ],
   "source": [
    "match(dot3(S6_4, C6_5, At), ops)"
   ]
  },
  {
   "cell_type": "code",
   "execution_count": 474,
   "metadata": {},
   "outputs": [
    {
     "name": "stdout",
     "output_type": "stream",
     "text": [
      "El nuevo elemento es equivalente a: C2_(2), sigma_v_2\n",
      "\n"
     ]
    }
   ],
   "source": [
    "match(dot3(S6_4, C2_1, At), ops)"
   ]
  },
  {
   "cell_type": "code",
   "execution_count": 475,
   "metadata": {},
   "outputs": [
    {
     "name": "stdout",
     "output_type": "stream",
     "text": [
      "El nuevo elemento es equivalente a: C2_(3), sigma_v_3\n",
      "\n"
     ]
    }
   ],
   "source": [
    "match(dot3(S6_4, C2_2, At), ops)"
   ]
  },
  {
   "cell_type": "code",
   "execution_count": 476,
   "metadata": {},
   "outputs": [
    {
     "name": "stdout",
     "output_type": "stream",
     "text": [
      "El nuevo elemento es equivalente a: C2_(1), sigma_v_1\n",
      "\n"
     ]
    }
   ],
   "source": [
    "match(dot3(S6_4, C2_3, At), ops)"
   ]
  },
  {
   "cell_type": "code",
   "execution_count": 477,
   "metadata": {},
   "outputs": [
    {
     "name": "stdout",
     "output_type": "stream",
     "text": [
      "El nuevo elemento es equivalente a: C2_(23), sigma_d_23\n",
      "\n"
     ]
    }
   ],
   "source": [
    "match(dot3(S6_4, C2_12, At), ops)"
   ]
  },
  {
   "cell_type": "code",
   "execution_count": 478,
   "metadata": {},
   "outputs": [
    {
     "name": "stdout",
     "output_type": "stream",
     "text": [
      "El nuevo elemento es equivalente a: C2_(34), sigma_d_34\n",
      "\n"
     ]
    }
   ],
   "source": [
    "match(dot3(S6_4, C2_23, At), ops)"
   ]
  },
  {
   "cell_type": "code",
   "execution_count": 479,
   "metadata": {},
   "outputs": [
    {
     "name": "stdout",
     "output_type": "stream",
     "text": [
      "El nuevo elemento es equivalente a: C2_(12), sigma_d_12\n",
      "\n"
     ]
    }
   ],
   "source": [
    "match(dot3(S6_4, C2_34, At), ops)"
   ]
  },
  {
   "cell_type": "code",
   "execution_count": 480,
   "metadata": {},
   "outputs": [
    {
     "name": "stdout",
     "output_type": "stream",
     "text": [
      "El nuevo elemento es equivalente a: C6_4, S6_4\n",
      "\n"
     ]
    }
   ],
   "source": [
    "match(dot3(S6_4, sig_h, At), ops)"
   ]
  },
  {
   "cell_type": "code",
   "execution_count": 481,
   "metadata": {},
   "outputs": [
    {
     "name": "stdout",
     "output_type": "stream",
     "text": [
      "El nuevo elemento es equivalente a: C2_(2), sigma_v_2\n",
      "\n"
     ]
    }
   ],
   "source": [
    "match(dot3(S6_4, sig_v_1, At), ops)"
   ]
  },
  {
   "cell_type": "code",
   "execution_count": 482,
   "metadata": {},
   "outputs": [
    {
     "name": "stdout",
     "output_type": "stream",
     "text": [
      "El nuevo elemento es equivalente a: C2_(3), sigma_v_3\n",
      "\n"
     ]
    }
   ],
   "source": [
    "match(dot3(S6_4, sig_v_2, At), ops)"
   ]
  },
  {
   "cell_type": "code",
   "execution_count": 483,
   "metadata": {},
   "outputs": [
    {
     "name": "stdout",
     "output_type": "stream",
     "text": [
      "El nuevo elemento es equivalente a: C2_(1), sigma_v_1\n",
      "\n"
     ]
    }
   ],
   "source": [
    "match(dot3(S6_4, sig_v_3, At), ops)"
   ]
  },
  {
   "cell_type": "code",
   "execution_count": 484,
   "metadata": {},
   "outputs": [
    {
     "name": "stdout",
     "output_type": "stream",
     "text": [
      "El nuevo elemento es equivalente a: C2_(23), sigma_d_23\n",
      "\n"
     ]
    }
   ],
   "source": [
    "match(dot3(S6_4, sig_d_12, At), ops)"
   ]
  },
  {
   "cell_type": "code",
   "execution_count": 485,
   "metadata": {},
   "outputs": [
    {
     "name": "stdout",
     "output_type": "stream",
     "text": [
      "El nuevo elemento es equivalente a: C2_(34), sigma_d_34\n",
      "\n"
     ]
    }
   ],
   "source": [
    "match(dot3(S6_4, sig_d_23, At), ops)"
   ]
  },
  {
   "cell_type": "code",
   "execution_count": 486,
   "metadata": {},
   "outputs": [
    {
     "name": "stdout",
     "output_type": "stream",
     "text": [
      "El nuevo elemento es equivalente a: C2_(12), sigma_d_12\n",
      "\n"
     ]
    }
   ],
   "source": [
    "match(dot3(S6_4, sig_d_34, At), ops)"
   ]
  },
  {
   "cell_type": "code",
   "execution_count": 487,
   "metadata": {},
   "outputs": [
    {
     "name": "stdout",
     "output_type": "stream",
     "text": [
      "El nuevo elemento es equivalente a: C6_5, S6_5\n",
      "\n"
     ]
    }
   ],
   "source": [
    "match(dot3(S6_4, S6, At), ops)"
   ]
  },
  {
   "cell_type": "code",
   "execution_count": 488,
   "metadata": {},
   "outputs": [
    {
     "name": "stdout",
     "output_type": "stream",
     "text": [
      "El nuevo elemento es equivalente a: E, sigma_h\n",
      "\n"
     ]
    }
   ],
   "source": [
    "match(dot3(S6_4, S6_2, At), ops)"
   ]
  },
  {
   "cell_type": "code",
   "execution_count": 489,
   "metadata": {},
   "outputs": [
    {
     "name": "stdout",
     "output_type": "stream",
     "text": [
      "El nuevo elemento es equivalente a: C6_2, S6_2\n",
      "\n"
     ]
    }
   ],
   "source": [
    "match(dot3(S6_4, S6_4, At), ops)"
   ]
  },
  {
   "cell_type": "code",
   "execution_count": 490,
   "metadata": {},
   "outputs": [
    {
     "name": "stdout",
     "output_type": "stream",
     "text": [
      "El nuevo elemento es equivalente a: C6_3, S6_3, i\n",
      "\n"
     ]
    }
   ],
   "source": [
    "match(dot3(S6_4, S6_5, At), ops)"
   ]
  },
  {
   "cell_type": "code",
   "execution_count": 491,
   "metadata": {},
   "outputs": [
    {
     "name": "stdout",
     "output_type": "stream",
     "text": [
      "El nuevo elemento es equivalente a: C6, S6\n",
      "\n"
     ]
    }
   ],
   "source": [
    "match(dot3(S6_4, i, At), ops)"
   ]
  },
  {
   "cell_type": "markdown",
   "metadata": {},
   "source": [
    "#### Fila 23: $\\left( S^5_6 \\right)$"
   ]
  },
  {
   "cell_type": "code",
   "execution_count": 492,
   "metadata": {},
   "outputs": [
    {
     "name": "stdout",
     "output_type": "stream",
     "text": [
      "El nuevo elemento es equivalente a: C6_5, S6_5\n",
      "\n"
     ]
    }
   ],
   "source": [
    "match(dot3(S6_5, E, At), ops)"
   ]
  },
  {
   "cell_type": "code",
   "execution_count": 493,
   "metadata": {},
   "outputs": [
    {
     "name": "stdout",
     "output_type": "stream",
     "text": [
      "El nuevo elemento es equivalente a: E, sigma_h\n",
      "\n"
     ]
    }
   ],
   "source": [
    "match(dot3(S6_5, C6, At), ops)"
   ]
  },
  {
   "cell_type": "code",
   "execution_count": 494,
   "metadata": {},
   "outputs": [
    {
     "name": "stdout",
     "output_type": "stream",
     "text": [
      "El nuevo elemento es equivalente a: C6, S6\n",
      "\n"
     ]
    }
   ],
   "source": [
    "match(dot3(S6_5, C6_2, At), ops)"
   ]
  },
  {
   "cell_type": "code",
   "execution_count": 495,
   "metadata": {},
   "outputs": [
    {
     "name": "stdout",
     "output_type": "stream",
     "text": [
      "El nuevo elemento es equivalente a: C6_2, S6_2\n",
      "\n"
     ]
    }
   ],
   "source": [
    "match(dot3(S6_5, C6_3, At), ops)"
   ]
  },
  {
   "cell_type": "code",
   "execution_count": 496,
   "metadata": {},
   "outputs": [
    {
     "name": "stdout",
     "output_type": "stream",
     "text": [
      "El nuevo elemento es equivalente a: C6_3, S6_3, i\n",
      "\n"
     ]
    }
   ],
   "source": [
    "match(dot3(S6_5, C6_4, At), ops)"
   ]
  },
  {
   "cell_type": "code",
   "execution_count": 497,
   "metadata": {},
   "outputs": [
    {
     "name": "stdout",
     "output_type": "stream",
     "text": [
      "El nuevo elemento es equivalente a: C6_4, S6_4\n",
      "\n"
     ]
    }
   ],
   "source": [
    "match(dot3(S6_5, C6_5, At), ops)"
   ]
  },
  {
   "cell_type": "code",
   "execution_count": 498,
   "metadata": {},
   "outputs": [
    {
     "name": "stdout",
     "output_type": "stream",
     "text": [
      "El nuevo elemento es equivalente a: C2_(12), sigma_d_12\n",
      "\n"
     ]
    }
   ],
   "source": [
    "match(dot3(S6_5, C2_1, At), ops)"
   ]
  },
  {
   "cell_type": "code",
   "execution_count": 499,
   "metadata": {},
   "outputs": [
    {
     "name": "stdout",
     "output_type": "stream",
     "text": [
      "El nuevo elemento es equivalente a: C2_(23), sigma_d_23\n",
      "\n"
     ]
    }
   ],
   "source": [
    "match(dot3(S6_5, C2_2, At), ops)"
   ]
  },
  {
   "cell_type": "code",
   "execution_count": 500,
   "metadata": {},
   "outputs": [
    {
     "name": "stdout",
     "output_type": "stream",
     "text": [
      "El nuevo elemento es equivalente a: C2_(34), sigma_d_34\n",
      "\n"
     ]
    }
   ],
   "source": [
    "match(dot3(S6_5, C2_3, At), ops)"
   ]
  },
  {
   "cell_type": "code",
   "execution_count": 501,
   "metadata": {},
   "outputs": [
    {
     "name": "stdout",
     "output_type": "stream",
     "text": [
      "El nuevo elemento es equivalente a: C2_(2), sigma_v_2\n",
      "\n"
     ]
    }
   ],
   "source": [
    "match(dot3(S6_5, C2_12, At), ops)"
   ]
  },
  {
   "cell_type": "code",
   "execution_count": 502,
   "metadata": {},
   "outputs": [
    {
     "name": "stdout",
     "output_type": "stream",
     "text": [
      "El nuevo elemento es equivalente a: C2_(3), sigma_v_3\n",
      "\n"
     ]
    }
   ],
   "source": [
    "match(dot3(S6_5, C2_23, At), ops)"
   ]
  },
  {
   "cell_type": "code",
   "execution_count": 503,
   "metadata": {},
   "outputs": [
    {
     "name": "stdout",
     "output_type": "stream",
     "text": [
      "El nuevo elemento es equivalente a: C2_(1), sigma_v_1\n",
      "\n"
     ]
    }
   ],
   "source": [
    "match(dot3(S6_5, C2_34, At), ops)"
   ]
  },
  {
   "cell_type": "code",
   "execution_count": 504,
   "metadata": {},
   "outputs": [
    {
     "name": "stdout",
     "output_type": "stream",
     "text": [
      "El nuevo elemento es equivalente a: C6_5, S6_5\n",
      "\n"
     ]
    }
   ],
   "source": [
    "match(dot3(S6_5, sig_h, At), ops)"
   ]
  },
  {
   "cell_type": "code",
   "execution_count": 505,
   "metadata": {},
   "outputs": [
    {
     "name": "stdout",
     "output_type": "stream",
     "text": [
      "El nuevo elemento es equivalente a: C2_(12), sigma_d_12\n",
      "\n"
     ]
    }
   ],
   "source": [
    "match(dot3(S6_5, sig_v_1, At), ops)"
   ]
  },
  {
   "cell_type": "code",
   "execution_count": 506,
   "metadata": {},
   "outputs": [
    {
     "name": "stdout",
     "output_type": "stream",
     "text": [
      "El nuevo elemento es equivalente a: C2_(23), sigma_d_23\n",
      "\n"
     ]
    }
   ],
   "source": [
    "match(dot3(S6_5, sig_v_2, At), ops)"
   ]
  },
  {
   "cell_type": "code",
   "execution_count": 507,
   "metadata": {},
   "outputs": [
    {
     "name": "stdout",
     "output_type": "stream",
     "text": [
      "El nuevo elemento es equivalente a: C2_(34), sigma_d_34\n",
      "\n"
     ]
    }
   ],
   "source": [
    "match(dot3(S6_5, sig_v_3, At), ops)"
   ]
  },
  {
   "cell_type": "code",
   "execution_count": 508,
   "metadata": {},
   "outputs": [
    {
     "name": "stdout",
     "output_type": "stream",
     "text": [
      "El nuevo elemento es equivalente a: C2_(2), sigma_v_2\n",
      "\n"
     ]
    }
   ],
   "source": [
    "match(dot3(S6_5, sig_d_12, At), ops)"
   ]
  },
  {
   "cell_type": "code",
   "execution_count": 509,
   "metadata": {},
   "outputs": [
    {
     "name": "stdout",
     "output_type": "stream",
     "text": [
      "El nuevo elemento es equivalente a: C2_(3), sigma_v_3\n",
      "\n"
     ]
    }
   ],
   "source": [
    "match(dot3(S6_5, sig_d_23, At), ops)"
   ]
  },
  {
   "cell_type": "code",
   "execution_count": 510,
   "metadata": {},
   "outputs": [
    {
     "name": "stdout",
     "output_type": "stream",
     "text": [
      "El nuevo elemento es equivalente a: C2_(1), sigma_v_1\n",
      "\n"
     ]
    }
   ],
   "source": [
    "match(dot3(S6_5, sig_d_34, At), ops)"
   ]
  },
  {
   "cell_type": "code",
   "execution_count": 511,
   "metadata": {},
   "outputs": [
    {
     "name": "stdout",
     "output_type": "stream",
     "text": [
      "El nuevo elemento es equivalente a: E, sigma_h\n",
      "\n"
     ]
    }
   ],
   "source": [
    "match(dot3(S6_5, S6, At), ops)"
   ]
  },
  {
   "cell_type": "code",
   "execution_count": 512,
   "metadata": {},
   "outputs": [
    {
     "name": "stdout",
     "output_type": "stream",
     "text": [
      "El nuevo elemento es equivalente a: C6, S6\n",
      "\n"
     ]
    }
   ],
   "source": [
    "match(dot3(S6_5, S6_2, At), ops)"
   ]
  },
  {
   "cell_type": "code",
   "execution_count": 513,
   "metadata": {},
   "outputs": [
    {
     "name": "stdout",
     "output_type": "stream",
     "text": [
      "El nuevo elemento es equivalente a: C6_3, S6_3, i\n",
      "\n"
     ]
    }
   ],
   "source": [
    "match(dot3(S6_5, S6_4, At), ops)"
   ]
  },
  {
   "cell_type": "code",
   "execution_count": 514,
   "metadata": {},
   "outputs": [
    {
     "name": "stdout",
     "output_type": "stream",
     "text": [
      "El nuevo elemento es equivalente a: C6_4, S6_4\n",
      "\n"
     ]
    }
   ],
   "source": [
    "match(dot3(S6_5, S6_5, At), ops)"
   ]
  },
  {
   "cell_type": "code",
   "execution_count": 515,
   "metadata": {},
   "outputs": [
    {
     "name": "stdout",
     "output_type": "stream",
     "text": [
      "El nuevo elemento es equivalente a: C6_2, S6_2\n",
      "\n"
     ]
    }
   ],
   "source": [
    "match(dot3(S6_5, i, At), ops)"
   ]
  },
  {
   "cell_type": "markdown",
   "metadata": {},
   "source": [
    "#### Fila 24: $\\left( i \\right)$"
   ]
  },
  {
   "cell_type": "code",
   "execution_count": 13,
   "metadata": {},
   "outputs": [
    {
     "name": "stdout",
     "output_type": "stream",
     "text": [
      "El nuevo elemento es equivalente a: C6_3, S6_3, i\n",
      "\n"
     ]
    }
   ],
   "source": [
    "match(dot3(i, E, At), ops)"
   ]
  },
  {
   "cell_type": "code",
   "execution_count": 12,
   "metadata": {},
   "outputs": [
    {
     "name": "stdout",
     "output_type": "stream",
     "text": [
      "El nuevo elemento es equivalente a: C6_4, S6_4\n",
      "\n"
     ]
    }
   ],
   "source": [
    "match(dot3(i, C6, At), ops)"
   ]
  },
  {
   "cell_type": "code",
   "execution_count": 18,
   "metadata": {},
   "outputs": [
    {
     "name": "stdout",
     "output_type": "stream",
     "text": [
      "El nuevo elemento es equivalente a: C6_5, S6_5\n",
      "\n"
     ]
    }
   ],
   "source": [
    "match(dot3(i, C6_2, At), ops)"
   ]
  },
  {
   "cell_type": "code",
   "execution_count": 19,
   "metadata": {},
   "outputs": [
    {
     "name": "stdout",
     "output_type": "stream",
     "text": [
      "El nuevo elemento es equivalente a: E, sigma_h\n",
      "\n"
     ]
    }
   ],
   "source": [
    "match(dot3(i, C6_3, At), ops)"
   ]
  },
  {
   "cell_type": "code",
   "execution_count": 16,
   "metadata": {},
   "outputs": [
    {
     "name": "stdout",
     "output_type": "stream",
     "text": [
      "El nuevo elemento es equivalente a: C6, S6\n",
      "\n"
     ]
    }
   ],
   "source": [
    "match(dot3(i, C6_4, At), ops)"
   ]
  },
  {
   "cell_type": "code",
   "execution_count": 17,
   "metadata": {},
   "outputs": [
    {
     "name": "stdout",
     "output_type": "stream",
     "text": [
      "El nuevo elemento es equivalente a: C6_2, S6_2\n",
      "\n"
     ]
    }
   ],
   "source": [
    "match(dot3(i, C6_5, At), ops)"
   ]
  },
  {
   "cell_type": "code",
   "execution_count": 20,
   "metadata": {},
   "outputs": [
    {
     "name": "stdout",
     "output_type": "stream",
     "text": [
      "El nuevo elemento es equivalente a: C2_(23), sigma_d_23\n",
      "\n"
     ]
    }
   ],
   "source": [
    "match(dot3(i, C2_1, At), ops)"
   ]
  },
  {
   "cell_type": "code",
   "execution_count": 21,
   "metadata": {},
   "outputs": [
    {
     "name": "stdout",
     "output_type": "stream",
     "text": [
      "El nuevo elemento es equivalente a: C2_(34), sigma_d_34\n",
      "\n"
     ]
    }
   ],
   "source": [
    "match(dot3(i, C2_2, At), ops)"
   ]
  },
  {
   "cell_type": "code",
   "execution_count": 22,
   "metadata": {},
   "outputs": [
    {
     "name": "stdout",
     "output_type": "stream",
     "text": [
      "El nuevo elemento es equivalente a: C2_(12), sigma_d_12\n",
      "\n"
     ]
    }
   ],
   "source": [
    "match(dot3(i, C2_3, At), ops)"
   ]
  },
  {
   "cell_type": "code",
   "execution_count": 23,
   "metadata": {},
   "outputs": [
    {
     "name": "stdout",
     "output_type": "stream",
     "text": [
      "El nuevo elemento es equivalente a: C2_(3), sigma_v_3\n",
      "\n"
     ]
    }
   ],
   "source": [
    "match(dot3(i, C2_12, At), ops)"
   ]
  },
  {
   "cell_type": "code",
   "execution_count": 24,
   "metadata": {},
   "outputs": [
    {
     "name": "stdout",
     "output_type": "stream",
     "text": [
      "El nuevo elemento es equivalente a: C2_(1), sigma_v_1\n",
      "\n"
     ]
    }
   ],
   "source": [
    "match(dot3(i, C2_23, At), ops)"
   ]
  },
  {
   "cell_type": "code",
   "execution_count": 25,
   "metadata": {},
   "outputs": [
    {
     "name": "stdout",
     "output_type": "stream",
     "text": [
      "El nuevo elemento es equivalente a: C2_(2), sigma_v_2\n",
      "\n"
     ]
    }
   ],
   "source": [
    "match(dot3(i, C2_34, At), ops)"
   ]
  },
  {
   "cell_type": "code",
   "execution_count": 26,
   "metadata": {},
   "outputs": [
    {
     "name": "stdout",
     "output_type": "stream",
     "text": [
      "El nuevo elemento es equivalente a: C6_3, S6_3, i\n",
      "\n"
     ]
    }
   ],
   "source": [
    "match(dot3(i, sig_h, At), ops)"
   ]
  },
  {
   "cell_type": "code",
   "execution_count": 27,
   "metadata": {},
   "outputs": [
    {
     "name": "stdout",
     "output_type": "stream",
     "text": [
      "El nuevo elemento es equivalente a: C2_(23), sigma_d_23\n",
      "\n"
     ]
    }
   ],
   "source": [
    "match(dot3(i, sig_v_1, At), ops)"
   ]
  },
  {
   "cell_type": "code",
   "execution_count": 28,
   "metadata": {},
   "outputs": [
    {
     "name": "stdout",
     "output_type": "stream",
     "text": [
      "El nuevo elemento es equivalente a: C2_(34), sigma_d_34\n",
      "\n"
     ]
    }
   ],
   "source": [
    "match(dot3(i, sig_v_2, At), ops)"
   ]
  },
  {
   "cell_type": "code",
   "execution_count": 29,
   "metadata": {},
   "outputs": [
    {
     "name": "stdout",
     "output_type": "stream",
     "text": [
      "El nuevo elemento es equivalente a: C2_(12), sigma_d_12\n",
      "\n"
     ]
    }
   ],
   "source": [
    "match(dot3(i, sig_v_3, At), ops)"
   ]
  },
  {
   "cell_type": "code",
   "execution_count": 30,
   "metadata": {},
   "outputs": [
    {
     "name": "stdout",
     "output_type": "stream",
     "text": [
      "El nuevo elemento es equivalente a: C2_(3), sigma_v_3\n",
      "\n"
     ]
    }
   ],
   "source": [
    "match(dot3(i, sig_d_12, At), ops)"
   ]
  },
  {
   "cell_type": "code",
   "execution_count": 31,
   "metadata": {},
   "outputs": [
    {
     "name": "stdout",
     "output_type": "stream",
     "text": [
      "El nuevo elemento es equivalente a: C2_(1), sigma_v_1\n",
      "\n"
     ]
    }
   ],
   "source": [
    "match(dot3(i, sig_d_23, At), ops)"
   ]
  },
  {
   "cell_type": "code",
   "execution_count": 32,
   "metadata": {},
   "outputs": [
    {
     "name": "stdout",
     "output_type": "stream",
     "text": [
      "El nuevo elemento es equivalente a: C2_(2), sigma_v_2\n",
      "\n"
     ]
    }
   ],
   "source": [
    "match(dot3(i, sig_d_34, At), ops)"
   ]
  },
  {
   "cell_type": "code",
   "execution_count": 33,
   "metadata": {},
   "outputs": [
    {
     "name": "stdout",
     "output_type": "stream",
     "text": [
      "El nuevo elemento es equivalente a: C6_4, S6_4\n",
      "\n"
     ]
    }
   ],
   "source": [
    "match(dot3(i, S6, At), ops)"
   ]
  },
  {
   "cell_type": "code",
   "execution_count": 34,
   "metadata": {},
   "outputs": [
    {
     "name": "stdout",
     "output_type": "stream",
     "text": [
      "El nuevo elemento es equivalente a: C6_5, S6_5\n",
      "\n"
     ]
    }
   ],
   "source": [
    "match(dot3(i, S6_2, At), ops)"
   ]
  },
  {
   "cell_type": "code",
   "execution_count": 35,
   "metadata": {},
   "outputs": [
    {
     "name": "stdout",
     "output_type": "stream",
     "text": [
      "El nuevo elemento es equivalente a: C6, S6\n",
      "\n"
     ]
    }
   ],
   "source": [
    "match(dot3(i, S6_4, At), ops)"
   ]
  },
  {
   "cell_type": "code",
   "execution_count": 36,
   "metadata": {},
   "outputs": [
    {
     "name": "stdout",
     "output_type": "stream",
     "text": [
      "El nuevo elemento es equivalente a: C6_2, S6_2\n",
      "\n"
     ]
    }
   ],
   "source": [
    "match(dot3(i, S6_5, At), ops)"
   ]
  },
  {
   "cell_type": "code",
   "execution_count": 37,
   "metadata": {},
   "outputs": [
    {
     "name": "stdout",
     "output_type": "stream",
     "text": [
      "El nuevo elemento es equivalente a: E, sigma_h\n",
      "\n"
     ]
    }
   ],
   "source": [
    "match(dot3(i, i, At), ops)"
   ]
  },
  {
   "cell_type": "code",
   "execution_count": 1,
   "metadata": {},
   "outputs": [],
   "source": [
    "ops_lst = [\"E\", \n",
    "           \"C6\", \"C6_2\", \"C6_3\", \"C6_4\", \"C6_5\",\n",
    "           \"C2_1\", \"C2_2\", \"C2_3\",\n",
    "           \"C2_12\", \"C2_23\", \"C2_34\",\n",
    "           \"sig_h\",\n",
    "           \"sig_v_1\", \"sig_v_2\", \"sig_v_3\",\n",
    "           \"sig_d_12\", \"sig_d_23\", \"sig_d_34\",\n",
    "           \"S6\", \"S6_2\", \"S6_3\", \"S6_4\", \"S6_5\",\n",
    "           \"i\"\n",
    "          ]\n",
    "\n",
    "def get_row(i):\n",
    "    first = ops_lst[i]\n",
    "    for second in ops_lst:\n",
    "        print(\"match(dot3({}, {}, At), ops)\".format(first, second))"
   ]
  }
 ],
 "metadata": {
  "kernelspec": {
   "display_name": "Python 3",
   "language": "python",
   "name": "python3"
  },
  "language_info": {
   "codemirror_mode": {
    "name": "ipython",
    "version": 3
   },
   "file_extension": ".py",
   "mimetype": "text/x-python",
   "name": "python",
   "nbconvert_exporter": "python",
   "pygments_lexer": "ipython3",
   "version": "3.6.8"
  }
 },
 "nbformat": 4,
 "nbformat_minor": 2
}
