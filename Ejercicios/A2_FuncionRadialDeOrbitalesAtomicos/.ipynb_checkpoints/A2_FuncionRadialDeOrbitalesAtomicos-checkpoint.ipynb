{
 "cells": [
  {
   "cell_type": "code",
   "execution_count": 1,
   "metadata": {},
   "outputs": [],
   "source": [
    "from sympy import *"
   ]
  },
  {
   "cell_type": "markdown",
   "metadata": {},
   "source": [
    "### Obtenga la función radial de los orbitales atómicos:"
   ]
  },
  {
   "cell_type": "code",
   "execution_count": 112,
   "metadata": {},
   "outputs": [],
   "source": [
    "# Determinacion de la expresion simbolica de la funcion radial de orbitales atomicos\n",
    "\n",
    "def L_q(z, q):\n",
    "    return exp(z) * diff((z**q)*exp(-z), z, q) \n",
    "\n",
    "def L_q_S(z, q, S):\n",
    "    return diff(L_q(z, q), z, S)\n",
    "\n",
    "def N_n_l(n, l, Z, a):\n",
    "    return -sqrt( (4*(Z**3)/((n**4)*(a**3))) * (factorial(n-l-1)/(factorial(n+l))**3) )\n",
    "\n",
    "def R(n, l, ml, Z):\n",
    "    z = symbols('z')\n",
    "    r = symbols('r')\n",
    "    a = symbols('a')\n",
    "    q = n + l\n",
    "    S = 2*l + 1\n",
    "    R_ = N_n_l(n, l, Z, a) * (z**l) * exp(-z/2) * L_q_S(z, q, S)\n",
    "    return simplify(R_.subs({z: (2*Z*r)/(n*a)}))"
   ]
  },
  {
   "cell_type": "markdown",
   "metadata": {},
   "source": [
    "### 1s $\\left(n=1, l=0, m_l=0\\right)$ :"
   ]
  },
  {
   "cell_type": "markdown",
   "metadata": {},
   "source": [
    "![1s](media/1s.jpeg)"
   ]
  },
  {
   "cell_type": "markdown",
   "metadata": {},
   "source": [
    "Comprobando con Sympy:"
   ]
  },
  {
   "cell_type": "code",
   "execution_count": 98,
   "metadata": {},
   "outputs": [
    {
     "data": {
      "text/latex": [
       "$\\displaystyle 2 \\sqrt{\\frac{1}{a^{3}}} e^{- \\frac{r}{a}}$"
      ],
      "text/plain": [
       "2*sqrt(a**(-3))*exp(-r/a)"
      ]
     },
     "execution_count": 98,
     "metadata": {},
     "output_type": "execute_result"
    }
   ],
   "source": [
    "R(n=1, l=0, ml=0, Z=1)"
   ]
  },
  {
   "cell_type": "markdown",
   "metadata": {},
   "source": [
    "### 2s $\\left(n=2, l=0, m_l=0\\right)$ :"
   ]
  },
  {
   "cell_type": "markdown",
   "metadata": {},
   "source": [
    "![1s](media/2s.jpeg)"
   ]
  },
  {
   "cell_type": "markdown",
   "metadata": {},
   "source": [
    "Comprobando con Sympy:"
   ]
  },
  {
   "cell_type": "code",
   "execution_count": 99,
   "metadata": {},
   "outputs": [
    {
     "data": {
      "text/latex": [
       "$\\displaystyle \\frac{\\sqrt{2} \\left(2 a - r\\right) \\sqrt{\\frac{1}{a^{3}}} e^{- \\frac{r}{2 a}}}{4 a}$"
      ],
      "text/plain": [
       "sqrt(2)*(2*a - r)*sqrt(a**(-3))*exp(-r/(2*a))/(4*a)"
      ]
     },
     "execution_count": 99,
     "metadata": {},
     "output_type": "execute_result"
    }
   ],
   "source": [
    "R(n=2, l=0, ml=0, Z=1)"
   ]
  },
  {
   "cell_type": "markdown",
   "metadata": {},
   "source": [
    "### 2p $\\left(n=2, l=1, m_l=0\\right)$:"
   ]
  },
  {
   "cell_type": "markdown",
   "metadata": {},
   "source": [
    "![1s](media/2s.jpeg)"
   ]
  },
  {
   "cell_type": "markdown",
   "metadata": {},
   "source": [
    "Comprobando con Sympy:"
   ]
  },
  {
   "cell_type": "code",
   "execution_count": 111,
   "metadata": {},
   "outputs": [
    {
     "data": {
      "text/latex": [
       "$\\displaystyle \\frac{\\sqrt{6} r \\sqrt{\\frac{1}{a^{3}}} e^{- \\frac{r}{2 a}}}{12 a}$"
      ],
      "text/plain": [
       "sqrt(6)*r*sqrt(a**(-3))*exp(-r/(2*a))/(12*a)"
      ]
     },
     "execution_count": 111,
     "metadata": {},
     "output_type": "execute_result"
    }
   ],
   "source": [
    "R(n=2, l=1, ml=0, Z=1)"
   ]
  }
 ],
 "metadata": {
  "kernelspec": {
   "display_name": "Python 3",
   "language": "python",
   "name": "python3"
  },
  "language_info": {
   "codemirror_mode": {
    "name": "ipython",
    "version": 3
   },
   "file_extension": ".py",
   "mimetype": "text/x-python",
   "name": "python",
   "nbconvert_exporter": "python",
   "pygments_lexer": "ipython3",
   "version": "3.6.8"
  }
 },
 "nbformat": 4,
 "nbformat_minor": 2
}
