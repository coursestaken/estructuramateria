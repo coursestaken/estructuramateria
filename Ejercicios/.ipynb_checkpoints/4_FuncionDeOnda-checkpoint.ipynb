{
 "cells": [
  {
   "cell_type": "markdown",
   "metadata": {},
   "source": [
    "# Demuestre que $\\phi$ es una función de onda"
   ]
  },
  {
   "cell_type": "markdown",
   "metadata": {},
   "source": [
    "Una función $\\phi$ describe una onda si:\n",
    "\n",
    "$$ \\displaystyle\n",
    "\\frac{\\partial^2}{\\partial x^2} \\phi = \\frac{1}{v^2} \\frac{\\partial^2}{\\partial t^2} \\phi\n",
    "\\tag{1}\n",
    "$$\n",
    "\n",
    "dada\n",
    "\n",
    "$\\displaystyle \\phi_{est} \\left(x, t\\right) = A \\cdot sin\\left(\\frac{2\\pi}{\\lambda} \\left( x-ct \\right)\\right) + A \\cdot sin\\left(\\frac{2\\pi}{\\lambda} \\left( x+ct \\right)\\right) =  2A \\cdot sin\\left(\\frac{2\\pi}{\\lambda} x\\right) cos\\left(2\\pi\\nu t\\right)\n",
    "\\tag{2}$\n",
    "\n",
    "demuestre que $\\phi_{est}$ es un función de onda."
   ]
  },
  {
   "cell_type": "markdown",
   "metadata": {},
   "source": [
    "### Demostración"
   ]
  },
  {
   "cell_type": "markdown",
   "metadata": {},
   "source": [
    "Las segundas derivadas parciales con respecto a $x$ y $t$ de la función $\\phi_{est}$ son:\n",
    "\n",
    "----\n",
    "\n",
    "$\n",
    "\\displaystyle \\frac{\\partial^2}{\\partial x^2} \\phi_{est} = \\frac{\\partial}{\\partial x} \\left( \\frac{4 \\pi A \\cos{\\left(2 \\pi t ν \\right)} \\cos{\\left(\\frac{2 \\pi x}{λ} \\right)}}{λ} \\right) = - \\frac{8 \\pi^{2} A \\sin{\\left(\\frac{2 \\pi x}{λ} \\right)} \\cos{\\left(2 \\pi t ν \\right)}}{λ^{2}}\n",
    "\\tag{3}\n",
    "$\n",
    "\n",
    "----\n",
    "\n",
    "$\\displaystyle \\frac{\\partial^2}{\\partial t^2} \\phi_{est} =  \\frac{\\partial}{\\partial t} \\left( - 4 \\pi A ν \\sin{\\left(2 \\pi t ν \\right)} \\sin{\\left(\\frac{2 \\pi x}{λ} \\right)} \\right) = - 8 \\pi^{2} A ν^{2} \\sin{\\left(\\frac{2 \\pi x}{λ} \\right)} \\cos{\\left(2 \\pi t ν \\right)}\n",
    "\\tag{4}$\n",
    "\n",
    "----\n",
    "\n",
    "$c = v = \\lambda \\nu \\tag{5}$\n",
    "\n",
    "----\n",
    "\n",
    "Sustituyendo (3), (4) y (5) en (1):\n",
    "\n",
    "$$\\displaystyle\n",
    "\\begin{matrix}\n",
    "\\displaystyle \\frac{\\partial^2}{\\partial x^2} \\phi_{est} & \\displaystyle = & \\displaystyle \\frac{1}{v^2} \\frac{\\partial^2}{\\partial t^2} \\phi_{est} \\\\\n",
    "\\displaystyle - \\frac{8 \\pi^{2} A \\sin{\\left(\\frac{2 \\pi x}{λ} \\right)} \\cos{\\left(2 \\pi t ν \\right)}}{λ^{2}}& \\displaystyle \\displaystyle = & \\displaystyle - \\frac{1}{\\lambda^2 \\nu^2} \\cdot 8 \\pi^{2} A ν^{2} \\sin{\\left(\\frac{2 \\pi x}{λ} \\right)} \\cos{\\left(2 \\pi t ν \\right)} \\\\\n",
    "\\displaystyle - \\frac{8 \\pi^{2} A \\sin{\\left(\\frac{2 \\pi x}{λ} \\right)} \\cos{\\left(2 \\pi t ν \\right)}}{λ^{2}}&  \\displaystyle = & \\displaystyle - \\frac{8 \\pi^{2} A \\sin{\\left(\\frac{2 \\pi x}{λ} \\right)} \\cos{\\left(2 \\pi t ν \\right)}}{\\lambda^2}\n",
    "\\end{matrix}$$\n",
    "\n",
    "$\\displaystyle \\therefore \\phi_{est} \\left(x, t\\right)$ **es una función de onda**. "
   ]
  },
  {
   "cell_type": "markdown",
   "metadata": {},
   "source": [
    "### Demostración utilizando ```SymPy```"
   ]
  },
  {
   "cell_type": "code",
   "execution_count": 2,
   "metadata": {
    "hidePrompt": true
   },
   "outputs": [],
   "source": [
    "from sympy import *"
   ]
  },
  {
   "cell_type": "code",
   "execution_count": 5,
   "metadata": {
    "hidePrompt": true
   },
   "outputs": [],
   "source": [
    "A = symbols('A')\n",
    "x = symbols('x')\n",
    "t = symbols('t')\n",
    "lambd = symbols('λ')\n",
    "nu = symbols('ν')\n",
    "\n",
    "def fi_est(x, t):\n",
    "    return 2*A*sin(2*pi*x/lambd)*cos(2*pi*nu*t)"
   ]
  },
  {
   "cell_type": "markdown",
   "metadata": {},
   "source": [
    "### &bullet; $\\displaystyle \\phi_{est}$"
   ]
  },
  {
   "cell_type": "code",
   "execution_count": 6,
   "metadata": {
    "hidePrompt": true
   },
   "outputs": [
    {
     "data": {
      "text/latex": [
       "$\\displaystyle 2 A \\sin{\\left(\\frac{2 \\pi x}{λ} \\right)} \\cos{\\left(2 \\pi t ν \\right)}$"
      ],
      "text/plain": [
       "2*A*sin(2*pi*x/λ)*cos(2*pi*t*ν)"
      ]
     },
     "execution_count": 6,
     "metadata": {},
     "output_type": "execute_result"
    }
   ],
   "source": [
    "fi_est(x, t)"
   ]
  },
  {
   "cell_type": "markdown",
   "metadata": {},
   "source": [
    "### &bullet; $\\displaystyle \\frac{\\partial^2}{\\partial x^2} \\phi_{est}$"
   ]
  },
  {
   "cell_type": "code",
   "execution_count": 7,
   "metadata": {
    "hidePrompt": true
   },
   "outputs": [
    {
     "data": {
      "text/latex": [
       "$\\displaystyle - \\frac{8 \\pi^{2} A \\sin{\\left(\\frac{2 \\pi x}{λ} \\right)} \\cos{\\left(2 \\pi t ν \\right)}}{λ^{2}}$"
      ],
      "text/plain": [
       "-8*pi**2*A*sin(2*pi*x/λ)*cos(2*pi*t*ν)/λ**2"
      ]
     },
     "execution_count": 7,
     "metadata": {},
     "output_type": "execute_result"
    }
   ],
   "source": [
    "dphi2_dx2 = diff(diff(fi_est(x, t), x), x)\n",
    "dphi2_dx2"
   ]
  },
  {
   "cell_type": "markdown",
   "metadata": {},
   "source": [
    "### &bullet; $\\displaystyle \\frac{\\partial^2}{\\partial t^2} \\phi_{est}$"
   ]
  },
  {
   "cell_type": "code",
   "execution_count": 8,
   "metadata": {
    "hidePrompt": true
   },
   "outputs": [
    {
     "data": {
      "text/latex": [
       "$\\displaystyle - 8 \\pi^{2} A ν^{2} \\sin{\\left(\\frac{2 \\pi x}{λ} \\right)} \\cos{\\left(2 \\pi t ν \\right)}$"
      ],
      "text/plain": [
       "-8*pi**2*A*ν**2*sin(2*pi*x/λ)*cos(2*pi*t*ν)"
      ]
     },
     "execution_count": 8,
     "metadata": {},
     "output_type": "execute_result"
    }
   ],
   "source": [
    "dphi2_dt2 = diff(diff(fi_est(x, t), t), t)\n",
    "dphi2_dt2"
   ]
  },
  {
   "cell_type": "markdown",
   "metadata": {},
   "source": [
    "### &bullet; $\\displaystyle \\frac{1}{v^2} \\frac{\\partial^2}{\\partial t^2} \\phi_{est}$"
   ]
  },
  {
   "cell_type": "code",
   "execution_count": 9,
   "metadata": {
    "hidePrompt": true
   },
   "outputs": [
    {
     "data": {
      "text/latex": [
       "$\\displaystyle - \\frac{8 \\pi^{2} A \\sin{\\left(\\frac{2 \\pi x}{λ} \\right)} \\cos{\\left(2 \\pi t ν \\right)}}{λ^{2}}$"
      ],
      "text/plain": [
       "-8*pi**2*A*sin(2*pi*x/λ)*cos(2*pi*t*ν)/λ**2"
      ]
     },
     "execution_count": 9,
     "metadata": {},
     "output_type": "execute_result"
    }
   ],
   "source": [
    "(1/lambd**2)*(1/nu**2)*dphi2_dt2"
   ]
  },
  {
   "cell_type": "markdown",
   "metadata": {},
   "source": [
    "### &bullet; $\\displaystyle \\frac{\\partial^2}{\\partial x^2} \\phi_{est} = \\frac{1}{v^2} \\frac{\\partial^2}{\\partial t^2} \\phi_{est}$"
   ]
  },
  {
   "cell_type": "code",
   "execution_count": 12,
   "metadata": {
    "hidePrompt": true
   },
   "outputs": [
    {
     "data": {
      "text/plain": [
       "True"
      ]
     },
     "execution_count": 12,
     "metadata": {},
     "output_type": "execute_result"
    }
   ],
   "source": [
    "dphi2_dx2 == (1/lambd**2)*(1/nu**2)*dphi2_dt2"
   ]
  }
 ],
 "metadata": {
  "kernelspec": {
   "display_name": "Python 3",
   "language": "python",
   "name": "python3"
  },
  "language_info": {
   "codemirror_mode": {
    "name": "ipython",
    "version": 3
   },
   "file_extension": ".py",
   "mimetype": "text/x-python",
   "name": "python",
   "nbconvert_exporter": "python",
   "pygments_lexer": "ipython3",
   "version": "3.6.8"
  }
 },
 "nbformat": 4,
 "nbformat_minor": 2
}
