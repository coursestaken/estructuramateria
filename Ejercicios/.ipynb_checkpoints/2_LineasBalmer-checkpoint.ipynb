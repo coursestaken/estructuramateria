{
 "cells": [
  {
   "cell_type": "markdown",
   "metadata": {
    "hideCode": false,
    "hidePrompt": false
   },
   "source": [
    "# Líneas de Balmer"
   ]
  },
  {
   "cell_type": "markdown",
   "metadata": {
    "hideCode": false,
    "hidePrompt": false
   },
   "source": [
    "[Version interactiva en Google Colab](https://colab.research.google.com/drive/1wN-oN9wXGkJAACb5CbgXc51ALo-jMkDS)"
   ]
  },
  {
   "cell_type": "markdown",
   "metadata": {
    "hideCode": false,
    "hidePrompt": false
   },
   "source": [
    "En física atómica, la serie de Balmer1​ es el conjunto de líneas que resultan de la emisión del átomo de hidrógeno cuando un electrón transita desde un nivel n ≥ 3 a n = 2 (donde n representa el número cuántico principal referente al nivel de energía del electrón). Las transiciones son denominadas secuencialmente por letras griegas: desde n = 3 a n = 2 es llamada H-alpha, 4 a 2 es H-beta, 5 a 2 es H-gamma, etc.\n",
    "\n",
    "La longitud de onda, para cada línea de Balmer, se puede calcular mediante:\n",
    "\n",
    "$$\\frac{1}{\\lambda} = R_H \\left( \\frac{1}{2^2} - \\frac{1}{n_{2}^2} \\right)$$\n",
    "\n",
    "donde $R_{H}$ es la constante de Rydberg para el hidrógeno (aproximadamente $109,677 \\mathrm{cm}^{-1}$, o $1.097 x 10^7 \\mathrm{m}^{-1}$), y $n_2$ un entero mayor que 2.\n",
    "\n",
    "### Referencia:\n",
    "\n",
    "+ [Líneas de Balmer](https://es.wikipedia.org/wiki/L%C3%ADneas_de_Balmer)"
   ]
  },
  {
   "cell_type": "code",
   "execution_count": 2,
   "metadata": {
    "hideCode": false,
    "hidePrompt": false
   },
   "outputs": [
    {
     "name": "stdout",
     "output_type": "stream",
     "text": [
      "Populating the interactive namespace from numpy and matplotlib\n"
     ]
    }
   ],
   "source": [
    "import numpy as np\n",
    "import matplotlib.pyplot as plt\n",
    "%pylab inline"
   ]
  },
  {
   "cell_type": "markdown",
   "metadata": {
    "hideCode": false,
    "hidePrompt": false
   },
   "source": [
    "## Ecuación de Balmer"
   ]
  },
  {
   "cell_type": "code",
   "execution_count": 3,
   "metadata": {
    "hideCode": false,
    "hidePrompt": false
   },
   "outputs": [],
   "source": [
    "# Constante de Rydberg para el hidrógeno 109,677.581 cm^-1\n",
    "Rh = 10967758.1 # m^-1\n",
    "\n",
    "def LB(n2):\n",
    "    return Rh * (0.25 - 1.0/(n2**2))"
   ]
  },
  {
   "cell_type": "markdown",
   "metadata": {
    "hideCode": false,
    "hidePrompt": false
   },
   "source": [
    "## Visualización de las líneas e Balmer"
   ]
  },
  {
   "cell_type": "code",
   "execution_count": 4,
   "metadata": {
    "hideCode": false,
    "hidePrompt": false
   },
   "outputs": [],
   "source": [
    "pylab.rcParams['figure.figsize'] = (10.0, 3.0)"
   ]
  },
  {
   "cell_type": "code",
   "execution_count": 5,
   "metadata": {
    "hideCode": false,
    "hidePrompt": false
   },
   "outputs": [],
   "source": [
    "n2 = np.arange(3, 18)\n",
    "lines_x = LB(n2)"
   ]
  },
  {
   "cell_type": "markdown",
   "metadata": {
    "hideCode": false,
    "hidePrompt": false
   },
   "source": [
    "### $\\cdot 1/\\lambda$ considerando  $\\left[\\lambda\\right] = m$"
   ]
  },
  {
   "cell_type": "code",
   "execution_count": 12,
   "metadata": {
    "hideCode": false,
    "hidePrompt": false,
    "scrolled": true
   },
   "outputs": [
    {
     "data": {
      "image/png": "[encoded data removed]",
      "text/plain": [
       "<Figure size 720x216 with 1 Axes>"
      ]
     },
     "metadata": {
      "needs_background": "light"
     },
     "output_type": "display_data"
    }
   ],
   "source": [
    "for x in lines_x:\n",
    "    plt.axvline(x=x)\n",
    "\n",
    "base_fsize = 14\n",
    "plt.rc('axes', labelsize=base_fsize+4)\n",
    "plt.xlabel('$1/\\lambda$')\n",
    "plt.yticks([])\n",
    "#plt.xlim(right=xlim_right)\n",
    "plt.show()"
   ]
  },
  {
   "cell_type": "markdown",
   "metadata": {
    "hideCode": false,
    "hidePrompt": false
   },
   "source": [
    "### $\\cdot \\lambda$  considerando  $\\left[\\lambda\\right] = nm$"
   ]
  },
  {
   "cell_type": "code",
   "execution_count": 11,
   "metadata": {
    "hideCode": false,
    "hidePrompt": false
   },
   "outputs": [
    {
     "data": {
      "image/png": "[encoded data removed]",
      "text/plain": [
       "<Figure size 720x216 with 1 Axes>"
      ]
     },
     "metadata": {
      "needs_background": "light"
     },
     "output_type": "display_data"
    }
   ],
   "source": [
    "for x in lines_x:\n",
    "    # multiplicando el valor de lambda por 1e+9 para expresarlo en nanometros\n",
    "    # (1 m == 1e+9 nm)\n",
    "    plt.axvline(x=(1/x)*1e+9)\n",
    "\n",
    "base_fsize = 14\n",
    "plt.rc('axes', labelsize=base_fsize+4)\n",
    "plt.xlabel('$\\lambda [nm]$')\n",
    "plt.yticks([])\n",
    "#plt.xlim(left=3.6e-07, right=7e-07)\n",
    "plt.show()"
   ]
  }
 ],
 "metadata": {
  "hide_code_all_hidden": false,
  "kernelspec": {
   "display_name": "Python 3",
   "language": "python",
   "name": "python3"
  },
  "language_info": {
   "codemirror_mode": {
    "name": "ipython",
    "version": 3
   },
   "file_extension": ".py",
   "mimetype": "text/x-python",
   "name": "python",
   "nbconvert_exporter": "python",
   "pygments_lexer": "ipython3",
   "version": "3.6.8"
  }
 },
 "nbformat": 4,
 "nbformat_minor": 2
}
