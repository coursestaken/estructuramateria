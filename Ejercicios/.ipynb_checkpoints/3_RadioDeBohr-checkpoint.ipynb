{
 "cells": [
  {
   "cell_type": "markdown",
   "metadata": {
    "hideCode": true,
    "hidePrompt": true
   },
   "source": [
    "# Determinación del valore del radio de Bohr"
   ]
  },
  {
   "cell_type": "markdown",
   "metadata": {
    "hideCode": true,
    "hidePrompt": true
   },
   "source": [
    "La expresión para calcular el radio de Bohr ($a_0$) es:\n",
    "\n",
    "$$\\displaystyle a_0 = 4\\pi\\epsilon_0 \\frac{n^2 \\hbar^2}{m_e Z e^2}$$\n",
    "\n",
    "donde:\n",
    "\n",
    "| Símbolo | Variable | Unidades SI |\n",
    "|---|---|---|\n",
    "| $a_0$ | Radio de Bohr | $m$ |\n",
    "| $\\epsilon_0$ | Permitividad en el vacio | ${C^2}/{N \\cdot m^2}$ o ${C^2}/{kg \\cdot m^3 s^{-2}}$ |\n",
    "| $n$ | Numero cuántico del orbital | Adimensional |\n",
    "| $\\hbar=\\frac{h}{2\\pi}$ | Constante de Planck | $kg \\cdot m^2 s^{-1}$ |\n",
    "| $m_e$ | Masa del electrón | $Kg$ |\n",
    "| $Z$ | Número de protones | Adimensional |\n",
    "| $e$ | Carga eléctrica del electrón | $C$ |\n",
    "\n",
    "En el caso particular el átomo de Hidrógeno tenemos $Z=1, n=1$, por lo tanto:\n",
    "\n",
    "$$\\displaystyle a_0 = 4\\pi\\epsilon_0 \\frac{\\hbar^2}{m_e e^2}$$"
   ]
  },
  {
   "cell_type": "markdown",
   "metadata": {
    "hideCode": true,
    "hidePrompt": true
   },
   "source": [
    "### Analisis dimensional de $a_0$"
   ]
  },
  {
   "cell_type": "markdown",
   "metadata": {
    "hideCode": true,
    "hidePrompt": true
   },
   "source": [
    "Las unidades el la permitividad en el vacio $\\left(\\epsilon_0\\right)$ son:\n",
    "\n",
    "$$\\displaystyle \\left[\\epsilon_0\\right] = \\frac{C^2}{N\\cdot m^2}$$\n",
    "\n",
    "expresando los Newtons $\\left(N\\right)$ como $\\frac{kg\\cdot m}{s^2}$ tenemos:\n",
    "\n",
    "$$\\displaystyle \\left[\\epsilon_0\\right] = \\frac{C^2}{Kg\\cdot m^3 \\cdot s^{-2}}$$\n",
    "\n",
    "así, las unidades del radio de Bohr son:\n",
    "\n",
    "$$\\begin{matrix}\n",
    "\\displaystyle \\left[a_0\\right] & \\displaystyle = & \\displaystyle \\frac{\\left[\\epsilon_0\\right]\\left[\\hbar\\right]^2}{\\left[m_e\\right] \\left[e\\right]^2} \\\\ \n",
    " & \\displaystyle = & \\displaystyle \\frac{\\left[\\epsilon_0\\right]\\left[\\hbar\\right]^2}{kg \\cdot C^2} \\\\\n",
    " & \\displaystyle = & \\displaystyle \\frac{\\left[\\epsilon_0\\right]\\left(kg\\cdot m^2 s^{-1}\\right)^2}{kg \\cdot C^2} \\\\\n",
    " & \\displaystyle = & \\displaystyle \\left[\\epsilon_0\\right] \\cdot \\frac{kg\\cdot m^4 s^{-2}}{C^2} \\\\\n",
    " & \\displaystyle = & \\displaystyle \\frac{C^2}{kg \\cdot m^3 s^{-2}} \\cdot \\frac{kg\\cdot m^4 s^{-2}}{C^2} \\\\\n",
    " & \\displaystyle = & \\displaystyle \\frac{m^4}{m^3} \\\\\n",
    "\\displaystyle \\left[a_0\\right] & \\displaystyle = & \\displaystyle m\n",
    "\\end{matrix}$$"
   ]
  },
  {
   "cell_type": "markdown",
   "metadata": {
    "hideCode": true,
    "hidePrompt": true
   },
   "source": [
    "### Valor de $a_0$ en Å "
   ]
  },
  {
   "cell_type": "code",
   "execution_count": 19,
   "metadata": {
    "hidePrompt": false
   },
   "outputs": [],
   "source": [
    "from math import pi"
   ]
  },
  {
   "cell_type": "code",
   "execution_count": 42,
   "metadata": {
    "hidePrompt": false
   },
   "outputs": [],
   "source": [
    "# Constantes\n",
    "epsilon_0 = 8.8541878176e-12 # C^2 / (N·m^2) = C^2 / (kg·m^3 s^-2) - permitividad del vacio (utilizando Newtons)\n",
    "h_bar = 1.0545718176461564e-34 # kg·m^2 s^-1 - constante de Planck / 2pi\n",
    "m_e = 9.10938291e-31 # kg - masa del electron\n",
    "e = -1.602176565e-19 # C - carga eléctrica del electron\n",
    "\n",
    "# Radio de Bohr\n",
    "def a_0(Z, n):\n",
    "    return 4*pi*epsilon_0*(n**2)*(h_bar**2)/(m_e*Z*(e**2))"
   ]
  },
  {
   "cell_type": "code",
   "execution_count": 43,
   "metadata": {
    "hidePrompt": false
   },
   "outputs": [
    {
     "name": "stdout",
     "output_type": "stream",
     "text": [
      "a₀ = 0.529 Å\n"
     ]
    }
   ],
   "source": [
    "# Radio de bor para el hidrógeno en angstroms\n",
    "print(\"a₀ = {:0.3f} Å\".format( a_0(Z=1, n=1)*1e+10 ))"
   ]
  }
 ],
 "metadata": {
  "celltoolbar": "Hide code",
  "hide_code_all_hidden": true,
  "kernelspec": {
   "display_name": "Python 3",
   "language": "python",
   "name": "python3"
  },
  "language_info": {
   "codemirror_mode": {
    "name": "ipython",
    "version": 3
   },
   "file_extension": ".py",
   "mimetype": "text/x-python",
   "name": "python",
   "nbconvert_exporter": "python",
   "pygments_lexer": "ipython3",
   "version": "3.6.8"
  }
 },
 "nbformat": 4,
 "nbformat_minor": 2
}
