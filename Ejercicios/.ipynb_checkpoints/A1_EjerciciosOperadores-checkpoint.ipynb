{
 "cells": [
  {
   "cell_type": "code",
   "execution_count": 2,
   "metadata": {},
   "outputs": [],
   "source": [
    "from sympy import *"
   ]
  },
  {
   "cell_type": "code",
   "execution_count": 3,
   "metadata": {},
   "outputs": [],
   "source": [
    "x = symbols('x')"
   ]
  },
  {
   "cell_type": "code",
   "execution_count": 4,
   "metadata": {},
   "outputs": [],
   "source": [
    "# f(x) = x*e^x\n",
    "def f(x):\n",
    "    return x*exp(x)"
   ]
  },
  {
   "cell_type": "code",
   "execution_count": 5,
   "metadata": {},
   "outputs": [
    {
     "data": {
      "text/latex": [
       "$\\displaystyle x e^{x} + e^{x}$"
      ],
      "text/plain": [
       "x*exp(x) + exp(x)"
      ]
     },
     "execution_count": 5,
     "metadata": {},
     "output_type": "execute_result"
    }
   ],
   "source": [
    "df_dx = diff(f(x), x)\n",
    "df_dx"
   ]
  },
  {
   "cell_type": "code",
   "execution_count": 15,
   "metadata": {},
   "outputs": [
    {
     "data": {
      "text/latex": [
       "$\\displaystyle \\left(1 - 4 x^{2}\\right) e^{2 x}$"
      ],
      "text/plain": [
       "(1 - 4*x**2)*exp(2*x)"
      ]
     },
     "execution_count": 15,
     "metadata": {},
     "output_type": "execute_result"
    }
   ],
   "source": [
    "# Â = (d/dx - 3)(d/dx + 1)\n",
    "simplify((df_dx - 3*f(x))*(df_dx + f(x)))"
   ]
  },
  {
   "cell_type": "code",
   "execution_count": 23,
   "metadata": {},
   "outputs": [],
   "source": [
    "# Â = (d/dx - 3)(d/dx + 1)\n",
    "def opA(f_x):\n",
    "    return (diff(f_x, x) -3*f_x)*(diff(f_x, x) + f_x)"
   ]
  },
  {
   "cell_type": "code",
   "execution_count": 24,
   "metadata": {},
   "outputs": [
    {
     "data": {
      "text/latex": [
       "$\\displaystyle \\left(1 - 4 x^{2}\\right) e^{2 x}$"
      ],
      "text/plain": [
       "(1 - 4*x**2)*exp(2*x)"
      ]
     },
     "execution_count": 24,
     "metadata": {},
     "output_type": "execute_result"
    }
   ],
   "source": [
    "simplify(opA(f(x)))"
   ]
  },
  {
   "cell_type": "markdown",
   "metadata": {},
   "source": [
    "Esta es una ceda markdown $x^2$"
   ]
  },
  {
   "cell_type": "code",
   "execution_count": 1,
   "metadata": {},
   "outputs": [],
   "source": [
    "a=125.25"
   ]
  },
  {
   "cell_type": "markdown",
   "metadata": {
    "variables": {
     "'<span class=\"MathJax_Preview\" style=\"color: inherit;\"></span><span class=\"MathJax\" id=\"MathJax-Element-6-Frame\" tabindex=\"0\" style=\"\"><nobr><span class=\"math\" id=\"MathJax-Span-70\" style=\"width: 2.955em; display: inline-block;\"><span style=\"display: inline-block; position: relative; width: 2.423em; height: 0px; font-size: 121%;\"><span style=\"position: absolute; clip: rect(1.656em, 1002.42em, 2.836em, -999.997em); top: -2.476em; left: 0em;\"><span class=\"mrow\" id=\"MathJax-Span-71\"><span class=\"texatom\" id=\"MathJax-Span-72\"><span class=\"mrow\" id=\"MathJax-Span-73\"><span class=\"mo\" id=\"MathJax-Span-74\" style=\"font-family: STIXMathJax_Main;\">:</span><span class=\"mn\" id=\"MathJax-Span-75\" style=\"font-family: STIXMathJax_Main; padding-left: 0.298em;\">0.3</span><span class=\"mi\" id=\"MathJax-Span-76\" style=\"font-family: STIXMathJax_Normal-italic;\">𝑓<span style=\"display: inline-block; overflow: hidden; height: 1px; width: 0.062em;\"></span></span></span></span></span><span style=\"display: inline-block; width: 0px; height: 2.482em;\"></span></span></span><span style=\"display: inline-block; overflow: hidden; vertical-align: -0.282em; border-left: 0px solid; width: 0px; height: 1.218em;\"></span></span></nobr></span><script type=\"math/tex\" id=\"MathJax-Element-6\">{:0.3f}</script>'.format(a)": "<p><strong>NameError</strong>: name &#39;a&#39; is not defined</p>\n",
     "'<span class=\"MathJax_Preview\" style=\"color: inherit;\"><span class=\"MJXp-math\" id=\"MJXp-Span-146\"><span class=\"MJXp-mrow\" id=\"MJXp-Span-147\"><span class=\"MJXp-mo\" id=\"MJXp-Span-148\" style=\"margin-left: 0.111em; margin-right: 0.167em;\">:</span><span class=\"MJXp-mn\" id=\"MJXp-Span-149\">0.3</span><span class=\"MJXp-mi MJXp-italic\" id=\"MJXp-Span-150\">f</span></span></span></span><script type=\"math/tex\" id=\"MathJax-Element-16\">{:0.3f}</script>'.format(a)": "<span class=\"MathJax_Preview\" style=\"color: inherit;\"><span class=\"MJXp-math\" id=\"MJXp-Span-146\"><span class=\"MJXp-mrow\" id=\"MJXp-Span-147\"><span class=\"MJXp-mo\" id=\"MJXp-Span-148\" style=\"margin-left: 0.111em; margin-right: 0.167em;\">:</span><span class=\"MJXp-mn\" id=\"MJXp-Span-149\">0.3</span><span class=\"MJXp-mi MJXp-italic\" id=\"MJXp-Span-150\">f</span></span></span></span><script type=\"math/tex\" id=\"MathJax-Element-16\">125.250</script>",
     "b": "$x^2 =125.250 + \\pi_{x1}$"
    }
   },
   "source": [
    "Esta es una celda markdown {{b}}\n",
    "\n",
    "asdsad\n",
    "$x^2 =$ {{'${:0.3f}$'.format(a)}}"
   ]
  },
  {
   "cell_type": "code",
   "execution_count": 6,
   "metadata": {},
   "outputs": [
    {
     "data": {
      "text/latex": [
       "$\\displaystyle x e^{x} + e^{x}$"
      ],
      "text/plain": [
       "x*exp(x) + exp(x)"
      ]
     },
     "execution_count": 6,
     "metadata": {},
     "output_type": "execute_result"
    }
   ],
   "source": [
    "df_dx"
   ]
  },
  {
   "cell_type": "code",
   "execution_count": 12,
   "metadata": {},
   "outputs": [],
   "source": [
    "b=8"
   ]
  },
  {
   "cell_type": "code",
   "execution_count": 11,
   "metadata": {},
   "outputs": [
    {
     "data": {
      "text/plain": [
       "'x e^{x} + e^{x}'"
      ]
     },
     "execution_count": 11,
     "metadata": {},
     "output_type": "execute_result"
    }
   ],
   "source": [
    "latex(df_dx)"
   ]
  },
  {
   "cell_type": "code",
   "execution_count": null,
   "metadata": {},
   "outputs": [],
   "source": []
  }
 ],
 "metadata": {
  "kernelspec": {
   "display_name": "Python 3",
   "language": "python",
   "name": "python3"
  },
  "language_info": {
   "codemirror_mode": {
    "name": "ipython",
    "version": 3
   },
   "file_extension": ".py",
   "mimetype": "text/x-python",
   "name": "python",
   "nbconvert_exporter": "python",
   "pygments_lexer": "ipython3",
   "version": "3.6.8"
  }
 },
 "nbformat": 4,
 "nbformat_minor": 2
}
