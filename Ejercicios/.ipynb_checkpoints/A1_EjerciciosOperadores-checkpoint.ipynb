{
 "cells": [
  {
   "cell_type": "code",
   "execution_count": 5,
   "metadata": {},
   "outputs": [],
   "source": [
    "from sympy import *"
   ]
  },
  {
   "cell_type": "code",
   "execution_count": 6,
   "metadata": {},
   "outputs": [],
   "source": [
    "x = symbols('x')"
   ]
  },
  {
   "cell_type": "code",
   "execution_count": 7,
   "metadata": {},
   "outputs": [],
   "source": [
    "# f(x) = x*e^x\n",
    "def f(x):\n",
    "    return x*exp(x)"
   ]
  },
  {
   "cell_type": "code",
   "execution_count": 8,
   "metadata": {},
   "outputs": [
    {
     "data": {
      "text/latex": [
       "$\\displaystyle x e^{x} + e^{x}$"
      ],
      "text/plain": [
       "x*exp(x) + exp(x)"
      ]
     },
     "execution_count": 8,
     "metadata": {},
     "output_type": "execute_result"
    }
   ],
   "source": [
    "df_dx = diff(f(x), x)\n",
    "df_dx"
   ]
  },
  {
   "cell_type": "code",
   "execution_count": 19,
   "metadata": {},
   "outputs": [],
   "source": [
    "# Â = (d/dx - 3)(d/dx + 1)\n",
    "# Â = Ĉ · Ê\n",
    "# Ĉ = (d/dx - 3)\n",
    "# Ê = (d/dx + 1)\n",
    "def opA(f_x):\n",
    "    e = df_dx + f(x)\n",
    "    return (diff(e, x) - 3*c)"
   ]
  },
  {
   "cell_type": "code",
   "execution_count": 20,
   "metadata": {},
   "outputs": [
    {
     "data": {
      "text/latex": [
       "$\\displaystyle - 4 x e^{x}$"
      ],
      "text/plain": [
       "-4*x*exp(x)"
      ]
     },
     "execution_count": 20,
     "metadata": {},
     "output_type": "execute_result"
    }
   ],
   "source": [
    "opA(f(x))"
   ]
  },
  {
   "cell_type": "markdown",
   "metadata": {},
   "source": [
    "$\\hat{A} f(x) = -4 x e^x$, por lo tanto $f(x)=x e^x$ es una función propia de $\\hat{A}$ con $k=-4$, tal que:\n",
    "\n",
    "$$\\hat{A}f(x) = k \\cdot f(x)$$"
   ]
  }
 ],
 "metadata": {
  "kernelspec": {
   "display_name": "Python 3",
   "language": "python",
   "name": "python3"
  },
  "language_info": {
   "codemirror_mode": {
    "name": "ipython",
    "version": 3
   },
   "file_extension": ".py",
   "mimetype": "text/x-python",
   "name": "python",
   "nbconvert_exporter": "python",
   "pygments_lexer": "ipython3",
   "version": "3.6.8"
  }
 },
 "nbformat": 4,
 "nbformat_minor": 2
}
