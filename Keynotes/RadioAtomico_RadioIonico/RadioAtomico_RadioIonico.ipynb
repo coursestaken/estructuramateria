{
 "cells": [
  {
   "cell_type": "markdown",
   "metadata": {
    "hideCode": false,
    "hidePrompt": false,
    "slideshow": {
     "slide_type": "skip"
    }
   },
   "source": []
  },
  {
   "cell_type": "markdown",
   "metadata": {
    "hideCode": false,
    "hidePrompt": false,
    "slideshow": {
     "slide_type": "slide"
    }
   },
   "source": [
    "# Radio atómico y radio iónico\n",
    "\n",
    "### Estructura de la materia\n",
    "\n",
    "septiembre 2019"
   ]
  },
  {
   "cell_type": "markdown",
   "metadata": {
    "hideCode": false,
    "hidePrompt": false,
    "slideshow": {
     "slide_type": "slide"
    }
   },
   "source": [
    "## Contenido"
   ]
  },
  {
   "cell_type": "markdown",
   "metadata": {
    "hideCode": false,
    "hidePrompt": false,
    "slideshow": {
     "slide_type": "fragment"
    }
   },
   "source": [
    "+ Definición."
   ]
  },
  {
   "cell_type": "markdown",
   "metadata": {
    "hideCode": false,
    "hidePrompt": false,
    "slideshow": {
     "slide_type": "fragment"
    }
   },
   "source": [
    "+ Magnitud comparada. Desarrollo de intuición."
   ]
  },
  {
   "cell_type": "markdown",
   "metadata": {
    "hideCode": false,
    "hidePrompt": false,
    "slideshow": {
     "slide_type": "fragment"
    }
   },
   "source": [
    "+ Tendencias periódicas."
   ]
  },
  {
   "cell_type": "markdown",
   "metadata": {
    "hideCode": false,
    "hidePrompt": false,
    "slideshow": {
     "slide_type": "fragment"
    }
   },
   "source": [
    "+ Ejercicios."
   ]
  },
  {
   "cell_type": "markdown",
   "metadata": {
    "hideCode": false,
    "hidePrompt": false,
    "slideshow": {
     "slide_type": "skip"
    }
   },
   "source": [
    "### ~ ~ ~ ~ ~ ~ ~ ~ ~ ~ ~ ~ ~ ~"
   ]
  },
  {
   "cell_type": "markdown",
   "metadata": {
    "hideCode": false,
    "hidePrompt": true,
    "slideshow": {
     "slide_type": "slide"
    }
   },
   "source": [
    "# Radio atómico"
   ]
  },
  {
   "cell_type": "markdown",
   "metadata": {
    "slideshow": {
     "slide_type": "slide"
    }
   },
   "source": [
    "### Contexto:"
   ]
  },
  {
   "cell_type": "markdown",
   "metadata": {
    "slideshow": {
     "slide_type": "fragment"
    }
   },
   "source": [
    "+ Propiedades físicas relacionadas con el tamaño de los átomos\n",
    "    + Densidad.\n",
    "    + Punto de fusión.\n",
    "    + Punto de ebullición."
   ]
  },
  {
   "cell_type": "markdown",
   "metadata": {
    "slideshow": {
     "slide_type": "fragment"
    }
   },
   "source": [
    "+ Determinar el tamaño de los átomos es un proceso complejo."
   ]
  },
  {
   "cell_type": "markdown",
   "metadata": {
    "slideshow": {
     "slide_type": "slide"
    }
   },
   "source": [
    "+ **Propuesta de tamaño atómico**:  el volumen que contienen alrededor del 90% de la densidad electrónica total alrededor del núcleo.\n",
    "\n",
    "<center>\n",
    "<img src=\"media/densidad_electronica.svg\" width=500px style=\"background:none; border:none; box-shadow:none;\">\n",
    "</center>"
   ]
  },
  {
   "cell_type": "markdown",
   "metadata": {
    "slideshow": {
     "slide_type": "slide"
    }
   },
   "source": [
    "+ **Propuesta de tamaño atómico**:  el volumen que contienen alrededor del 90% de la densidad electrónica total alrededor del núcleo.\n",
    "\n",
    "<center>\n",
    "<img src=\"media/densidad_electronica_90.svg\" width=500px style=\"background:none; border:none; box-shadow:none;\">\n",
    "</center>"
   ]
  },
  {
   "cell_type": "markdown",
   "metadata": {
    "slideshow": {
     "slide_type": "slide"
    }
   },
   "source": [
    "### Contexto:\n",
    "\n",
    "+ Para **1920** es posible determinar el tamaño atómico por difracción de rayos X."
   ]
  },
  {
   "cell_type": "markdown",
   "metadata": {
    "slideshow": {
     "slide_type": "fragment"
    }
   },
   "source": [
    "+ Se sugiere que todos los átomos de un mismo elemento tienen el mismo radio."
   ]
  },
  {
   "cell_type": "markdown",
   "metadata": {
    "slideshow": {
     "slide_type": "fragment"
    }
   },
   "source": [
    "+ En **1923** se determinó que la aproximación de un átomo como una esfera no se mantiene necesariamente cuando se compara el mismo átomo en cristales con diferentes estructuras."
   ]
  },
  {
   "cell_type": "markdown",
   "metadata": {
    "slideshow": {
     "slide_type": "slide"
    }
   },
   "source": [
    "## Radio atómico\n",
    "\n",
    "Mitad de la distancia internuclear de dos átomos adyacentes del mismo elemento.\n",
    "\n"
   ]
  },
  {
   "cell_type": "markdown",
   "metadata": {
    "slideshow": {
     "slide_type": "slide"
    }
   },
   "source": [
    "Para los **elementos cuyos átomos** se unen **formando una red tridimensional**, el rádio atómico es la **mitad de la distancia entro los núcleos** de dos átomos vecinos.\n",
    "\n",
    "<center>\n",
    "<img src=\"media/RA_Red.png\" width=350px style=\"background:none; border:none; box-shadow:none;\">\n",
    "</center>"
   ]
  },
  {
   "cell_type": "markdown",
   "metadata": {
    "slideshow": {
     "slide_type": "slide"
    }
   },
   "source": [
    "Para los **elementos que esisten como moléculas diatómicas**, el radio atómico es la mitad de la distancia emtre los **centros de los átomos en la molécula**.\n",
    "\n",
    "<center>\n",
    "<img src=\"media/RA_Diatom.png\" width=350px style=\"background:none; border:none; box-shadow:none;\">\n",
    "</center>"
   ]
  },
  {
   "cell_type": "markdown",
   "metadata": {
    "hideCode": false,
    "hidePrompt": false,
    "slideshow": {
     "slide_type": "slide"
    }
   },
   "source": [
    "## ¿Cómo cambia el radio atómico entre elementos vecinos?\n",
    "\n",
    "\n",
    "<center>\n",
    "<img src=\"media/Periodic_table.svg\" width=900px style=\"background:none; border:none; box-shadow:none;\">\n",
    "</center>"
   ]
  },
  {
   "cell_type": "markdown",
   "metadata": {
    "slideshow": {
     "slide_type": "slide"
    }
   },
   "source": [
    "\n",
    "<center>\n",
    "<img src=\"media/RA_Periodo.svg\" width=1000px style=\"background:none; border:none; box-shadow:none;\">\n",
    "</center>"
   ]
  },
  {
   "cell_type": "markdown",
   "metadata": {
    "slideshow": {
     "slide_type": "slide"
    }
   },
   "source": [
    "\n",
    "<center>\n",
    "<img src=\"media/RA_Periodo_wZ.svg\" width=1000px style=\"background:none; border:none; box-shadow:none;\">\n",
    "</center>"
   ]
  },
  {
   "cell_type": "markdown",
   "metadata": {
    "slideshow": {
     "slide_type": "slide"
    }
   },
   "source": [
    "<center>\n",
    "<img src=\"media/RA_Grupo.svg\" width=1000px style=\"background:none; border:none; box-shadow:none;\">\n",
    "</center>"
   ]
  },
  {
   "cell_type": "markdown",
   "metadata": {
    "slideshow": {
     "slide_type": "slide"
    }
   },
   "source": [
    "<center>\n",
    "<img src=\"media/RA_Grupo_wZ.svg\" width=1000px style=\"background:none; border:none; box-shadow:none;\">\n",
    "</center>"
   ]
  },
  {
   "cell_type": "markdown",
   "metadata": {
    "slideshow": {
     "slide_type": "slide"
    }
   },
   "source": [
    "## Tendencias periódicas\n",
    "\n",
    "<center>\n",
    "<img src=\"media/TendenciaPeriodica.svg\" width=1000px style=\"background:none; border:none; box-shadow:none;\">\n",
    "</center>"
   ]
  },
  {
   "cell_type": "markdown",
   "metadata": {
    "slideshow": {
     "slide_type": "slide"
    }
   },
   "source": [
    "## Ejercicio\n",
    "\n",
    "### Ordene los siguientes elementos de menor a mayor radio atómico B, F, I.\n",
    "\n",
    "<center>\n",
    "<img src=\"media/Exercise1_1.svg\" width=800px style=\"background:none; border:none; box-shadow:none;\">\n",
    "</center>"
   ]
  },
  {
   "cell_type": "markdown",
   "metadata": {
    "slideshow": {
     "slide_type": "fragment"
    }
   },
   "source": [
    "+ **F, B, I**"
   ]
  },
  {
   "cell_type": "markdown",
   "metadata": {
    "slideshow": {
     "slide_type": "slide"
    }
   },
   "source": [
    "+ **F, B, I**\n",
    "+ $Z^* = \\;$ **F: 5.1;  B: 2.421; I: 11.612**\n",
    "\n",
    "<center>\n",
    "<img src=\"media/TendenciaPeriodica.svg\" width=1000px style=\"background:none; border:none; box-shadow:none;\">\n",
    "</center>"
   ]
  },
  {
   "cell_type": "markdown",
   "metadata": {
    "hideCode": false,
    "hidePrompt": false,
    "slideshow": {
     "slide_type": "slide"
    }
   },
   "source": [
    "# Radio iónico"
   ]
  },
  {
   "cell_type": "markdown",
   "metadata": {
    "hideCode": false,
    "hidePrompt": false,
    "slideshow": {
     "slide_type": "slide"
    }
   },
   "source": [
    "## Radio Iónico\n",
    "\n",
    "+ Es el **radio de un catión o un anión**."
   ]
  },
  {
   "cell_type": "markdown",
   "metadata": {
    "hideCode": false,
    "hidePrompt": false,
    "slideshow": {
     "slide_type": "fragment"
    }
   },
   "source": [
    "+ Afecta las propiedades físicas y químicas de un compuesto iónico."
   ]
  },
  {
   "cell_type": "markdown",
   "metadata": {
    "hideCode": false,
    "hidePrompt": false,
    "slideshow": {
     "slide_type": "fragment"
    }
   },
   "source": [
    "+ Cuando un átomo neutro se convierte en un ion, se espera un cambio en el tamaño.\n",
    "    + La nube electrónica se contrae o se expande."
   ]
  },
  {
   "cell_type": "markdown",
   "metadata": {
    "hideCode": false,
    "hidePrompt": false,
    "slideshow": {
     "slide_type": "slide"
    }
   },
   "source": [
    "## Cambio de radio en un catión\n",
    "\n",
    "+ La carga nuclear $Z$ permanece constante.\n",
    "+ Pero al perder electrones:\n",
    "    + disminuye el efecto de apantallamiento aumentando así la carga nuclear efectiva,\n",
    "    + el efecto de la repulsión entre electrones disminuye, así\n",
    "+ **Disminuye el radio del ion**.\n",
    "\n",
    "<center>\n",
    "<img src=\"media/Cation.svg\" width=650px style=\"background:none; border:none; box-shadow:none;\">\n",
    "</center>"
   ]
  },
  {
   "cell_type": "markdown",
   "metadata": {
    "hideCode": false,
    "hidePrompt": false,
    "slideshow": {
     "slide_type": "slide"
    }
   },
   "source": [
    "## Cambio de radio en un anión\n",
    "\n",
    "+ La carga nuclear $Z$ permanece constante.\n",
    "+ Pero al agregar electrones:\n",
    "    + aumenta el efecto de apantallamiento disminuyendo así la carga nuclear efectiva,\n",
    "    + el efecto de la repulsión entre electrones se incrementa, así\n",
    "+ **Aumenta el radio del ion**.\n",
    "\n",
    "<center>\n",
    "<img src=\"media/Anion.svg\" width=650px style=\"background:none; border:none; box-shadow:none;\">\n",
    "</center>"
   ]
  },
  {
   "cell_type": "markdown",
   "metadata": {
    "hideCode": false,
    "hidePrompt": false,
    "slideshow": {
     "slide_type": "slide"
    }
   },
   "source": [
    "## Comparación de radios atómicos y radios iónicos\n",
    "\n",
    "<center>\n",
    "<img src=\"media/CompraracionRARI.png\" width=800px style=\"background:none; border:none; box-shadow:none;\">\n",
    "</center>"
   ]
  },
  {
   "cell_type": "markdown",
   "metadata": {
    "hideCode": false,
    "hidePrompt": false,
    "slideshow": {
     "slide_type": "slide"
    }
   },
   "source": [
    "## Ejercicio\n",
    "\n",
    "### En una tabla de datos se dice que los radios de los iones Ti$^{2+}$ y Ti$^{3+}$ son $0.60$ y $0.90$ angstroms, pero no se indica qué valor corresponde a qué ión. Realiza una asignación razonable de valores."
   ]
  },
  {
   "cell_type": "markdown",
   "metadata": {
    "slideshow": {
     "slide_type": "fragment"
    }
   },
   "source": [
    "+ 0.9 angstroms corresponde a Ti$^{2+}$\n",
    "+ 0.6 angstroms corresponde a Ti$^{3+}$"
   ]
  },
  {
   "cell_type": "markdown",
   "metadata": {
    "slideshow": {
     "slide_type": "slide"
    }
   },
   "source": [
    "## Ejercicio\n",
    "\n",
    "### Los iones S$^{2-}$, Cl$^{-}$, K$^{+}$ y Ca$^{2+}$ son isoelectricos. Es decir, tienen la misma estructura electrónica, la del argón. Indique el orden correcto de sus radios atómicos.\n",
    "\n",
    "<center>\n",
    "<img src=\"media/Exercise3_1.svg\" width=800px style=\"background:none; border:none; box-shadow:none;\">\n",
    "</center>"
   ]
  },
  {
   "cell_type": "markdown",
   "metadata": {
    "slideshow": {
     "slide_type": "fragment"
    }
   },
   "source": [
    "+ S$^{2-} >$ Cl$^{-} >$ K$^{+} >$ Ca$^{2+}$"
   ]
  },
  {
   "cell_type": "markdown",
   "metadata": {
    "slideshow": {
     "slide_type": "slide"
    }
   },
   "source": [
    "+ S$^{2-} >$ Cl$^{-} >$ K$^{+} >$ Ca$^{2+}$\n",
    "\n",
    "<center>\n",
    "<img src=\"media/RI_AlgunosElementos.png\" width=800px style=\"background:none; border:none; box-shadow:none;\">\n",
    "</center>"
   ]
  },
  {
   "cell_type": "markdown",
   "metadata": {
    "slideshow": {
     "slide_type": "fragment"
    }
   },
   "source": [
    "+ S$^{2-}$: (16p / 18e); Cl$^{-}$: (17p / 18e); K$^{+}$: (19p / 18e); Ca$^{2+}$: (20p / 18e)"
   ]
  },
  {
   "cell_type": "markdown",
   "metadata": {
    "slideshow": {
     "slide_type": "slide"
    }
   },
   "source": [
    "+ S$^{2-} >$ Cl$^{-} >$ K$^{+} >$ Ca$^{2+}$"
   ]
  },
  {
   "cell_type": "markdown",
   "metadata": {
    "slideshow": {
     "slide_type": "fragment"
    }
   },
   "source": [
    "S$^{2-}$ (16p/18e): 1s2 2s2 2p6 3s2 3p6"
   ]
  },
  {
   "cell_type": "code",
   "execution_count": 4,
   "metadata": {
    "slideshow": {
     "slide_type": "fragment"
    }
   },
   "outputs": [
    {
     "name": "stdout",
     "output_type": "stream",
     "text": [
      "11.236\n"
     ]
    },
    {
     "data": {
      "text/plain": [
       "4.763999999999999"
      ]
     },
     "execution_count": 4,
     "metadata": {},
     "output_type": "execute_result"
    }
   ],
   "source": [
    "S3p = 9.3345+0.3803*(6-1); print(S3p)\n",
    "Zef = 16 - S3p; Zef"
   ]
  },
  {
   "cell_type": "markdown",
   "metadata": {
    "slideshow": {
     "slide_type": "fragment"
    }
   },
   "source": [
    "Cl$^{-}$ (17p/18e): 1s2 2s2 2p6 3s2 3p6"
   ]
  },
  {
   "cell_type": "code",
   "execution_count": 5,
   "metadata": {
    "slideshow": {
     "slide_type": "fragment"
    }
   },
   "outputs": [
    {
     "data": {
      "text/plain": [
       "5.763999999999999"
      ]
     },
     "execution_count": 5,
     "metadata": {},
     "output_type": "execute_result"
    }
   ],
   "source": [
    "Zef = 17 - S3p; Zef"
   ]
  },
  {
   "cell_type": "markdown",
   "metadata": {
    "slideshow": {
     "slide_type": "slide"
    }
   },
   "source": [
    "K$^{+}$ (19p/18e): 1s2 2s2 2p6 3s2 3p6"
   ]
  },
  {
   "cell_type": "code",
   "execution_count": 6,
   "metadata": {
    "slideshow": {
     "slide_type": "fragment"
    }
   },
   "outputs": [
    {
     "data": {
      "text/plain": [
       "7.763999999999999"
      ]
     },
     "execution_count": 6,
     "metadata": {},
     "output_type": "execute_result"
    }
   ],
   "source": [
    "Zef = 19 - S3p; Zef"
   ]
  },
  {
   "cell_type": "markdown",
   "metadata": {
    "slideshow": {
     "slide_type": "fragment"
    }
   },
   "source": [
    "Ca$^{2+}$ (20p/18e): 1s2 2s2 2p6 3s2 3p6"
   ]
  },
  {
   "cell_type": "code",
   "execution_count": 7,
   "metadata": {
    "slideshow": {
     "slide_type": "fragment"
    }
   },
   "outputs": [
    {
     "data": {
      "text/plain": [
       "8.764"
      ]
     },
     "execution_count": 7,
     "metadata": {},
     "output_type": "execute_result"
    }
   ],
   "source": [
    "Zef = 20 - S3p; Zef"
   ]
  },
  {
   "cell_type": "markdown",
   "metadata": {
    "slideshow": {
     "slide_type": "fragment"
    }
   },
   "source": [
    "+ $Z^* = \\;$ S$^{2-}$: 4.764; Cl$^{-}$: 5.764; K$^{+}$: 7.764; Ca$^{2+}$: 8.764"
   ]
  },
  {
   "cell_type": "markdown",
   "metadata": {
    "hideCode": false,
    "hidePrompt": false,
    "slideshow": {
     "slide_type": "skip"
    }
   },
   "source": [
    "### EXTRAS ~ ~ ~ ~ ~ ~ ~ ~ ~ ~ ~ ~ ~ ~ ~"
   ]
  },
  {
   "cell_type": "markdown",
   "metadata": {
    "hideCode": false,
    "hidePrompt": false,
    "slideshow": {
     "slide_type": "slide"
    }
   },
   "source": [
    " "
   ]
  },
  {
   "cell_type": "markdown",
   "metadata": {
    "slideshow": {
     "slide_type": "slide"
    }
   },
   "source": [
    "## Definiciones relacionadas:\n",
    "\n",
    "Algunas definiciones ampliamente usadas de radio atómico incluyen:\n",
    "\n",
    "+ **Radio de Van der Waals**: en principio, la mitad de la distancia mínima entre los núcleos de dos átomos del elemento que no están vinculados a la misma molécula.\n",
    "\n",
    "+ **Radio covalente**: el radio nominal de los átomos de un elemento cuando tienen enlace covalente con otros átomos, como se deduce de la separación entre los núcleos atómicos en las moléculas. En principio, la distancia entre dos átomos que están unidos el uno al otro en una molécula (la longitud de ese enlace covalente) debe ser igual a la suma de sus radios covalentes.\n",
    "\n",
    "+ **Radio metálico**: el radio nominal de átomos de un elemento cuando se unen a otros átomos por enlace metálico."
   ]
  },
  {
   "cell_type": "markdown",
   "metadata": {
    "slideshow": {
     "slide_type": "slide"
    }
   },
   "source": [
    "## Definiciones relacionadas:\n",
    "\n",
    "+ **Radio de Bohr**: el radio de la órbita del electrón de menor energía predicho por el modelo de Bohr del átomo (1913). Es aplicable únicamente a los átomos e iones con un solo electrón, como el hidrógeno, helio simplemente ionizado, y positronio. Aunque el modelo en sí ya está obsoleto, el radio de Bohr para el átomo de hidrógeno se  considera una constante física importante."
   ]
  },
  {
   "cell_type": "markdown",
   "metadata": {
    "slideshow": {
     "slide_type": "slide"
    }
   },
   "source": [
    "## Definiciones relacionadas:\n",
    "\n",
    "+ **Radio iónico**: el radio nominal de los iones de un elemento en un estado de ionización específica, deducida a partir de la separación de los núcleos atómicos en sales cristalinas que incluyen el ion. En principio, la separación entre dos iones de carga opuesta adyacentes debe ser igual a la suma de sus radios iónicos."
   ]
  },
  {
   "cell_type": "markdown",
   "metadata": {
    "slideshow": {
     "slide_type": "slide"
    }
   },
   "source": [
    " "
   ]
  },
  {
   "cell_type": "markdown",
   "metadata": {
    "hideCode": false,
    "hidePrompt": false,
    "slideshow": {
     "slide_type": "skip"
    }
   },
   "source": [
    "https://es-puraquimica.weebly.com/radios-atomico-e-ionico.html\n",
    "http://www.iesdmjac.educa.aragon.es/departamentos/fq/temasweb/QUI2BAC/QUI2BAC%20Tema%207%20Estructura%20atomica%20y%20sistema%20periodico/81_radio_atmico.html\n",
    "https://www.youtube.com/watch?v=X47LBV4jJ8A"
   ]
  }
 ],
 "metadata": {
  "celltoolbar": "Slideshow",
  "hide_code_all_hidden": false,
  "kernelspec": {
   "display_name": "Python 3",
   "language": "python",
   "name": "python3"
  },
  "language_info": {
   "codemirror_mode": {
    "name": "ipython",
    "version": 3
   },
   "file_extension": ".py",
   "mimetype": "text/x-python",
   "name": "python",
   "nbconvert_exporter": "python",
   "pygments_lexer": "ipython3",
   "version": "3.6.8"
  },
  "rise": {
   "transition": "none"
  }
 },
 "nbformat": 4,
 "nbformat_minor": 2
}
