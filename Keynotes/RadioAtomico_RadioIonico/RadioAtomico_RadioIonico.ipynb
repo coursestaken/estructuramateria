{
 "cells": [
  {
   "cell_type": "markdown",
   "metadata": {
    "slideshow": {
     "slide_type": "slide"
    }
   },
   "source": [
    "# Radio atómico y radio iónico\n",
    "\n",
    "### Estructura de la materia"
   ]
  },
  {
   "cell_type": "markdown",
   "metadata": {
    "slideshow": {
     "slide_type": "skip"
    }
   },
   "source": [
    "### Chamg\n",
    "\n",
    "+ Radio atómica: 297\n",
    "+ Radio ionico: 299\n",
    "+ Ejercicios: \n",
    "\n",
    "\n",
    "### Hughey"
   ]
  }
 ],
 "metadata": {
  "celltoolbar": "Slideshow",
  "kernelspec": {
   "display_name": "Python 3",
   "language": "python",
   "name": "python3"
  },
  "language_info": {
   "codemirror_mode": {
    "name": "ipython",
    "version": 3
   },
   "file_extension": ".py",
   "mimetype": "text/x-python",
   "name": "python",
   "nbconvert_exporter": "python",
   "pygments_lexer": "ipython3",
   "version": "3.6.8"
  }
 },
 "nbformat": 4,
 "nbformat_minor": 2
}
