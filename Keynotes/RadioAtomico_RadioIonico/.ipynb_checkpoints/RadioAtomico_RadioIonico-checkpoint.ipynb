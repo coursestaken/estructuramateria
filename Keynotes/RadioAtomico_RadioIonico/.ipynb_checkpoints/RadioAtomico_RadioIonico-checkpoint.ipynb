{
 "cells": [
  {
   "cell_type": "markdown",
   "metadata": {
    "hideCode": false,
    "hidePrompt": false,
    "slideshow": {
     "slide_type": "skip"
    }
   },
   "source": []
  },
  {
   "cell_type": "markdown",
   "metadata": {
    "hideCode": false,
    "hidePrompt": false,
    "slideshow": {
     "slide_type": "slide"
    }
   },
   "source": [
    "# Radio atómico y radio iónico\n",
    "\n",
    "### Estructura de la materia\n",
    "\n",
    "septiembre 2019"
   ]
  },
  {
   "cell_type": "markdown",
   "metadata": {
    "hideCode": false,
    "hidePrompt": false,
    "slideshow": {
     "slide_type": "slide"
    }
   },
   "source": [
    "## Contenido"
   ]
  },
  {
   "cell_type": "markdown",
   "metadata": {
    "hideCode": false,
    "hidePrompt": false,
    "slideshow": {
     "slide_type": "fragment"
    }
   },
   "source": [
    "+ Definición."
   ]
  },
  {
   "cell_type": "markdown",
   "metadata": {
    "hideCode": false,
    "hidePrompt": false,
    "slideshow": {
     "slide_type": "fragment"
    }
   },
   "source": [
    "+ Magnitud comparada. Desarrollo de intuición."
   ]
  },
  {
   "cell_type": "markdown",
   "metadata": {
    "hideCode": false,
    "hidePrompt": false,
    "slideshow": {
     "slide_type": "fragment"
    }
   },
   "source": [
    "+ Tendencias periódicas."
   ]
  },
  {
   "cell_type": "markdown",
   "metadata": {
    "hideCode": false,
    "hidePrompt": false,
    "slideshow": {
     "slide_type": "fragment"
    }
   },
   "source": [
    "+ Ejercicios."
   ]
  },
  {
   "cell_type": "markdown",
   "metadata": {
    "hideCode": false,
    "hidePrompt": false,
    "slideshow": {
     "slide_type": "skip"
    }
   },
   "source": [
    "### ~ ~ ~ ~ ~ ~ ~ ~ ~ ~ ~ ~ ~ ~"
   ]
  },
  {
   "cell_type": "markdown",
   "metadata": {
    "hideCode": false,
    "hidePrompt": true,
    "slideshow": {
     "slide_type": "slide"
    }
   },
   "source": [
    "# Radio atómico"
   ]
  },
  {
   "cell_type": "markdown",
   "metadata": {
    "slideshow": {
     "slide_type": "slide"
    }
   },
   "source": [
    "### Contexto:"
   ]
  },
  {
   "cell_type": "markdown",
   "metadata": {
    "slideshow": {
     "slide_type": "fragment"
    }
   },
   "source": [
    "+ Propiedades físicas relacionadas con el tamaño de los átomos\n",
    "    + Densidad.\n",
    "    + Punto de fusión.\n",
    "    + Punto de ebullición."
   ]
  },
  {
   "cell_type": "markdown",
   "metadata": {
    "slideshow": {
     "slide_type": "fragment"
    }
   },
   "source": [
    "+ Determinar el tamaño de los átomos es un proceso complejo."
   ]
  },
  {
   "cell_type": "markdown",
   "metadata": {
    "slideshow": {
     "slide_type": "slide"
    }
   },
   "source": [
    "+ **Propuesta de tamaño atómico**:  el volumen que contienen alrededor del 90% de la densidad electrónica total alrededor del núcleo.\n",
    "\n",
    "<center>\n",
    "\n",
    "<img src=\"media/densidad_electronica.svg\" width=500px style=\"background:none; border:none; box-shadow:none;\">\n",
    "</center>"
   ]
  },
  {
   "cell_type": "markdown",
   "metadata": {
    "slideshow": {
     "slide_type": "slide"
    }
   },
   "source": [
    "+ **Propuesta de tamaño atómico**:  el volumen que contienen alrededor del 90% de la densidad electrónica total alrededor del núcleo.\n",
    "\n",
    "<center>\n",
    "\n",
    "<img src=\"media/densidad_electronica_90.svg\" width=500px style=\"background:none; border:none; box-shadow:none;\">\n",
    "</center>"
   ]
  },
  {
   "cell_type": "markdown",
   "metadata": {
    "slideshow": {
     "slide_type": "slide"
    }
   },
   "source": [
    "+ **Propuesta de tamaño atómico**:  el volumen que contienen alrededor del 90% de la densidad electrónica total alrededor del núcleo.\n",
    "\n",
    "+ Para **1920** es posible determinar el tamaño atómico por difracción de rayos X."
   ]
  },
  {
   "cell_type": "markdown",
   "metadata": {
    "slideshow": {
     "slide_type": "fragment"
    }
   },
   "source": [
    "+ Se sugiere que todos los átomos de un mismo elemento tienen el mismo radio."
   ]
  },
  {
   "cell_type": "markdown",
   "metadata": {
    "slideshow": {
     "slide_type": "fragment"
    }
   },
   "source": [
    "+ En 1923 se determinó que la aproximación de un átomo como una esfera no se mantiene necesariamente cuando se compara el mismo átomo en cristales con diferentes estructuras."
   ]
  },
  {
   "cell_type": "markdown",
   "metadata": {
    "slideshow": {
     "slide_type": "slide"
    }
   },
   "source": [
    "## Radio atómico\n",
    "\n",
    "Mitad de la distancia internuclear de dos átomos adyacentes del mismo elemento.\n",
    "\n"
   ]
  },
  {
   "cell_type": "markdown",
   "metadata": {
    "slideshow": {
     "slide_type": "slide"
    }
   },
   "source": []
  },
  {
   "cell_type": "markdown",
   "metadata": {},
   "source": []
  },
  {
   "cell_type": "markdown",
   "metadata": {},
   "source": []
  },
  {
   "cell_type": "markdown",
   "metadata": {},
   "source": []
  },
  {
   "cell_type": "markdown",
   "metadata": {
    "hideCode": false,
    "hidePrompt": false,
    "slideshow": {
     "slide_type": "slide"
    }
   },
   "source": [
    "## Intuición"
   ]
  },
  {
   "cell_type": "markdown",
   "metadata": {
    "hideCode": false,
    "hidePrompt": false,
    "slideshow": {
     "slide_type": "slide"
    }
   },
   "source": [
    "# Radio iónico"
   ]
  },
  {
   "cell_type": "markdown",
   "metadata": {
    "hideCode": false,
    "hidePrompt": false,
    "slideshow": {
     "slide_type": "slide"
    }
   },
   "source": []
  },
  {
   "cell_type": "markdown",
   "metadata": {
    "hideCode": false,
    "hidePrompt": false,
    "slideshow": {
     "slide_type": "slide"
    }
   },
   "source": []
  },
  {
   "cell_type": "markdown",
   "metadata": {
    "hideCode": false,
    "hidePrompt": false,
    "slideshow": {
     "slide_type": "skip"
    }
   },
   "source": [
    "### EXTRAS ~ ~ ~ ~ ~ ~ ~ ~ ~ ~ ~ ~ ~ ~ ~"
   ]
  },
  {
   "cell_type": "markdown",
   "metadata": {
    "slideshow": {
     "slide_type": "slide"
    }
   },
   "source": [
    "## Definiciones relacionadas:\n",
    "\n",
    "Algunas definiciones ampliamente usadas de radio atómico incluyen:\n",
    "\n",
    "+ **Radio de Van der Waals**: en principio, la mitad de la distancia mínima entre los núcleos de dos átomos del elemento que no están vinculados a la misma molécula.\n",
    "\n",
    "+ **Radio covalente**: el radio nominal de los átomos de un elemento cuando tienen enlace covalente con otros átomos, como se deduce de la separación entre los núcleos atómicos en las moléculas. En principio, la distancia entre dos átomos que están unidos el uno al otro en una molécula (la longitud de ese enlace covalente) debe ser igual a la suma de sus radios covalentes.\n",
    "\n",
    "+ **Radio metálico**: el radio nominal de átomos de un elemento cuando se unen a otros átomos por enlace metálico."
   ]
  },
  {
   "cell_type": "markdown",
   "metadata": {
    "slideshow": {
     "slide_type": "slide"
    }
   },
   "source": [
    "## Definiciones relacionadas:\n",
    "\n",
    "+ **Radio de Bohr**: el radio de la órbita del electrón de menor energía predicho por el modelo de Bohr del átomo (1913). Es aplicable únicamente a los átomos e iones con un solo electrón, como el hidrógeno, helio simplemente ionizado, y positronio. Aunque el modelo en sí ya está obsoleto, el radio de Bohr para el átomo de hidrógeno se  considera una constante física importante."
   ]
  },
  {
   "cell_type": "markdown",
   "metadata": {
    "slideshow": {
     "slide_type": "slide"
    }
   },
   "source": [
    "## Definiciones relacionadas:\n",
    "\n",
    "+ **Radio iónico**: el radio nominal de los iones de un elemento en un estado de ionización específica, deducida a partir de la separación de los núcleos atómicos en sales cristalinas que incluyen el ion. En principio, la separación entre dos iones de carga opuesta adyacentes debe ser igual a la suma de sus radios iónicos."
   ]
  },
  {
   "cell_type": "markdown",
   "metadata": {
    "hideCode": false,
    "hidePrompt": false,
    "slideshow": {
     "slide_type": "skip"
    }
   },
   "source": [
    "### Chamg\n",
    "\n",
    "+ Radio atómico: 297\n",
    "+ Radio ionico: 299\n",
    "+ Ejercicios: \n",
    "\n",
    "\n",
    "### Hughey\n",
    "\n",
    "+ Radio atómico: 306-312\n",
    "+ Radio iónico: 118-123, 307-309\n",
    "+ Termoquímicos: 124\n",
    "\n",
    "https://es-puraquimica.weebly.com/radios-atomico-e-ionico.html\n",
    "http://www.iesdmjac.educa.aragon.es/departamentos/fq/temasweb/QUI2BAC/QUI2BAC%20Tema%207%20Estructura%20atomica%20y%20sistema%20periodico/81_radio_atmico.html\n",
    "https://www.youtube.com/watch?v=X47LBV4jJ8A"
   ]
  },
  {
   "cell_type": "code",
   "execution_count": null,
   "metadata": {},
   "outputs": [],
   "source": []
  }
 ],
 "metadata": {
  "celltoolbar": "Slideshow",
  "hide_code_all_hidden": false,
  "kernelspec": {
   "display_name": "Python 3",
   "language": "python",
   "name": "python3"
  },
  "language_info": {
   "codemirror_mode": {
    "name": "ipython",
    "version": 3
   },
   "file_extension": ".py",
   "mimetype": "text/x-python",
   "name": "python",
   "nbconvert_exporter": "python",
   "pygments_lexer": "ipython3",
   "version": "3.6.8"
  },
  "rise": {
   "transition": "zoom"
  }
 },
 "nbformat": 4,
 "nbformat_minor": 2
}
